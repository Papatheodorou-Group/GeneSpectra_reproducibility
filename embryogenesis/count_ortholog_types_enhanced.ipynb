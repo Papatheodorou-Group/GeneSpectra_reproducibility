{
 "cells": [
  {
   "cell_type": "code",
   "execution_count": 1,
   "id": "6b70e285-c7cf-4d6a-98cc-66d663dcc104",
   "metadata": {},
   "outputs": [
    {
     "name": "stderr",
     "output_type": "stream",
     "text": [
      "── \u001b[1mAttaching packages\u001b[22m ─────────────────────────────────────── tidyverse 1.3.2 ──\n",
      "\u001b[32m✔\u001b[39m \u001b[34mggplot2\u001b[39m 3.3.6      \u001b[32m✔\u001b[39m \u001b[34mpurrr  \u001b[39m 0.3.4 \n",
      "\u001b[32m✔\u001b[39m \u001b[34mtibble \u001b[39m 3.1.8      \u001b[32m✔\u001b[39m \u001b[34mdplyr  \u001b[39m 1.0.10\n",
      "\u001b[32m✔\u001b[39m \u001b[34mtidyr  \u001b[39m 1.2.1      \u001b[32m✔\u001b[39m \u001b[34mstringr\u001b[39m 1.4.1 \n",
      "\u001b[32m✔\u001b[39m \u001b[34mreadr  \u001b[39m 2.1.2      \u001b[32m✔\u001b[39m \u001b[34mforcats\u001b[39m 0.5.2 \n",
      "── \u001b[1mConflicts\u001b[22m ────────────────────────────────────────── tidyverse_conflicts() ──\n",
      "\u001b[31m✖\u001b[39m \u001b[34mdplyr\u001b[39m::\u001b[32mfilter()\u001b[39m masks \u001b[34mstats\u001b[39m::filter()\n",
      "\u001b[31m✖\u001b[39m \u001b[34mdplyr\u001b[39m::\u001b[32mlag()\u001b[39m    masks \u001b[34mstats\u001b[39m::lag()\n",
      "\n",
      "Attaching package: ‘patchwork’\n",
      "\n",
      "\n",
      "The following object is masked from ‘package:cowplot’:\n",
      "\n",
      "    align_plots\n",
      "\n",
      "\n",
      "Loading required package: viridisLite\n",
      "\n",
      "\n",
      "Attaching package: ‘scales’\n",
      "\n",
      "\n",
      "The following object is masked from ‘package:viridis’:\n",
      "\n",
      "    viridis_pal\n",
      "\n",
      "\n",
      "The following object is masked from ‘package:purrr’:\n",
      "\n",
      "    discard\n",
      "\n",
      "\n",
      "The following object is masked from ‘package:readr’:\n",
      "\n",
      "    col_factor\n",
      "\n",
      "\n",
      "\n",
      "Attaching package: ‘ggpubr’\n",
      "\n",
      "\n",
      "The following object is masked from ‘package:cowplot’:\n",
      "\n",
      "    get_legend\n",
      "\n",
      "\n",
      "\n",
      "Attaching package: ‘gridExtra’\n",
      "\n",
      "\n",
      "The following object is masked from ‘package:dplyr’:\n",
      "\n",
      "    combine\n",
      "\n",
      "\n"
     ]
    }
   ],
   "source": [
    "library(tidyverse)\n",
    "source(\"/nfs/research/irene/ysong/MY_BIN/ggplot_themes.r\")"
   ]
  },
  {
   "cell_type": "code",
   "execution_count": 2,
   "id": "073a1956-a9dc-4baa-b004-699bfb3d436b",
   "metadata": {},
   "outputs": [
    {
     "name": "stderr",
     "output_type": "stream",
     "text": [
      "\u001b[1mRows: \u001b[22m\u001b[34m251\u001b[39m \u001b[1mColumns: \u001b[22m\u001b[34m9\u001b[39m\n",
      "\u001b[36m──\u001b[39m \u001b[1mColumn specification\u001b[22m \u001b[36m────────────────────────────────────────────────────────\u001b[39m\n",
      "\u001b[1mDelimiter:\u001b[22m \",\"\n",
      "\u001b[31mchr\u001b[39m (3): species_2_peptide_id, species_1_peptide_id, orthology_type\n",
      "\u001b[32mdbl\u001b[39m (6): e_value, bit score, cosine, dot, corr, mand\n",
      "\n",
      "\u001b[36mℹ\u001b[39m Use `spec()` to retrieve the full column specification for this data.\n",
      "\u001b[36mℹ\u001b[39m Specify the column types or set `show_col_types = FALSE` to quiet this message.\n"
     ]
    }
   ],
   "source": [
    "data = read_csv(\"drerio_vs_xtropicalis_cell_type_enhanced_orthologs.csv\")"
   ]
  },
  {
   "cell_type": "code",
   "execution_count": 3,
   "id": "5ed9c78e-8748-4d06-82a9-2c687c922abf",
   "metadata": {},
   "outputs": [],
   "source": [
    "counts = data %>% group_by(orthology_type) %>% count() %>% \n",
    "ungroup() %>% \n",
    "mutate(percentage = round(100*(n / sum(n)), 2)) %>% \n",
    "merge(data, by = 'orthology_type')\n"
   ]
  },
  {
   "cell_type": "code",
   "execution_count": 4,
   "id": "9443479b-d1af-469a-b251-ed3c74c6a9d7",
   "metadata": {},
   "outputs": [],
   "source": [
    "options(repr.plot.height = 3, repr.plot.width= 4)"
   ]
  },
  {
   "cell_type": "code",
   "execution_count": 5,
   "id": "c0f0996e-6904-40d7-bfd6-c88e45fb8364",
   "metadata": {},
   "outputs": [
    {
     "data": {
      "text/html": [
       "<style>\n",
       ".list-inline {list-style: none; margin:0; padding: 0}\n",
       ".list-inline>li {display: inline-block}\n",
       ".list-inline>li:not(:last-child)::after {content: \"\\00b7\"; padding: 0 .5ex}\n",
       "</style>\n",
       "<ol class=list-inline><li>'#BC3C29FF'</li><li>'#0072B5FF'</li><li>'#E18727FF'</li><li>'#20854EFF'</li></ol>\n"
      ],
      "text/latex": [
       "\\begin{enumerate*}\n",
       "\\item '\\#BC3C29FF'\n",
       "\\item '\\#0072B5FF'\n",
       "\\item '\\#E18727FF'\n",
       "\\item '\\#20854EFF'\n",
       "\\end{enumerate*}\n"
      ],
      "text/markdown": [
       "1. '#BC3C29FF'\n",
       "2. '#0072B5FF'\n",
       "3. '#E18727FF'\n",
       "4. '#20854EFF'\n",
       "\n",
       "\n"
      ],
      "text/plain": [
       "[1] \"#BC3C29FF\" \"#0072B5FF\" \"#E18727FF\" \"#20854EFF\""
      ]
     },
     "metadata": {},
     "output_type": "display_data"
    }
   ],
   "source": [
    "pal_nejm()(4)"
   ]
  },
  {
   "cell_type": "code",
   "execution_count": 6,
   "id": "401a374a-efe4-4b77-ba53-96ae71c07b6b",
   "metadata": {},
   "outputs": [],
   "source": [
    "species_1 = 'drerio'\n",
    "species_2 = 'xtropicalis'"
   ]
  },
  {
   "cell_type": "code",
   "execution_count": 7,
   "id": "76e242be-1a21-4dc6-90a9-7d79e2fee95b",
   "metadata": {},
   "outputs": [],
   "source": [
    "fig_density = counts %>% ggplot(aes(x = `bit score`)) + \n",
    "geom_density(aes(fill = orthology_type), alpha = 0.4)  + scale_fill_nejm() +\n",
    "common_0x +\n",
    "geom_label(aes(x = 50, y = 0.04,\n",
    "               label = paste0('M2M: ', counts %>% filter(orthology_type == 'M2M') %>% pull(n) %>% unique(), \" (\", counts %>% filter(orthology_type == 'M2M') %>% pull(percentage) %>% unique(), \"%)\"),\n",
    "              hjust = 0), color = '#BC3C29FF') +\n",
    "geom_label(aes(x = 50, y = 0.035, \n",
    "               label = paste0('M2O: ', counts %>% filter(orthology_type == 'M2O') %>% pull(n) %>% unique(), \" (\", counts %>% filter(orthology_type == 'M2O') %>% pull(percentage) %>% unique(), \"%)\"),\n",
    "              hjust = 0), color = '#0072B5FF') +\n",
    "geom_label(aes(x = 50, y = 0.03, \n",
    "               label = paste0('O2M: ', counts %>% filter(orthology_type == 'O2M') %>% pull(n) %>% unique(), \" (\", counts %>% filter(orthology_type == 'O2M') %>% pull(percentage) %>% unique(), \"%)\"),\n",
    "              hjust = 0), color = '#E18727FF') +\n",
    "geom_label(aes(x = 50, y = 0.025, \n",
    "               label = paste0('O2O: ', counts %>% filter(orthology_type == 'O2O') %>% pull(n) %>% unique(), \" (\", counts %>% filter(orthology_type == 'O2O') %>% pull(percentage) %>% unique(), \"%)\"),\n",
    "              hjust = 0), color = '#20854EFF')  +\n",
    "    labs(title = paste0(species_1, \" vs \", species_2))  +\n",
    "    scale_y_continuous(limits = c(0, 0.05), breaks = c(0, 0.01, 0.02, 0.03, 0.04, 0.05))\n"
   ]
  },
  {
   "cell_type": "code",
   "execution_count": 8,
   "id": "c5c00cb7-0632-4efc-9de0-bf5a39270f41",
   "metadata": {},
   "outputs": [
    {
     "data": {
      "image/png": "[encoded data removed]",
      "text/plain": [
       "plot without title"
      ]
     },
     "metadata": {
      "image/png": {
       "height": 180,
       "width": 240
      }
     },
     "output_type": "display_data"
    }
   ],
   "source": [
    "fig_density"
   ]
  },
  {
   "cell_type": "code",
   "execution_count": 9,
   "id": "0d5b3ee0-86ce-4dd2-8566-91ba9763f206",
   "metadata": {
    "scrolled": true
   },
   "outputs": [
    {
     "name": "stderr",
     "output_type": "stream",
     "text": [
      "Warning message:\n",
      "“‘mode(bg)’ differs between new and previous\n",
      "\t ==> NOT changing ‘bg’”\n"
     ]
    }
   ],
   "source": [
    "ggsave(plot = fig_density, filename = paste0(species_1, \"_vs_\", species_2, \"_enhanced_bit_score_ortho_type_density.pdf\"), height = 3, width = 3.75)\n",
    "ggsave(plot = fig_density + theme(legend.position  = 'none'), filename = paste0(species_1, \"_vs_\", species_2, \"_enhanced_bit_score_ortho_type_density.png\"), height = 2.5, width = 2.5)\n",
    "\n",
    "saveRDS(fig_density, file = paste0(species_1, \"_vs_\", species_2, \"_enhanced_bit_score_ortho_type_density.rds\"))"
   ]
  },
  {
   "cell_type": "code",
   "execution_count": null,
   "id": "5acd47f2-01ee-40dc-9e29-71b4135dc7b5",
   "metadata": {},
   "outputs": [],
   "source": []
  },
  {
   "cell_type": "code",
   "execution_count": null,
   "id": "be9f3379-5ed9-4768-b0d1-74a8ec3db7ec",
   "metadata": {},
   "outputs": [],
   "source": []
  },
  {
   "cell_type": "code",
   "execution_count": 2,
   "id": "1dcbfd97-f84c-4ae3-9361-66e2aea8ac41",
   "metadata": {},
   "outputs": [],
   "source": [
    "type_pal = c(\"M2M\" = '#BC3C29FF', \"M2O\" = \"#0072B5FF\", \"O2M\" = \"#E18727FF\", \"O2O\" = \"#20854EFF\")"
   ]
  },
  {
   "cell_type": "code",
   "execution_count": 5,
   "id": "922ee872-76c7-4137-8913-ac003537fb77",
   "metadata": {
    "scrolled": true
   },
   "outputs": [
    {
     "name": "stderr",
     "output_type": "stream",
     "text": [
      "\u001b[1mRows: \u001b[22m\u001b[34m548\u001b[39m \u001b[1mColumns: \u001b[22m\u001b[34m9\u001b[39m\n",
      "\u001b[36m──\u001b[39m \u001b[1mColumn specification\u001b[22m \u001b[36m────────────────────────────────────────────────────────\u001b[39m\n",
      "\u001b[1mDelimiter:\u001b[22m \",\"\n",
      "\u001b[31mchr\u001b[39m (3): species_2_peptide_id, species_1_peptide_id, orthology_type\n",
      "\u001b[32mdbl\u001b[39m (6): e_value, bit score, cosine, dot, corr, mand\n",
      "\n",
      "\u001b[36mℹ\u001b[39m Use `spec()` to retrieve the full column specification for this data.\n",
      "\u001b[36mℹ\u001b[39m Specify the column types or set `show_col_types = FALSE` to quiet this message.\n",
      "Warning message:\n",
      "“‘mode(bg)’ differs between new and previous\n",
      "\t ==> NOT changing ‘bg’”\n",
      "\u001b[1mRows: \u001b[22m\u001b[34m548\u001b[39m \u001b[1mColumns: \u001b[22m\u001b[34m9\u001b[39m\n",
      "\u001b[36m──\u001b[39m \u001b[1mColumn specification\u001b[22m \u001b[36m────────────────────────────────────────────────────────\u001b[39m\n",
      "\u001b[1mDelimiter:\u001b[22m \",\"\n",
      "\u001b[31mchr\u001b[39m (3): species_2_peptide_id, species_1_peptide_id, orthology_type\n",
      "\u001b[32mdbl\u001b[39m (6): e_value, bit score, cosine, dot, corr, mand\n",
      "\n",
      "\u001b[36mℹ\u001b[39m Use `spec()` to retrieve the full column specification for this data.\n",
      "\u001b[36mℹ\u001b[39m Specify the column types or set `show_col_types = FALSE` to quiet this message.\n",
      "Warning message:\n",
      "“‘mode(bg)’ differs between new and previous\n",
      "\t ==> NOT changing ‘bg’”\n",
      "\u001b[1mRows: \u001b[22m\u001b[34m593\u001b[39m \u001b[1mColumns: \u001b[22m\u001b[34m9\u001b[39m\n",
      "\u001b[36m──\u001b[39m \u001b[1mColumn specification\u001b[22m \u001b[36m────────────────────────────────────────────────────────\u001b[39m\n",
      "\u001b[1mDelimiter:\u001b[22m \",\"\n",
      "\u001b[31mchr\u001b[39m (3): species_2_peptide_id, species_1_peptide_id, orthology_type\n",
      "\u001b[32mdbl\u001b[39m (6): e_value, bit score, cosine, dot, corr, mand\n",
      "\n",
      "\u001b[36mℹ\u001b[39m Use `spec()` to retrieve the full column specification for this data.\n",
      "\u001b[36mℹ\u001b[39m Specify the column types or set `show_col_types = FALSE` to quiet this message.\n",
      "Warning message:\n",
      "“‘mode(bg)’ differs between new and previous\n",
      "\t ==> NOT changing ‘bg’”\n",
      "\u001b[1mRows: \u001b[22m\u001b[34m611\u001b[39m \u001b[1mColumns: \u001b[22m\u001b[34m9\u001b[39m\n",
      "\u001b[36m──\u001b[39m \u001b[1mColumn specification\u001b[22m \u001b[36m────────────────────────────────────────────────────────\u001b[39m\n",
      "\u001b[1mDelimiter:\u001b[22m \",\"\n",
      "\u001b[31mchr\u001b[39m (3): species_2_peptide_id, species_1_peptide_id, orthology_type\n",
      "\u001b[32mdbl\u001b[39m (6): e_value, bit score, cosine, dot, corr, mand\n",
      "\n",
      "\u001b[36mℹ\u001b[39m Use `spec()` to retrieve the full column specification for this data.\n",
      "\u001b[36mℹ\u001b[39m Specify the column types or set `show_col_types = FALSE` to quiet this message.\n",
      "Warning message:\n",
      "“‘mode(bg)’ differs between new and previous\n",
      "\t ==> NOT changing ‘bg’”\n",
      "\u001b[1mRows: \u001b[22m\u001b[34m671\u001b[39m \u001b[1mColumns: \u001b[22m\u001b[34m9\u001b[39m\n",
      "\u001b[36m──\u001b[39m \u001b[1mColumn specification\u001b[22m \u001b[36m────────────────────────────────────────────────────────\u001b[39m\n",
      "\u001b[1mDelimiter:\u001b[22m \",\"\n",
      "\u001b[31mchr\u001b[39m (3): species_2_peptide_id, species_1_peptide_id, orthology_type\n",
      "\u001b[32mdbl\u001b[39m (6): e_value, bit score, cosine, dot, corr, mand\n",
      "\n",
      "\u001b[36mℹ\u001b[39m Use `spec()` to retrieve the full column specification for this data.\n",
      "\u001b[36mℹ\u001b[39m Specify the column types or set `show_col_types = FALSE` to quiet this message.\n",
      "Warning message:\n",
      "“‘mode(bg)’ differs between new and previous\n",
      "\t ==> NOT changing ‘bg’”\n",
      "Warning message:\n",
      "“Groups with fewer than two data points have been dropped.”\n",
      "Warning message in max(ids, na.rm = TRUE):\n",
      "“no non-missing arguments to max; returning -Inf”\n",
      "Warning message:\n",
      "“Groups with fewer than two data points have been dropped.”\n",
      "Warning message in max(ids, na.rm = TRUE):\n",
      "“no non-missing arguments to max; returning -Inf”\n",
      "\u001b[1mRows: \u001b[22m\u001b[34m769\u001b[39m \u001b[1mColumns: \u001b[22m\u001b[34m9\u001b[39m\n",
      "\u001b[36m──\u001b[39m \u001b[1mColumn specification\u001b[22m \u001b[36m────────────────────────────────────────────────────────\u001b[39m\n",
      "\u001b[1mDelimiter:\u001b[22m \",\"\n",
      "\u001b[31mchr\u001b[39m (3): species_2_peptide_id, species_1_peptide_id, orthology_type\n",
      "\u001b[32mdbl\u001b[39m (6): e_value, bit score, cosine, dot, corr, mand\n",
      "\n",
      "\u001b[36mℹ\u001b[39m Use `spec()` to retrieve the full column specification for this data.\n",
      "\u001b[36mℹ\u001b[39m Specify the column types or set `show_col_types = FALSE` to quiet this message.\n",
      "Warning message:\n",
      "“‘mode(bg)’ differs between new and previous\n",
      "\t ==> NOT changing ‘bg’”\n",
      "Warning message:\n",
      "“Groups with fewer than two data points have been dropped.”\n",
      "Warning message in max(ids, na.rm = TRUE):\n",
      "“no non-missing arguments to max; returning -Inf”\n",
      "Warning message:\n",
      "“Groups with fewer than two data points have been dropped.”\n",
      "Warning message in max(ids, na.rm = TRUE):\n",
      "“no non-missing arguments to max; returning -Inf”\n",
      "\u001b[1mRows: \u001b[22m\u001b[34m855\u001b[39m \u001b[1mColumns: \u001b[22m\u001b[34m9\u001b[39m\n",
      "\u001b[36m──\u001b[39m \u001b[1mColumn specification\u001b[22m \u001b[36m────────────────────────────────────────────────────────\u001b[39m\n",
      "\u001b[1mDelimiter:\u001b[22m \",\"\n",
      "\u001b[31mchr\u001b[39m (3): species_2_peptide_id, species_1_peptide_id, orthology_type\n",
      "\u001b[32mdbl\u001b[39m (6): e_value, bit score, cosine, dot, corr, mand\n",
      "\n",
      "\u001b[36mℹ\u001b[39m Use `spec()` to retrieve the full column specification for this data.\n",
      "\u001b[36mℹ\u001b[39m Specify the column types or set `show_col_types = FALSE` to quiet this message.\n",
      "Warning message:\n",
      "“‘mode(bg)’ differs between new and previous\n",
      "\t ==> NOT changing ‘bg’”\n",
      "\u001b[1mRows: \u001b[22m\u001b[34m929\u001b[39m \u001b[1mColumns: \u001b[22m\u001b[34m9\u001b[39m\n",
      "\u001b[36m──\u001b[39m \u001b[1mColumn specification\u001b[22m \u001b[36m────────────────────────────────────────────────────────\u001b[39m\n",
      "\u001b[1mDelimiter:\u001b[22m \",\"\n",
      "\u001b[31mchr\u001b[39m (3): species_2_peptide_id, species_1_peptide_id, orthology_type\n",
      "\u001b[32mdbl\u001b[39m (6): e_value, bit score, cosine, dot, corr, mand\n",
      "\n",
      "\u001b[36mℹ\u001b[39m Use `spec()` to retrieve the full column specification for this data.\n",
      "\u001b[36mℹ\u001b[39m Specify the column types or set `show_col_types = FALSE` to quiet this message.\n",
      "Warning message:\n",
      "“‘mode(bg)’ differs between new and previous\n",
      "\t ==> NOT changing ‘bg’”\n",
      "\u001b[1mRows: \u001b[22m\u001b[34m923\u001b[39m \u001b[1mColumns: \u001b[22m\u001b[34m9\u001b[39m\n",
      "\u001b[36m──\u001b[39m \u001b[1mColumn specification\u001b[22m \u001b[36m────────────────────────────────────────────────────────\u001b[39m\n",
      "\u001b[1mDelimiter:\u001b[22m \",\"\n",
      "\u001b[31mchr\u001b[39m (3): species_2_peptide_id, species_1_peptide_id, orthology_type\n",
      "\u001b[32mdbl\u001b[39m (6): e_value, bit score, cosine, dot, corr, mand\n",
      "\n",
      "\u001b[36mℹ\u001b[39m Use `spec()` to retrieve the full column specification for this data.\n",
      "\u001b[36mℹ\u001b[39m Specify the column types or set `show_col_types = FALSE` to quiet this message.\n",
      "Warning message:\n",
      "“‘mode(bg)’ differs between new and previous\n",
      "\t ==> NOT changing ‘bg’”\n",
      "\u001b[1mRows: \u001b[22m\u001b[34m1043\u001b[39m \u001b[1mColumns: \u001b[22m\u001b[34m9\u001b[39m\n",
      "\u001b[36m──\u001b[39m \u001b[1mColumn specification\u001b[22m \u001b[36m────────────────────────────────────────────────────────\u001b[39m\n",
      "\u001b[1mDelimiter:\u001b[22m \",\"\n",
      "\u001b[31mchr\u001b[39m (3): species_2_peptide_id, species_1_peptide_id, orthology_type\n",
      "\u001b[32mdbl\u001b[39m (6): e_value, bit score, cosine, dot, corr, mand\n",
      "\n",
      "\u001b[36mℹ\u001b[39m Use `spec()` to retrieve the full column specification for this data.\n",
      "\u001b[36mℹ\u001b[39m Specify the column types or set `show_col_types = FALSE` to quiet this message.\n",
      "Warning message:\n",
      "“‘mode(bg)’ differs between new and previous\n",
      "\t ==> NOT changing ‘bg’”\n",
      "\u001b[1mRows: \u001b[22m\u001b[34m1043\u001b[39m \u001b[1mColumns: \u001b[22m\u001b[34m9\u001b[39m\n",
      "\u001b[36m──\u001b[39m \u001b[1mColumn specification\u001b[22m \u001b[36m────────────────────────────────────────────────────────\u001b[39m\n",
      "\u001b[1mDelimiter:\u001b[22m \",\"\n",
      "\u001b[31mchr\u001b[39m (3): species_2_peptide_id, species_1_peptide_id, orthology_type\n",
      "\u001b[32mdbl\u001b[39m (6): e_value, bit score, cosine, dot, corr, mand\n",
      "\n",
      "\u001b[36mℹ\u001b[39m Use `spec()` to retrieve the full column specification for this data.\n",
      "\u001b[36mℹ\u001b[39m Specify the column types or set `show_col_types = FALSE` to quiet this message.\n",
      "Warning message:\n",
      "“‘mode(bg)’ differs between new and previous\n",
      "\t ==> NOT changing ‘bg’”\n"
     ]
    }
   ],
   "source": [
    "fig_list = list()\n",
    "\n",
    "all_pairs <- data.frame(\n",
    "  species_1 = c('cjacchus', 'cjacchus', 'cjacchus', 'cjacchus', 'mmulatta', 'mmulatta', 'mmulatta', 'ggorilla', 'ggorilla', 'ptroglodytes', 'ptroglodytes'),\n",
    "  species_2 = c('mmulatta', 'ggorilla', 'ptroglodytes', 'hsapiens', 'ggorilla', 'ptroglodytes', 'hsapiens', 'ptroglodytes', 'hsapiens', 'hsapiens', 'hsapiens')\n",
    ")\n",
    "\n",
    "# Iterate over rows and assign values to species_1 and species_2\n",
    "for (i in 1:nrow(all_pairs)) {\n",
    "    species_1 <- all_pairs[i, 'species_1']\n",
    "    species_2 <- all_pairs[i, 'species_2']\n",
    "\n",
    "    data = read_csv(paste0(\"enhanced_bit_score_cosine_sim_density/\", species_1, \"_vs_\", species_2, \"_cell_type_enhanced_orthologs.csv\"))\n",
    "\n",
    "    counts = data %>% group_by(orthology_type) %>% count() %>% \n",
    "ungroup() %>% \n",
    "mutate(percentage = round(100*(n / sum(n)), 2)) %>% \n",
    "merge(data, by = 'orthology_type')\n",
    "\n",
    "    m2m_n = counts %>% filter(orthology_type == 'M2M') %>% pull(n) %>% unique()\n",
    "m2m_p = counts %>% filter(orthology_type == 'M2M') %>% pull(percentage) %>% unique()\n",
    "\n",
    "    m2o_n = counts %>% filter(orthology_type == 'M2O') %>% pull(n) %>% unique()\n",
    "m2o_p = counts %>% filter(orthology_type == 'M2O') %>% pull(percentage) %>% unique()\n",
    "\n",
    "    o2m_n = counts %>% filter(orthology_type == 'O2M') %>% pull(n) %>% unique()\n",
    "o2m_p = counts %>% filter(orthology_type == 'O2M') %>% pull(percentage) %>% unique()\n",
    "\n",
    "    o2o_n = counts %>% filter(orthology_type == 'O2O') %>% pull(n) %>% unique()\n",
    "o2o_p = counts %>% filter(orthology_type == 'O2O') %>% pull(percentage) %>% unique()\n",
    "    \n",
    "    \n",
    "            fig_density = counts %>% ggplot(aes(x = `bit score`)) + \n",
    "geom_density(aes(fill = orthology_type), alpha = 0.4)  + scale_fill_manual(values = type_pal) +\n",
    "common_0x +\n",
    "geom_label(aes(x = 50, y = 0.045,\n",
    "               label = paste0('M2M: ', m2m_n, \" (\", m2m_p, \"%)\"),\n",
    "              hjust = 0), color = '#BC3C29FF', size = 3) +\n",
    "geom_label(aes(x = 50, y = 0.038, \n",
    "               label = paste0('M2O: ', m2o_n, \" (\", m2o_p, \"%)\"),\n",
    "              hjust = 0), color = '#0072B5FF', size = 3) +\n",
    "geom_label(aes(x = 50, y = 0.031, \n",
    "               label = paste0('O2M: ', o2m_n, \" (\", o2m_p, \"%)\"),\n",
    "              hjust = 0), color = '#E18727FF', size = 3) +\n",
    "geom_label(aes(x = 50, y = 0.024, \n",
    "               label = paste0('O2O: ', o2o_n, \" (\", o2o_p, \"%)\"),\n",
    "              hjust = 0), color = '#20854EFF', size = 3)  +\n",
    "    labs(title = paste0(species_1, \" vs \", species_2)) +\n",
    "    scale_y_continuous(limits = c(0, 0.055), breaks = c(0, 0.01, 0.02, 0.03, 0.04, 0.05))\n",
    "\n",
    "    ggsave(plot = fig_density, filename = paste0(\"enhanced_orthotype_density/\", species_1, \"_vs_\", species_2, \"_bit_score_ortho_type_density.pdf\"), height = 3, width = 3.75)\n",
    "    ggsave(plot = fig_density + theme(legend.position  = 'none'), filename = paste0(\"enhanced_orthotype_density/\", species_1, \"_vs_\", species_2, \"_bit_score_ortho_type_density.png\"), height = 2.5, width = 2.5)\n",
    "\n",
    "    saveRDS(fig_density, file = paste0(\"enhanced_orthotype_density/\", species_1, \"_vs_\", species_2, \"_bit_score_ortho_type_density.rds\"))\n",
    "            fig_list[[i]] = fig_density\n",
    "\n",
    "            }"
   ]
  },
  {
   "cell_type": "code",
   "execution_count": 7,
   "id": "80fec0fe-0354-45f3-be6f-903e110bfcb0",
   "metadata": {},
   "outputs": [],
   "source": [
    "library(png)\n",
    "library(grid)\n",
    "library(gridExtra)"
   ]
  },
  {
   "cell_type": "code",
   "execution_count": 8,
   "id": "b0b1255a-24d2-4eb7-85d4-f480dd4df88e",
   "metadata": {},
   "outputs": [],
   "source": [
    "plot1 <- readPNG('enhanced_orthotype_density/ptroglodytes_vs_hsapiens_bit_score_ortho_type_density.png')\n",
    "plot2 <- readPNG('enhanced_orthotype_density/ggorilla_vs_hsapiens_bit_score_ortho_type_density.png')\n",
    "plot3 <- readPNG('enhanced_orthotype_density/mmulatta_vs_hsapiens_bit_score_ortho_type_density.png')\n",
    "plot4 <- readPNG('enhanced_orthotype_density/cjacchus_vs_hsapiens_bit_score_ortho_type_density.png')\n",
    "\n",
    "tmp <- arrangeGrob(rasterGrob(plot1),rasterGrob(plot2),rasterGrob(plot3),rasterGrob(plot4), ncol=4)"
   ]
  },
  {
   "cell_type": "code",
   "execution_count": 10,
   "id": "b81b787d-7e33-4f97-90c1-2990e8cf6def",
   "metadata": {},
   "outputs": [],
   "source": [
    "ggsave('sp_vs_hsapiens_bit_score_ortho_type_density_enhanced.png',tmp,width=10,height=2.5)"
   ]
  },
  {
   "cell_type": "code",
   "execution_count": null,
   "id": "01435c99-f012-4f35-b07d-42d69924a622",
   "metadata": {},
   "outputs": [],
   "source": []
  },
  {
   "cell_type": "code",
   "execution_count": 11,
   "id": "c685f433-2a0b-4345-9ce9-ab8dd555330a",
   "metadata": {},
   "outputs": [],
   "source": [
    "plot1 <- readPNG('enhanced_orthotype_density/ggorilla_vs_ptroglodytes_bit_score_ortho_type_density.png')\n",
    "plot2 <- readPNG('enhanced_orthotype_density/mmulatta_vs_ptroglodytes_bit_score_ortho_type_density.png')\n",
    "plot3 <- readPNG('enhanced_orthotype_density/cjacchus_vs_ptroglodytes_bit_score_ortho_type_density.png')\n",
    "\n",
    "tmp <- arrangeGrob(rasterGrob(plot1),rasterGrob(plot2),rasterGrob(plot3), ncol=3)"
   ]
  },
  {
   "cell_type": "code",
   "execution_count": 12,
   "id": "5af4bc64-3c45-4de0-aa83-c9bc1105f0e1",
   "metadata": {},
   "outputs": [],
   "source": [
    "ggsave('sp_vs_ptroglodytes_bit_score_ortho_type_density_enhanced.png',tmp,width=7.5,height=2.5)"
   ]
  },
  {
   "cell_type": "code",
   "execution_count": null,
   "id": "57ea9f43-6b19-4d23-a90c-6d10a4b09a1c",
   "metadata": {},
   "outputs": [],
   "source": []
  },
  {
   "cell_type": "code",
   "execution_count": 13,
   "id": "8cb654c2-db58-4472-8970-0fcfabbdf47b",
   "metadata": {},
   "outputs": [],
   "source": [
    "plot1 <- readPNG('enhanced_orthotype_density/mmulatta_vs_ggorilla_bit_score_ortho_type_density.png')\n",
    "plot2 <- readPNG('enhanced_orthotype_density/cjacchus_vs_ggorilla_bit_score_ortho_type_density.png')\n",
    "\n",
    "tmp <- arrangeGrob(rasterGrob(plot1),rasterGrob(plot2), ncol=2)"
   ]
  },
  {
   "cell_type": "code",
   "execution_count": 14,
   "id": "36fcd27d-2002-47f3-9230-e5c37e0fe344",
   "metadata": {},
   "outputs": [],
   "source": [
    "ggsave('sp_vs_ggorilla_bit_score_ortho_type_density_enhanced.png',tmp,width=5,height=2.5)"
   ]
  }
 ],
 "metadata": {
  "kernelspec": {
   "display_name": "r-seurat",
   "language": "R",
   "name": "rseurat"
  },
  "language_info": {
   "codemirror_mode": "r",
   "file_extension": ".r",
   "mimetype": "text/x-r-source",
   "name": "R",
   "pygments_lexer": "r",
   "version": "4.0.5"
  }
 },
 "nbformat": 4,
 "nbformat_minor": 5
}
