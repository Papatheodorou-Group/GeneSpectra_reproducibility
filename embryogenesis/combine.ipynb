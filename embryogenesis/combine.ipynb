{
 "cells": [
  {
   "cell_type": "code",
   "execution_count": 1,
   "id": "9492abd7-bdbf-4123-a6ac-e350a08c6fcd",
   "metadata": {},
   "outputs": [
    {
     "name": "stderr",
     "output_type": "stream",
     "text": [
      "── \u001b[1mAttaching packages\u001b[22m ─────────────────────────────────────── tidyverse 1.3.2 ──\n",
      "\u001b[32m✔\u001b[39m \u001b[34mggplot2\u001b[39m 3.3.6      \u001b[32m✔\u001b[39m \u001b[34mpurrr  \u001b[39m 0.3.4 \n",
      "\u001b[32m✔\u001b[39m \u001b[34mtibble \u001b[39m 3.1.8      \u001b[32m✔\u001b[39m \u001b[34mdplyr  \u001b[39m 1.0.10\n",
      "\u001b[32m✔\u001b[39m \u001b[34mtidyr  \u001b[39m 1.2.1      \u001b[32m✔\u001b[39m \u001b[34mstringr\u001b[39m 1.4.1 \n",
      "\u001b[32m✔\u001b[39m \u001b[34mreadr  \u001b[39m 2.1.2      \u001b[32m✔\u001b[39m \u001b[34mforcats\u001b[39m 0.5.2 \n",
      "── \u001b[1mConflicts\u001b[22m ────────────────────────────────────────── tidyverse_conflicts() ──\n",
      "\u001b[31m✖\u001b[39m \u001b[34mdplyr\u001b[39m::\u001b[32mfilter()\u001b[39m masks \u001b[34mstats\u001b[39m::filter()\n",
      "\u001b[31m✖\u001b[39m \u001b[34mdplyr\u001b[39m::\u001b[32mlag()\u001b[39m    masks \u001b[34mstats\u001b[39m::lag()\n"
     ]
    }
   ],
   "source": [
    "library(tidyverse)"
   ]
  },
  {
   "cell_type": "code",
   "execution_count": 2,
   "id": "329ad2f8-626b-4270-beee-7744c8986456",
   "metadata": {},
   "outputs": [
    {
     "name": "stderr",
     "output_type": "stream",
     "text": [
      "\u001b[1m\u001b[22mNew names:\n",
      "\u001b[36m•\u001b[39m `gene` -> `gene...1`\n",
      "\u001b[36m•\u001b[39m `gene` -> `gene...11`\n",
      "\u001b[1mRows: \u001b[22m\u001b[34m17330\u001b[39m \u001b[1mColumns: \u001b[22m\u001b[34m26\u001b[39m\n",
      "\u001b[36m──\u001b[39m \u001b[1mColumn specification\u001b[22m \u001b[36m────────────────────────────────────────────────────────\u001b[39m\n",
      "\u001b[1mDelimiter:\u001b[22m \",\"\n",
      "\u001b[31mchr\u001b[39m (11): gene...1, groups_expressed, groups_not_expressed, gene...11, exps_...\n",
      "\u001b[32mdbl\u001b[39m (15): mean_exp, min_exp, max_exp, max_2nd, n_exp, frac_exp, lim, n_over,...\n",
      "\n",
      "\u001b[36mℹ\u001b[39m Use `spec()` to retrieve the full column specification for this data.\n",
      "\u001b[36mℹ\u001b[39m Specify the column types or set `show_col_types = FALSE` to quiet this message.\n"
     ]
    }
   ],
   "source": [
    "zebrafish = read_csv(\"zebrafish_gene_name_ct_final.csv\")"
   ]
  },
  {
   "cell_type": "code",
   "execution_count": 4,
   "id": "4580315f-3ecb-4854-850e-1ef695dcf40a",
   "metadata": {},
   "outputs": [],
   "source": [
    "zebrafish$species = 'drerio'"
   ]
  },
  {
   "cell_type": "code",
   "execution_count": 5,
   "id": "3bbf2c1e-7e3e-43d4-b3de-c4c6ca2e602a",
   "metadata": {},
   "outputs": [
    {
     "name": "stderr",
     "output_type": "stream",
     "text": [
      "\u001b[1m\u001b[22mNew names:\n",
      "\u001b[36m•\u001b[39m `gene` -> `gene...1`\n",
      "\u001b[36m•\u001b[39m `gene` -> `gene...11`\n",
      "\u001b[1mRows: \u001b[22m\u001b[34m9661\u001b[39m \u001b[1mColumns: \u001b[22m\u001b[34m26\u001b[39m\n",
      "\u001b[36m──\u001b[39m \u001b[1mColumn specification\u001b[22m \u001b[36m────────────────────────────────────────────────────────\u001b[39m\n",
      "\u001b[1mDelimiter:\u001b[22m \",\"\n",
      "\u001b[31mchr\u001b[39m (11): gene...1, groups_expressed, groups_not_expressed, gene...11, exps_...\n",
      "\u001b[32mdbl\u001b[39m (15): mean_exp, min_exp, max_exp, max_2nd, n_exp, frac_exp, lim, n_over,...\n",
      "\n",
      "\u001b[36mℹ\u001b[39m Use `spec()` to retrieve the full column specification for this data.\n",
      "\u001b[36mℹ\u001b[39m Specify the column types or set `show_col_types = FALSE` to quiet this message.\n"
     ]
    }
   ],
   "source": [
    "xenopus = read_csv(\"xenopus_gene_name_ct_final.csv\")"
   ]
  },
  {
   "cell_type": "code",
   "execution_count": 6,
   "id": "68faedbe-59ec-4880-b752-f3ae32df63bb",
   "metadata": {},
   "outputs": [],
   "source": [
    "xenopus$species = 'xtropicalis'"
   ]
  },
  {
   "cell_type": "code",
   "execution_count": 9,
   "id": "20184c0f-7d26-473b-9a3f-2a57b338bbef",
   "metadata": {},
   "outputs": [],
   "source": [
    "rbind(zebrafish, xenopus) %>% write_csv(\"embryogenesis_all_classifications.csv\")"
   ]
  },
  {
   "cell_type": "code",
   "execution_count": null,
   "id": "215cf389-50a7-4980-86e4-02586f801933",
   "metadata": {},
   "outputs": [],
   "source": []
  }
 ],
 "metadata": {
  "kernelspec": {
   "display_name": "seurat",
   "language": "R",
   "name": "seurat"
  },
  "language_info": {
   "codemirror_mode": "r",
   "file_extension": ".r",
   "mimetype": "text/x-r-source",
   "name": "R",
   "pygments_lexer": "r",
   "version": "4.0.5"
  }
 },
 "nbformat": 4,
 "nbformat_minor": 5
}
