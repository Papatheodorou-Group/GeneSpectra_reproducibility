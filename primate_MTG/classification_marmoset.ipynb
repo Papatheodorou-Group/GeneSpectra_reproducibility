{
 "cells": [
  {
   "cell_type": "code",
   "execution_count": 1,
   "id": "3a0ac0b5-ce71-4b1f-b14c-66c290dc1d85",
   "metadata": {},
   "outputs": [
    {
     "name": "stderr",
     "output_type": "stream",
     "text": [
      "/nfs/research/icortes/ysong/anaconda3/envs/metacells_py/lib/python3.8/site-packages/tqdm/auto.py:21: TqdmWarning: IProgress not found. Please update jupyter and ipywidgets. See https://ipywidgets.readthedocs.io/en/stable/user_install.html\n",
      "  from .autonotebook import tqdm as notebook_tqdm\n"
     ]
    }
   ],
   "source": [
    "import scanpy as sc\n",
    "import numpy as np\n",
    "import pandas as pd\n",
    "import warnings\n",
    "import matplotlib.pyplot as plt\n",
    "import seaborn as sns\n",
    "\n",
    "import multiprocessing as mp\n",
    "from genespectra.gene_classification.classify_genes import ExpressionDataLong, GeneClassificationResult\n",
    "from genespectra.metacells.make_metacells import SummedAnnData\n",
    "sns.set_theme(rc={'figure.dpi': 100, 'figure.figsize': (2, 2)})"
   ]
  },
  {
   "cell_type": "code",
   "execution_count": 2,
   "id": "ef4d2cd8-b053-400f-ab03-61771269e65f",
   "metadata": {},
   "outputs": [],
   "source": [
    "adata = sc.read_h5ad(\"../../metacells/marmoset_metacells_subclass.h5ad\")"
   ]
  },
  {
   "cell_type": "code",
   "execution_count": 3,
   "id": "4412c648-b315-4c7b-9667-7efae5261ba0",
   "metadata": {},
   "outputs": [
    {
     "data": {
      "text/html": [
       "<div>\n",
       "<style scoped>\n",
       "    .dataframe tbody tr th:only-of-type {\n",
       "        vertical-align: middle;\n",
       "    }\n",
       "\n",
       "    .dataframe tbody tr th {\n",
       "        vertical-align: top;\n",
       "    }\n",
       "\n",
       "    .dataframe thead th {\n",
       "        text-align: right;\n",
       "    }\n",
       "</style>\n",
       "<table border=\"1\" class=\"dataframe\">\n",
       "  <thead>\n",
       "    <tr style=\"text-align: right;\">\n",
       "      <th></th>\n",
       "      <th>grouped</th>\n",
       "      <th>total_umis</th>\n",
       "      <th>__zeros_downsample_umis</th>\n",
       "      <th>metacells_rare_gene_module</th>\n",
       "      <th>rare_metacell</th>\n",
       "      <th>cell_type</th>\n",
       "      <th>cell_type_fraction_of_L2/3-6 intratelencephalic projecting glutamatergic cortical neuron</th>\n",
       "      <th>cell_type_fraction_of_L5 extratelencephalic projecting glutamatergic cortical neuron</th>\n",
       "      <th>cell_type_fraction_of_L6b glutamatergic cortical neuron</th>\n",
       "      <th>cell_type_fraction_of_astrocyte of the cerebral cortex</th>\n",
       "      <th>...</th>\n",
       "      <th>Subclass_fraction_of_Micro-PVM</th>\n",
       "      <th>Subclass_fraction_of_OPC</th>\n",
       "      <th>Subclass_fraction_of_Oligo</th>\n",
       "      <th>Subclass_fraction_of_Pax6</th>\n",
       "      <th>Subclass_fraction_of_Pvalb</th>\n",
       "      <th>Subclass_fraction_of_Sncg</th>\n",
       "      <th>Subclass_fraction_of_Sst</th>\n",
       "      <th>Subclass_fraction_of_Sst Chodl</th>\n",
       "      <th>Subclass_fraction_of_VLMC</th>\n",
       "      <th>Subclass_fraction_of_Vip</th>\n",
       "    </tr>\n",
       "  </thead>\n",
       "  <tbody>\n",
       "    <tr>\n",
       "      <th>M0.00</th>\n",
       "      <td>13</td>\n",
       "      <td>246053</td>\n",
       "      <td>14168</td>\n",
       "      <td>-1</td>\n",
       "      <td>False</td>\n",
       "      <td>L5 extratelencephalic projecting glutamatergic...</td>\n",
       "      <td>0.0</td>\n",
       "      <td>1.0</td>\n",
       "      <td>0.0</td>\n",
       "      <td>0.0</td>\n",
       "      <td>...</td>\n",
       "      <td>0.0</td>\n",
       "      <td>0.0</td>\n",
       "      <td>0.0</td>\n",
       "      <td>0.0</td>\n",
       "      <td>0.0</td>\n",
       "      <td>0.0</td>\n",
       "      <td>0.0</td>\n",
       "      <td>0.0</td>\n",
       "      <td>0.0</td>\n",
       "      <td>0.0</td>\n",
       "    </tr>\n",
       "    <tr>\n",
       "      <th>M1.57</th>\n",
       "      <td>20</td>\n",
       "      <td>338354</td>\n",
       "      <td>11359</td>\n",
       "      <td>-1</td>\n",
       "      <td>False</td>\n",
       "      <td>L2/3-6 intratelencephalic projecting glutamate...</td>\n",
       "      <td>1.0</td>\n",
       "      <td>0.0</td>\n",
       "      <td>0.0</td>\n",
       "      <td>0.0</td>\n",
       "      <td>...</td>\n",
       "      <td>0.0</td>\n",
       "      <td>0.0</td>\n",
       "      <td>0.0</td>\n",
       "      <td>0.0</td>\n",
       "      <td>0.0</td>\n",
       "      <td>0.0</td>\n",
       "      <td>0.0</td>\n",
       "      <td>0.0</td>\n",
       "      <td>0.0</td>\n",
       "      <td>0.0</td>\n",
       "    </tr>\n",
       "    <tr>\n",
       "      <th>M2.16</th>\n",
       "      <td>20</td>\n",
       "      <td>300354</td>\n",
       "      <td>7630</td>\n",
       "      <td>-1</td>\n",
       "      <td>False</td>\n",
       "      <td>corticothalamic-projecting glutamatergic corti...</td>\n",
       "      <td>0.0</td>\n",
       "      <td>0.0</td>\n",
       "      <td>0.0</td>\n",
       "      <td>0.0</td>\n",
       "      <td>...</td>\n",
       "      <td>0.0</td>\n",
       "      <td>0.0</td>\n",
       "      <td>0.0</td>\n",
       "      <td>0.0</td>\n",
       "      <td>0.0</td>\n",
       "      <td>0.0</td>\n",
       "      <td>0.0</td>\n",
       "      <td>0.0</td>\n",
       "      <td>0.0</td>\n",
       "      <td>0.0</td>\n",
       "    </tr>\n",
       "    <tr>\n",
       "      <th>M3.30</th>\n",
       "      <td>19</td>\n",
       "      <td>334667</td>\n",
       "      <td>11012</td>\n",
       "      <td>-1</td>\n",
       "      <td>False</td>\n",
       "      <td>L2/3-6 intratelencephalic projecting glutamate...</td>\n",
       "      <td>1.0</td>\n",
       "      <td>0.0</td>\n",
       "      <td>0.0</td>\n",
       "      <td>0.0</td>\n",
       "      <td>...</td>\n",
       "      <td>0.0</td>\n",
       "      <td>0.0</td>\n",
       "      <td>0.0</td>\n",
       "      <td>0.0</td>\n",
       "      <td>0.0</td>\n",
       "      <td>0.0</td>\n",
       "      <td>0.0</td>\n",
       "      <td>0.0</td>\n",
       "      <td>0.0</td>\n",
       "      <td>0.0</td>\n",
       "    </tr>\n",
       "    <tr>\n",
       "      <th>M4.24</th>\n",
       "      <td>26</td>\n",
       "      <td>316979</td>\n",
       "      <td>8312</td>\n",
       "      <td>-1</td>\n",
       "      <td>False</td>\n",
       "      <td>L6b glutamatergic cortical neuron</td>\n",
       "      <td>0.0</td>\n",
       "      <td>0.0</td>\n",
       "      <td>1.0</td>\n",
       "      <td>0.0</td>\n",
       "      <td>...</td>\n",
       "      <td>0.0</td>\n",
       "      <td>0.0</td>\n",
       "      <td>0.0</td>\n",
       "      <td>0.0</td>\n",
       "      <td>0.0</td>\n",
       "      <td>0.0</td>\n",
       "      <td>0.0</td>\n",
       "      <td>0.0</td>\n",
       "      <td>0.0</td>\n",
       "      <td>0.0</td>\n",
       "    </tr>\n",
       "    <tr>\n",
       "      <th>...</th>\n",
       "      <td>...</td>\n",
       "      <td>...</td>\n",
       "      <td>...</td>\n",
       "      <td>...</td>\n",
       "      <td>...</td>\n",
       "      <td>...</td>\n",
       "      <td>...</td>\n",
       "      <td>...</td>\n",
       "      <td>...</td>\n",
       "      <td>...</td>\n",
       "      <td>...</td>\n",
       "      <td>...</td>\n",
       "      <td>...</td>\n",
       "      <td>...</td>\n",
       "      <td>...</td>\n",
       "      <td>...</td>\n",
       "      <td>...</td>\n",
       "      <td>...</td>\n",
       "      <td>...</td>\n",
       "      <td>...</td>\n",
       "      <td>...</td>\n",
       "    </tr>\n",
       "    <tr>\n",
       "      <th>M3026.80</th>\n",
       "      <td>13</td>\n",
       "      <td>454921</td>\n",
       "      <td>25669</td>\n",
       "      <td>-1</td>\n",
       "      <td>False</td>\n",
       "      <td>L2/3-6 intratelencephalic projecting glutamate...</td>\n",
       "      <td>1.0</td>\n",
       "      <td>0.0</td>\n",
       "      <td>0.0</td>\n",
       "      <td>0.0</td>\n",
       "      <td>...</td>\n",
       "      <td>0.0</td>\n",
       "      <td>0.0</td>\n",
       "      <td>0.0</td>\n",
       "      <td>0.0</td>\n",
       "      <td>0.0</td>\n",
       "      <td>0.0</td>\n",
       "      <td>0.0</td>\n",
       "      <td>0.0</td>\n",
       "      <td>0.0</td>\n",
       "      <td>0.0</td>\n",
       "    </tr>\n",
       "    <tr>\n",
       "      <th>M3027.04</th>\n",
       "      <td>14</td>\n",
       "      <td>259218</td>\n",
       "      <td>6638</td>\n",
       "      <td>-1</td>\n",
       "      <td>False</td>\n",
       "      <td>L2/3-6 intratelencephalic projecting glutamate...</td>\n",
       "      <td>1.0</td>\n",
       "      <td>0.0</td>\n",
       "      <td>0.0</td>\n",
       "      <td>0.0</td>\n",
       "      <td>...</td>\n",
       "      <td>0.0</td>\n",
       "      <td>0.0</td>\n",
       "      <td>0.0</td>\n",
       "      <td>0.0</td>\n",
       "      <td>0.0</td>\n",
       "      <td>0.0</td>\n",
       "      <td>0.0</td>\n",
       "      <td>0.0</td>\n",
       "      <td>0.0</td>\n",
       "      <td>0.0</td>\n",
       "    </tr>\n",
       "    <tr>\n",
       "      <th>M3028.54</th>\n",
       "      <td>13</td>\n",
       "      <td>283342</td>\n",
       "      <td>14073</td>\n",
       "      <td>-1</td>\n",
       "      <td>False</td>\n",
       "      <td>L2/3-6 intratelencephalic projecting glutamate...</td>\n",
       "      <td>1.0</td>\n",
       "      <td>0.0</td>\n",
       "      <td>0.0</td>\n",
       "      <td>0.0</td>\n",
       "      <td>...</td>\n",
       "      <td>0.0</td>\n",
       "      <td>0.0</td>\n",
       "      <td>0.0</td>\n",
       "      <td>0.0</td>\n",
       "      <td>0.0</td>\n",
       "      <td>0.0</td>\n",
       "      <td>0.0</td>\n",
       "      <td>0.0</td>\n",
       "      <td>0.0</td>\n",
       "      <td>0.0</td>\n",
       "    </tr>\n",
       "    <tr>\n",
       "      <th>M3029.27</th>\n",
       "      <td>13</td>\n",
       "      <td>304529</td>\n",
       "      <td>13482</td>\n",
       "      <td>-1</td>\n",
       "      <td>False</td>\n",
       "      <td>L2/3-6 intratelencephalic projecting glutamate...</td>\n",
       "      <td>1.0</td>\n",
       "      <td>0.0</td>\n",
       "      <td>0.0</td>\n",
       "      <td>0.0</td>\n",
       "      <td>...</td>\n",
       "      <td>0.0</td>\n",
       "      <td>0.0</td>\n",
       "      <td>0.0</td>\n",
       "      <td>0.0</td>\n",
       "      <td>0.0</td>\n",
       "      <td>0.0</td>\n",
       "      <td>0.0</td>\n",
       "      <td>0.0</td>\n",
       "      <td>0.0</td>\n",
       "      <td>0.0</td>\n",
       "    </tr>\n",
       "    <tr>\n",
       "      <th>M3030.97</th>\n",
       "      <td>13</td>\n",
       "      <td>352811</td>\n",
       "      <td>13785</td>\n",
       "      <td>-1</td>\n",
       "      <td>False</td>\n",
       "      <td>L2/3-6 intratelencephalic projecting glutamate...</td>\n",
       "      <td>1.0</td>\n",
       "      <td>0.0</td>\n",
       "      <td>0.0</td>\n",
       "      <td>0.0</td>\n",
       "      <td>...</td>\n",
       "      <td>0.0</td>\n",
       "      <td>0.0</td>\n",
       "      <td>0.0</td>\n",
       "      <td>0.0</td>\n",
       "      <td>0.0</td>\n",
       "      <td>0.0</td>\n",
       "      <td>0.0</td>\n",
       "      <td>0.0</td>\n",
       "      <td>0.0</td>\n",
       "      <td>0.0</td>\n",
       "    </tr>\n",
       "  </tbody>\n",
       "</table>\n",
       "<p>3031 rows × 49 columns</p>\n",
       "</div>"
      ],
      "text/plain": [
       "          grouped  total_umis  __zeros_downsample_umis  \\\n",
       "M0.00          13      246053                    14168   \n",
       "M1.57          20      338354                    11359   \n",
       "M2.16          20      300354                     7630   \n",
       "M3.30          19      334667                    11012   \n",
       "M4.24          26      316979                     8312   \n",
       "...           ...         ...                      ...   \n",
       "M3026.80       13      454921                    25669   \n",
       "M3027.04       14      259218                     6638   \n",
       "M3028.54       13      283342                    14073   \n",
       "M3029.27       13      304529                    13482   \n",
       "M3030.97       13      352811                    13785   \n",
       "\n",
       "          metacells_rare_gene_module  rare_metacell  \\\n",
       "M0.00                             -1          False   \n",
       "M1.57                             -1          False   \n",
       "M2.16                             -1          False   \n",
       "M3.30                             -1          False   \n",
       "M4.24                             -1          False   \n",
       "...                              ...            ...   \n",
       "M3026.80                          -1          False   \n",
       "M3027.04                          -1          False   \n",
       "M3028.54                          -1          False   \n",
       "M3029.27                          -1          False   \n",
       "M3030.97                          -1          False   \n",
       "\n",
       "                                                  cell_type  \\\n",
       "M0.00     L5 extratelencephalic projecting glutamatergic...   \n",
       "M1.57     L2/3-6 intratelencephalic projecting glutamate...   \n",
       "M2.16     corticothalamic-projecting glutamatergic corti...   \n",
       "M3.30     L2/3-6 intratelencephalic projecting glutamate...   \n",
       "M4.24                     L6b glutamatergic cortical neuron   \n",
       "...                                                     ...   \n",
       "M3026.80  L2/3-6 intratelencephalic projecting glutamate...   \n",
       "M3027.04  L2/3-6 intratelencephalic projecting glutamate...   \n",
       "M3028.54  L2/3-6 intratelencephalic projecting glutamate...   \n",
       "M3029.27  L2/3-6 intratelencephalic projecting glutamate...   \n",
       "M3030.97  L2/3-6 intratelencephalic projecting glutamate...   \n",
       "\n",
       "          cell_type_fraction_of_L2/3-6 intratelencephalic projecting glutamatergic cortical neuron  \\\n",
       "M0.00                                                   0.0                                          \n",
       "M1.57                                                   1.0                                          \n",
       "M2.16                                                   0.0                                          \n",
       "M3.30                                                   1.0                                          \n",
       "M4.24                                                   0.0                                          \n",
       "...                                                     ...                                          \n",
       "M3026.80                                                1.0                                          \n",
       "M3027.04                                                1.0                                          \n",
       "M3028.54                                                1.0                                          \n",
       "M3029.27                                                1.0                                          \n",
       "M3030.97                                                1.0                                          \n",
       "\n",
       "          cell_type_fraction_of_L5 extratelencephalic projecting glutamatergic cortical neuron  \\\n",
       "M0.00                                                   1.0                                      \n",
       "M1.57                                                   0.0                                      \n",
       "M2.16                                                   0.0                                      \n",
       "M3.30                                                   0.0                                      \n",
       "M4.24                                                   0.0                                      \n",
       "...                                                     ...                                      \n",
       "M3026.80                                                0.0                                      \n",
       "M3027.04                                                0.0                                      \n",
       "M3028.54                                                0.0                                      \n",
       "M3029.27                                                0.0                                      \n",
       "M3030.97                                                0.0                                      \n",
       "\n",
       "          cell_type_fraction_of_L6b glutamatergic cortical neuron  \\\n",
       "M0.00                                                   0.0         \n",
       "M1.57                                                   0.0         \n",
       "M2.16                                                   0.0         \n",
       "M3.30                                                   0.0         \n",
       "M4.24                                                   1.0         \n",
       "...                                                     ...         \n",
       "M3026.80                                                0.0         \n",
       "M3027.04                                                0.0         \n",
       "M3028.54                                                0.0         \n",
       "M3029.27                                                0.0         \n",
       "M3030.97                                                0.0         \n",
       "\n",
       "          cell_type_fraction_of_astrocyte of the cerebral cortex  ...  \\\n",
       "M0.00                                                   0.0       ...   \n",
       "M1.57                                                   0.0       ...   \n",
       "M2.16                                                   0.0       ...   \n",
       "M3.30                                                   0.0       ...   \n",
       "M4.24                                                   0.0       ...   \n",
       "...                                                     ...       ...   \n",
       "M3026.80                                                0.0       ...   \n",
       "M3027.04                                                0.0       ...   \n",
       "M3028.54                                                0.0       ...   \n",
       "M3029.27                                                0.0       ...   \n",
       "M3030.97                                                0.0       ...   \n",
       "\n",
       "          Subclass_fraction_of_Micro-PVM  Subclass_fraction_of_OPC  \\\n",
       "M0.00                                0.0                       0.0   \n",
       "M1.57                                0.0                       0.0   \n",
       "M2.16                                0.0                       0.0   \n",
       "M3.30                                0.0                       0.0   \n",
       "M4.24                                0.0                       0.0   \n",
       "...                                  ...                       ...   \n",
       "M3026.80                             0.0                       0.0   \n",
       "M3027.04                             0.0                       0.0   \n",
       "M3028.54                             0.0                       0.0   \n",
       "M3029.27                             0.0                       0.0   \n",
       "M3030.97                             0.0                       0.0   \n",
       "\n",
       "          Subclass_fraction_of_Oligo  Subclass_fraction_of_Pax6  \\\n",
       "M0.00                            0.0                        0.0   \n",
       "M1.57                            0.0                        0.0   \n",
       "M2.16                            0.0                        0.0   \n",
       "M3.30                            0.0                        0.0   \n",
       "M4.24                            0.0                        0.0   \n",
       "...                              ...                        ...   \n",
       "M3026.80                         0.0                        0.0   \n",
       "M3027.04                         0.0                        0.0   \n",
       "M3028.54                         0.0                        0.0   \n",
       "M3029.27                         0.0                        0.0   \n",
       "M3030.97                         0.0                        0.0   \n",
       "\n",
       "          Subclass_fraction_of_Pvalb  Subclass_fraction_of_Sncg  \\\n",
       "M0.00                            0.0                        0.0   \n",
       "M1.57                            0.0                        0.0   \n",
       "M2.16                            0.0                        0.0   \n",
       "M3.30                            0.0                        0.0   \n",
       "M4.24                            0.0                        0.0   \n",
       "...                              ...                        ...   \n",
       "M3026.80                         0.0                        0.0   \n",
       "M3027.04                         0.0                        0.0   \n",
       "M3028.54                         0.0                        0.0   \n",
       "M3029.27                         0.0                        0.0   \n",
       "M3030.97                         0.0                        0.0   \n",
       "\n",
       "          Subclass_fraction_of_Sst  Subclass_fraction_of_Sst Chodl  \\\n",
       "M0.00                          0.0                             0.0   \n",
       "M1.57                          0.0                             0.0   \n",
       "M2.16                          0.0                             0.0   \n",
       "M3.30                          0.0                             0.0   \n",
       "M4.24                          0.0                             0.0   \n",
       "...                            ...                             ...   \n",
       "M3026.80                       0.0                             0.0   \n",
       "M3027.04                       0.0                             0.0   \n",
       "M3028.54                       0.0                             0.0   \n",
       "M3029.27                       0.0                             0.0   \n",
       "M3030.97                       0.0                             0.0   \n",
       "\n",
       "          Subclass_fraction_of_VLMC  Subclass_fraction_of_Vip  \n",
       "M0.00                           0.0                       0.0  \n",
       "M1.57                           0.0                       0.0  \n",
       "M2.16                           0.0                       0.0  \n",
       "M3.30                           0.0                       0.0  \n",
       "M4.24                           0.0                       0.0  \n",
       "...                             ...                       ...  \n",
       "M3026.80                        0.0                       0.0  \n",
       "M3027.04                        0.0                       0.0  \n",
       "M3028.54                        0.0                       0.0  \n",
       "M3029.27                        0.0                       0.0  \n",
       "M3030.97                        0.0                       0.0  \n",
       "\n",
       "[3031 rows x 49 columns]"
      ]
     },
     "execution_count": 3,
     "metadata": {},
     "output_type": "execute_result"
    }
   ],
   "source": [
    "adata.obs"
   ]
  },
  {
   "cell_type": "code",
   "execution_count": 4,
   "id": "a027fd95-d382-4e44-824e-c5a670ac8151",
   "metadata": {},
   "outputs": [],
   "source": [
    "adata.obs['Subclass'] = adata.obs['Subclass'].astype(str)"
   ]
  },
  {
   "cell_type": "code",
   "execution_count": 5,
   "id": "2d09fcfd-4271-437e-a0e9-13d2aac33bce",
   "metadata": {},
   "outputs": [],
   "source": [
    "import pandas as pd\n",
    "\n",
    "# Given mapping\n",
    "mapping = {\n",
    "    'Astro': 'astrocyte of the cerebral cortex',\n",
    "    'Oligo': 'oligodendrocyte',\n",
    "    'VLMC': 'vascular leptomeningeal cell',\n",
    "    'Micro-PVM': 'microglial cell',\n",
    "    'OPC': 'oligodendrocyte precursor cell',\n",
    "    'Endo': 'cerebral cortex endothelial cell',\n",
    "    'L5/6 NP': 'near-projecting glutamatergic cortical neuron',\n",
    "    'L6 CT': 'corticothalamic-projecting glutamatergic cortical neuron',\n",
    "    'L6b': 'L6b glutamatergic cortical neuron',\n",
    "    'L5 ET': 'L5 extratelencephalic projecting glutamatergic cortical neuron',\n",
    "    'Pax6': 'caudal ganglionic eminence derived GABAergic cortical interneuron',\n",
    "    'Vip': 'vip GABAergic cortical interneuron',\n",
    "    'Sncg': 'sncg GABAergic cortical interneuron',\n",
    "    'Lamp5_Lhx6': 'lamp5 GABAergic cortical interneuron',\n",
    "    'Lamp5': 'lamp5 GABAergic cortical interneuron',\n",
    "    'Sst Chodl': 'sst GABAergic cortical interneuron',\n",
    "    'Pvalb': 'pvalb GABAergic cortical interneuron',\n",
    "    'Sst': 'sst GABAergic cortical interneuron',\n",
    "    'Chandelier': 'chandelier pvalb GABAergic cortical interneuron',\n",
    "    'L5 IT': 'L5 intratelencephalic projecting glutamatergic neuron',\n",
    "    'L4 IT': 'L4 intratelencephalic projecting glutamatergic neuron',\n",
    "    'L2/3 IT': 'L2/3 intratelencephalic projecting glutamatergic neuron',\n",
    "    'L6 IT Car3': 'L6 intratelencephalic projecting glutamatergic neuron',\n",
    "    'L6 IT': 'L6 intratelencephalic projecting glutamatergic neuron'\n",
    "}\n"
   ]
  },
  {
   "cell_type": "code",
   "execution_count": 6,
   "id": "273e7189-ed56-4168-b07f-198ccbf45697",
   "metadata": {},
   "outputs": [
    {
     "name": "stdout",
     "output_type": "stream",
     "text": [
      "Astro\n",
      "Oligo\n",
      "VLMC\n",
      "Micro-PVM\n",
      "OPC\n",
      "Endo\n",
      "L5/6 NP\n",
      "L6 CT\n",
      "L6b\n",
      "L5 ET\n",
      "Pax6\n",
      "Vip\n",
      "Sncg\n",
      "Lamp5_Lhx6\n",
      "Lamp5\n",
      "Sst Chodl\n",
      "Pvalb\n",
      "Sst\n",
      "Chandelier\n",
      "L5 IT\n",
      "L4 IT\n",
      "L2/3 IT\n",
      "L6 IT Car3\n",
      "L6 IT\n"
     ]
    }
   ],
   "source": [
    "for key in mapping:\n",
    "    print(key)\n",
    "    adata.obs['Subclass'] = adata.obs['Subclass'].str.replace(key, mapping[key])\n",
    "    "
   ]
  },
  {
   "cell_type": "code",
   "execution_count": 7,
   "id": "7cedb5cb-981d-4dbb-8a5f-094ad438e4c8",
   "metadata": {
    "scrolled": true
   },
   "outputs": [
    {
     "data": {
      "text/plain": [
       "Index(['L2/3 intratelencephalic projecting glutamatergic neuron',\n",
       "       'L4 intratelencephalic projecting glutamatergic neuron',\n",
       "       'L5 extratelencephalic projecting glutamatergic cortical neuron',\n",
       "       'L5 intratelencephalic projecting glutamatergic neuron',\n",
       "       'L6 intratelencephalic projecting glutamatergic neuron',\n",
       "       'L6b glutamatergic cortical neuron', 'astrocyte of the cerebral cortex',\n",
       "       'caudal ganglionic eminence derived GABAergic cortical interneuron',\n",
       "       'cerebral cortex endothelial cell',\n",
       "       'chandelier pvalb GABAergic cortical interneuron',\n",
       "       'corticothalamic-projecting glutamatergic cortical neuron',\n",
       "       'lamp5 GABAergic cortical interneuron', 'microglial cell',\n",
       "       'near-projecting glutamatergic cortical neuron', 'oligodendrocyte',\n",
       "       'oligodendrocyte precursor cell',\n",
       "       'pvalb GABAergic cortical interneuron',\n",
       "       'sncg GABAergic cortical interneuron',\n",
       "       'sst GABAergic cortical interneuron', 'vascular leptomeningeal cell',\n",
       "       'vip GABAergic cortical interneuron'],\n",
       "      dtype='object')"
      ]
     },
     "execution_count": 7,
     "metadata": {},
     "output_type": "execute_result"
    }
   ],
   "source": [
    "adata.obs.Subclass.astype('category').cat.categories"
   ]
  },
  {
   "cell_type": "code",
   "execution_count": 8,
   "id": "a835c140-e72f-4ba4-b5c2-88e827ba4c7e",
   "metadata": {},
   "outputs": [],
   "source": [
    "adata.obs['cell_type_name'] = adata.obs['Subclass']"
   ]
  },
  {
   "cell_type": "code",
   "execution_count": 9,
   "id": "4c07ac24-2df1-4f43-bd02-28c7544fedac",
   "metadata": {},
   "outputs": [],
   "source": [
    "sc.pp.calculate_qc_metrics(adata, log1p=False, inplace=True)"
   ]
  },
  {
   "cell_type": "code",
   "execution_count": 10,
   "id": "35cfafae-b469-4ed3-a03b-3087cfaaee20",
   "metadata": {},
   "outputs": [
    {
     "data": {
      "text/plain": [
       "array([92.34576048, 94.52325965, 87.75981524, ...,  6.89541405,\n",
       "        0.        ,  0.        ])"
      ]
     },
     "execution_count": 10,
     "metadata": {},
     "output_type": "execute_result"
    }
   ],
   "source": [
    "adata.var.pct_dropout_by_counts.values"
   ]
  },
  {
   "cell_type": "code",
   "execution_count": null,
   "id": "6df83fd3-a41a-4b89-b837-56649fcb829e",
   "metadata": {},
   "outputs": [],
   "source": []
  },
  {
   "cell_type": "code",
   "execution_count": 11,
   "id": "a1761d9a-4ecb-4a40-be42-3ee763d54748",
   "metadata": {},
   "outputs": [],
   "source": [
    "## in human protein atlas, they analyzed genes that are expressed in at least 10% of cells as valid\n",
    "## shall we do this too"
   ]
  },
  {
   "cell_type": "code",
   "execution_count": 12,
   "id": "fa460ca8-5e7b-4f4c-968e-ae895ad30c9a",
   "metadata": {},
   "outputs": [
    {
     "data": {
      "text/plain": [
       "<AxesSubplot: ylabel='Count'>"
      ]
     },
     "execution_count": 12,
     "metadata": {},
     "output_type": "execute_result"
    },
    {
     "data": {
      "image/png": "[encoded data removed]",
      "text/plain": [
       "<Figure size 200x200 with 1 Axes>"
      ]
     },
     "metadata": {},
     "output_type": "display_data"
    }
   ],
   "source": [
    "sns.histplot(adata.var.pct_dropout_by_counts.values)"
   ]
  },
  {
   "cell_type": "code",
   "execution_count": 13,
   "id": "96e917c7-dd11-41d2-9101-3944ec1d2d78",
   "metadata": {},
   "outputs": [],
   "source": [
    "anno_col='cell_type_name'"
   ]
  },
  {
   "cell_type": "code",
   "execution_count": 14,
   "id": "7dbf6e06-6ebe-48ae-bb05-455fa21ce553",
   "metadata": {},
   "outputs": [
    {
     "data": {
      "text/plain": [
       "AnnData object with n_obs × n_vars = 3031 × 27124\n",
       "    obs: 'grouped', 'total_umis', '__zeros_downsample_umis', 'metacells_rare_gene_module', 'rare_metacell', 'cell_type', 'cell_type_fraction_of_L2/3-6 intratelencephalic projecting glutamatergic cortical neuron', 'cell_type_fraction_of_L5 extratelencephalic projecting glutamatergic cortical neuron', 'cell_type_fraction_of_L6b glutamatergic cortical neuron', 'cell_type_fraction_of_astrocyte of the cerebral cortex', 'cell_type_fraction_of_caudal ganglionic eminence derived GABAergic cortical interneuron', 'cell_type_fraction_of_cerebral cortex endothelial cell', 'cell_type_fraction_of_chandelier pvalb GABAergic cortical interneuron', 'cell_type_fraction_of_corticothalamic-projecting glutamatergic cortical neuron', 'cell_type_fraction_of_lamp5 GABAergic cortical interneuron', 'cell_type_fraction_of_microglial cell', 'cell_type_fraction_of_near-projecting glutamatergic cortical neuron', 'cell_type_fraction_of_oligodendrocyte', 'cell_type_fraction_of_oligodendrocyte precursor cell', 'cell_type_fraction_of_pvalb GABAergic cortical interneuron', 'cell_type_fraction_of_sncg GABAergic cortical interneuron', 'cell_type_fraction_of_sst GABAergic cortical interneuron', 'cell_type_fraction_of_vascular leptomeningeal cell', 'cell_type_fraction_of_vip GABAergic cortical interneuron', 'Subclass', 'Subclass_fraction_of_Astro', 'Subclass_fraction_of_Chandelier', 'Subclass_fraction_of_Endo', 'Subclass_fraction_of_L2/3 IT', 'Subclass_fraction_of_L4 IT', 'Subclass_fraction_of_L5 ET', 'Subclass_fraction_of_L5 IT', 'Subclass_fraction_of_L5/6 NP', 'Subclass_fraction_of_L6 CT', 'Subclass_fraction_of_L6 IT', 'Subclass_fraction_of_L6 IT Car3', 'Subclass_fraction_of_L6b', 'Subclass_fraction_of_Lamp5', 'Subclass_fraction_of_Lamp5_Lhx6', 'Subclass_fraction_of_Micro-PVM', 'Subclass_fraction_of_OPC', 'Subclass_fraction_of_Oligo', 'Subclass_fraction_of_Pax6', 'Subclass_fraction_of_Pvalb', 'Subclass_fraction_of_Sncg', 'Subclass_fraction_of_Sst', 'Subclass_fraction_of_Sst Chodl', 'Subclass_fraction_of_VLMC', 'Subclass_fraction_of_Vip', 'cell_type_name', 'n_genes_by_counts', 'total_counts', 'pct_counts_in_top_50_genes', 'pct_counts_in_top_100_genes', 'pct_counts_in_top_200_genes', 'pct_counts_in_top_500_genes'\n",
       "    var: 'name', 'bursty_lonely_gene', 'properly_sampled_gene', 'excluded_gene', 'full_gene_index', 'lateral_gene', 'lateral_genes_module', 'selected_gene', 'rare_gene', 'rare_gene_module', 'n_cells_by_counts', 'mean_counts', 'pct_dropout_by_counts', 'total_counts'\n",
       "    uns: '__name__', 'metacells_algorithm', 'outliers'\n",
       "    layers: 'total_umis', 'zeros'"
      ]
     },
     "execution_count": 14,
     "metadata": {},
     "output_type": "execute_result"
    }
   ],
   "source": [
    "adata"
   ]
  },
  {
   "cell_type": "code",
   "execution_count": 15,
   "id": "1d772ca3-b611-456c-90de-1ec3c7f566d3",
   "metadata": {},
   "outputs": [],
   "source": [
    "summed_adata = SummedAnnData(summed_adata=adata)\n",
    "## just assign the metacell anndata to summed_adata object"
   ]
  },
  {
   "cell_type": "code",
   "execution_count": 16,
   "id": "aff9ea42-ef0c-4879-9bf9-abf53a4e866b",
   "metadata": {},
   "outputs": [
    {
     "data": {
      "text/plain": [
       "genespectra.metacells.make_metacells.SummedAnnData"
      ]
     },
     "execution_count": 16,
     "metadata": {},
     "output_type": "execute_result"
    }
   ],
   "source": [
    "summed_adata.__class__"
   ]
  },
  {
   "cell_type": "code",
   "execution_count": 17,
   "id": "728b826b-471f-4374-83b4-2a4428617184",
   "metadata": {},
   "outputs": [
    {
     "name": "stdout",
     "output_type": "stream",
     "text": [
      "Size factor depth normalize counts\n",
      "Target total UMI per cell is 1000000\n",
      "Total UMI count is normalized to [[1000000.]]\n"
     ]
    }
   ],
   "source": [
    "# normalize to a fixed size factor\n",
    "summed_adata = SummedAnnData.depth_normalize_counts(summed_adata, target_sum=1000000)\n",
    "sc.pp.calculate_qc_metrics(summed_adata, log1p=False, inplace=True)"
   ]
  },
  {
   "cell_type": "code",
   "execution_count": 18,
   "id": "57a10fa9-351e-4233-a023-fb75f0207b13",
   "metadata": {
    "tags": []
   },
   "outputs": [
    {
     "data": {
      "text/plain": [
       "'summed_counts'"
      ]
     },
     "execution_count": 18,
     "metadata": {},
     "output_type": "execute_result"
    }
   ],
   "source": [
    "summed_adata.count_type"
   ]
  },
  {
   "cell_type": "code",
   "execution_count": 19,
   "id": "0327bd36-74ca-41ff-bd6f-a49687b02b05",
   "metadata": {},
   "outputs": [
    {
     "data": {
      "text/plain": [
       "3031"
      ]
     },
     "execution_count": 19,
     "metadata": {},
     "output_type": "execute_result"
    }
   ],
   "source": [
    "len(summed_adata.obs_names)"
   ]
  },
  {
   "cell_type": "code",
   "execution_count": 20,
   "id": "62ed8015-5ddb-447f-8fb3-0cfeac9dbc4e",
   "metadata": {},
   "outputs": [
    {
     "name": "stdout",
     "output_type": "stream",
     "text": [
      "Genes with min_count 1 are considered low count\n",
      "Genes with min_cells_pct 1 are considered low count\n",
      "Put 1536 genes into low counts genes\n"
     ]
    }
   ],
   "source": [
    "summed_adata = SummedAnnData.filter_low_counts(summed_adata, min_count=1, min_cells_pct=1)"
   ]
  },
  {
   "cell_type": "code",
   "execution_count": 21,
   "id": "0d6a7de7-314a-4616-9be3-5939e04f113d",
   "metadata": {},
   "outputs": [
    {
     "data": {
      "text/plain": [
       "AnnData object with n_obs × n_vars = 3031 × 25588\n",
       "    obs: 'grouped', 'total_umis', '__zeros_downsample_umis', 'metacells_rare_gene_module', 'rare_metacell', 'cell_type', 'cell_type_fraction_of_L2/3-6 intratelencephalic projecting glutamatergic cortical neuron', 'cell_type_fraction_of_L5 extratelencephalic projecting glutamatergic cortical neuron', 'cell_type_fraction_of_L6b glutamatergic cortical neuron', 'cell_type_fraction_of_astrocyte of the cerebral cortex', 'cell_type_fraction_of_caudal ganglionic eminence derived GABAergic cortical interneuron', 'cell_type_fraction_of_cerebral cortex endothelial cell', 'cell_type_fraction_of_chandelier pvalb GABAergic cortical interneuron', 'cell_type_fraction_of_corticothalamic-projecting glutamatergic cortical neuron', 'cell_type_fraction_of_lamp5 GABAergic cortical interneuron', 'cell_type_fraction_of_microglial cell', 'cell_type_fraction_of_near-projecting glutamatergic cortical neuron', 'cell_type_fraction_of_oligodendrocyte', 'cell_type_fraction_of_oligodendrocyte precursor cell', 'cell_type_fraction_of_pvalb GABAergic cortical interneuron', 'cell_type_fraction_of_sncg GABAergic cortical interneuron', 'cell_type_fraction_of_sst GABAergic cortical interneuron', 'cell_type_fraction_of_vascular leptomeningeal cell', 'cell_type_fraction_of_vip GABAergic cortical interneuron', 'Subclass', 'Subclass_fraction_of_Astro', 'Subclass_fraction_of_Chandelier', 'Subclass_fraction_of_Endo', 'Subclass_fraction_of_L2/3 IT', 'Subclass_fraction_of_L4 IT', 'Subclass_fraction_of_L5 ET', 'Subclass_fraction_of_L5 IT', 'Subclass_fraction_of_L5/6 NP', 'Subclass_fraction_of_L6 CT', 'Subclass_fraction_of_L6 IT', 'Subclass_fraction_of_L6 IT Car3', 'Subclass_fraction_of_L6b', 'Subclass_fraction_of_Lamp5', 'Subclass_fraction_of_Lamp5_Lhx6', 'Subclass_fraction_of_Micro-PVM', 'Subclass_fraction_of_OPC', 'Subclass_fraction_of_Oligo', 'Subclass_fraction_of_Pax6', 'Subclass_fraction_of_Pvalb', 'Subclass_fraction_of_Sncg', 'Subclass_fraction_of_Sst', 'Subclass_fraction_of_Sst Chodl', 'Subclass_fraction_of_VLMC', 'Subclass_fraction_of_Vip', 'cell_type_name', 'n_genes_by_counts', 'total_counts', 'pct_counts_in_top_50_genes', 'pct_counts_in_top_100_genes', 'pct_counts_in_top_200_genes', 'pct_counts_in_top_500_genes'\n",
       "    var: 'name', 'bursty_lonely_gene', 'properly_sampled_gene', 'excluded_gene', 'full_gene_index', 'lateral_gene', 'lateral_genes_module', 'selected_gene', 'rare_gene', 'rare_gene_module', 'n_cells_by_counts', 'mean_counts', 'pct_dropout_by_counts', 'total_counts', 'n_counts', 'n_cells'"
      ]
     },
     "execution_count": 21,
     "metadata": {},
     "output_type": "execute_result"
    }
   ],
   "source": [
    "summed_adata"
   ]
  },
  {
   "cell_type": "code",
   "execution_count": 22,
   "id": "8b533824-447c-47b8-a83e-cd01c8217377",
   "metadata": {},
   "outputs": [
    {
     "data": {
      "text/plain": [
       "1"
      ]
     },
     "execution_count": 22,
     "metadata": {},
     "output_type": "execute_result"
    }
   ],
   "source": [
    "summed_adata.removed_min_count\n",
    "## remove all genes having less than 1 count per million in metacells"
   ]
  },
  {
   "cell_type": "code",
   "execution_count": 23,
   "id": "523816c2-b361-47b7-90cb-368c31c3bd45",
   "metadata": {},
   "outputs": [
    {
     "data": {
      "text/plain": [
       "1"
      ]
     },
     "execution_count": 23,
     "metadata": {},
     "output_type": "execute_result"
    }
   ],
   "source": [
    "summed_adata.removed_min_cells_pct"
   ]
  },
  {
   "cell_type": "code",
   "execution_count": 24,
   "id": "1af7347d-a934-4463-b35d-4a93bd4d0262",
   "metadata": {},
   "outputs": [
    {
     "name": "stdout",
     "output_type": "stream",
     "text": [
      "running gene classification on 25588 genes\n",
      "Calculating group average of counts from SummedAnnData\n"
     ]
    }
   ],
   "source": [
    "print(f\"running gene classification on {len(summed_adata.var_names.values)} genes\")\n",
    "expr_data = ExpressionDataLong.create_from_summed_adata(input_summed_adata=summed_adata, anno_col=anno_col)"
   ]
  },
  {
   "cell_type": "code",
   "execution_count": 25,
   "id": "1ed09110-1af7-45ab-8f17-86f6c0d8956d",
   "metadata": {},
   "outputs": [],
   "source": [
    "from numpy import percentile"
   ]
  },
  {
   "cell_type": "code",
   "execution_count": 26,
   "id": "56561ecb-e070-46e9-b9af-662c6880da34",
   "metadata": {},
   "outputs": [
    {
     "data": {
      "text/plain": [
       "array([0.026339685730636123, 0.06128384973853827, 0.1886453628540039,\n",
       "       1.7430198788642883, 3.848037290573121, 7.9467098712921125,\n",
       "       11.546876192092896], dtype=object)"
      ]
     },
     "execution_count": 26,
     "metadata": {},
     "output_type": "execute_result"
    }
   ],
   "source": [
    "percentile(expr_data.expression, [10, 15, 25, 50, 60, 70, 75])"
   ]
  },
  {
   "cell_type": "code",
   "execution_count": 27,
   "id": "47d2b889-e5d9-4ae6-91b7-f55154854f24",
   "metadata": {},
   "outputs": [],
   "source": [
    "import seaborn as sns"
   ]
  },
  {
   "cell_type": "code",
   "execution_count": 28,
   "id": "2370c263-1aa9-434f-8520-c1cee4d24659",
   "metadata": {
    "tags": []
   },
   "outputs": [
    {
     "name": "stdout",
     "output_type": "stream",
     "text": [
      "Multiprocessing with 48 cores\n",
      "Running HPA gene classification \n",
      "Running HPA gene classification \n",
      "\n",
      "Running HPA gene classification \n",
      "num cell types = 21, num_genes = 2607, max_group=10.0, exp_lim=1\n",
      "\n",
      "Running HPA gene classification \n",
      "\n",
      "\n",
      "num cell types = 21, num_genes = 2558, max_group=10.0, exp_lim=1\n",
      "\n",
      "num cell types = 21, num_genes = 2550, max_group=10.0, exp_lim=1\n",
      "\n",
      "num cell types = 21, num_genes = 2575, max_group=10.0, exp_lim=1\n",
      "Running HPA gene classification \n",
      "\n",
      "\n",
      "\n",
      "Running HPA gene classification \n",
      "Running HPA gene classification \n",
      "\n",
      "\n",
      "num cell types = 21, num_genes = 2637, max_group=10.0, exp_lim=1\n",
      "num cell types = 21, num_genes = 2544, max_group=10.0, exp_lim=1\n",
      "\n",
      "\n",
      "Running HPA gene classification \n",
      "num cell types = 21, num_genes = 2595, max_group=10.0, exp_lim=1\n",
      "\n",
      "\n",
      "num cell types = 21, num_genes = 2411, max_group=10.0, exp_lim=1\n",
      "Running HPA gene classification \n",
      "\n",
      "\n",
      "Running HPA gene classification \n",
      "\n",
      "num cell types = 21, num_genes = 2603, max_group=10.0, exp_lim=1\n",
      "\n",
      "num cell types = 21, num_genes = 2508, max_group=10.0, exp_lim=1\n",
      "\n"
     ]
    },
    {
     "name": "stderr",
     "output_type": "stream",
     "text": [
      "/nfs/research/icortes/ysong/anaconda3/envs/metacells_py/lib/python3.8/site-packages/numpy/core/fromnumeric.py:3464: RuntimeWarning: Mean of empty slice.\n",
      "  return _methods._mean(a, axis=axis, dtype=dtype,\n",
      "/nfs/research/icortes/ysong/anaconda3/envs/metacells_py/lib/python3.8/site-packages/numpy/core/fromnumeric.py:3464: RuntimeWarning: Mean of empty slice.\n",
      "  return _methods._mean(a, axis=axis, dtype=dtype,\n",
      "/nfs/research/icortes/ysong/anaconda3/envs/metacells_py/lib/python3.8/site-packages/numpy/core/fromnumeric.py:3464: RuntimeWarning: Mean of empty slice.\n",
      "  return _methods._mean(a, axis=axis, dtype=dtype,\n",
      "/nfs/research/icortes/ysong/anaconda3/envs/metacells_py/lib/python3.8/site-packages/numpy/core/fromnumeric.py:3464: RuntimeWarning: Mean of empty slice.\n",
      "  return _methods._mean(a, axis=axis, dtype=dtype,\n",
      "/nfs/research/icortes/ysong/anaconda3/envs/metacells_py/lib/python3.8/site-packages/numpy/core/fromnumeric.py:3464: RuntimeWarning: Mean of empty slice.\n",
      "  return _methods._mean(a, axis=axis, dtype=dtype,\n",
      "/nfs/research/icortes/ysong/anaconda3/envs/metacells_py/lib/python3.8/site-packages/numpy/core/fromnumeric.py:3464: RuntimeWarning: Mean of empty slice.\n",
      "  return _methods._mean(a, axis=axis, dtype=dtype,\n",
      "/nfs/research/icortes/ysong/anaconda3/envs/metacells_py/lib/python3.8/site-packages/numpy/core/fromnumeric.py:3464: RuntimeWarning: Mean of empty slice.\n",
      "  return _methods._mean(a, axis=axis, dtype=dtype,\n",
      "/nfs/research/icortes/ysong/anaconda3/envs/metacells_py/lib/python3.8/site-packages/numpy/core/fromnumeric.py:3464: RuntimeWarning: Mean of empty slice.\n",
      "  return _methods._mean(a, axis=axis, dtype=dtype,\n",
      "/nfs/research/icortes/ysong/anaconda3/envs/metacells_py/lib/python3.8/site-packages/numpy/core/fromnumeric.py:3464: RuntimeWarning: Mean of empty slice.\n",
      "  return _methods._mean(a, axis=axis, dtype=dtype,\n",
      "/nfs/research/icortes/ysong/anaconda3/envs/metacells_py/lib/python3.8/site-packages/numpy/core/fromnumeric.py:3464: RuntimeWarning: Mean of empty slice.\n",
      "  return _methods._mean(a, axis=axis, dtype=dtype,\n"
     ]
    },
    {
     "name": "stdout",
     "output_type": "stream",
     "text": [
      "finish gene classification with multiprocessing\n"
     ]
    }
   ],
   "source": [
    "result_classes = GeneClassificationResult.create_from_expression_data_long_multiprocess(expr_data, max_group_n=None, exp_lim=1, enr_fold=4)"
   ]
  },
  {
   "cell_type": "code",
   "execution_count": 29,
   "id": "5541d64c-b914-4379-b693-d557bd774767",
   "metadata": {},
   "outputs": [
    {
     "data": {
      "text/plain": [
       "low cell type specificity    12868\n",
       "lowly expressed               5450\n",
       "cell type enhanced            3294\n",
       "cell type enriched            2092\n",
       "group enriched                1285\n",
       "group enhanced                 599\n",
       "Name: spec_category, dtype: int64"
      ]
     },
     "execution_count": 29,
     "metadata": {},
     "output_type": "execute_result"
    }
   ],
   "source": [
    "result_classes.spec_category.value_counts()"
   ]
  },
  {
   "cell_type": "code",
   "execution_count": 30,
   "id": "cb15c31b-b802-45d7-96b0-302d19376037",
   "metadata": {},
   "outputs": [
    {
     "data": {
      "text/plain": [
       "1201.013671875"
      ]
     },
     "execution_count": 30,
     "metadata": {},
     "output_type": "execute_result"
    }
   ],
   "source": [
    "result_classes.spec_score.max()"
   ]
  },
  {
   "cell_type": "code",
   "execution_count": 31,
   "id": "a6f58a7d-95e1-4013-9770-2c7151e931ab",
   "metadata": {},
   "outputs": [
    {
     "data": {
      "text/plain": [
       "expressed in over 90%         12117\n",
       "lowly expressed                5450\n",
       "expressed in less than 30%     3175\n",
       "expressed in over 30%          3039\n",
       "expressed in single            1807\n",
       "Name: dist_category, dtype: int64"
      ]
     },
     "execution_count": 31,
     "metadata": {},
     "output_type": "execute_result"
    }
   ],
   "source": [
    "result_classes.dist_category.value_counts()"
   ]
  },
  {
   "cell_type": "code",
   "execution_count": 32,
   "id": "5f794fe9-5312-4094-af7d-b3dee1fe2451",
   "metadata": {},
   "outputs": [],
   "source": [
    "from genespectra.gene_classification.plotting import plot_categories_pie, plot_categories_hist"
   ]
  },
  {
   "cell_type": "code",
   "execution_count": 33,
   "id": "90503faf-7a56-4524-a2eb-d5ccc78887cb",
   "metadata": {},
   "outputs": [],
   "source": [
    "import plotly.io as pio\n",
    "pio.renderers.default='iframe'\n",
    "from plotly.graph_objects import Figure\n",
    "import plotly.express as px"
   ]
  },
  {
   "cell_type": "code",
   "execution_count": 34,
   "id": "421049b1-f047-4739-91aa-91bbd6415e5e",
   "metadata": {},
   "outputs": [],
   "source": [
    "def plot_categories_pie(data, kind='spec_category', title=None) -> Figure:\n",
    "    \"\"\"\n",
    "\n",
    "    :param data: the categories output by hpa_gene_classification\n",
    "    :param kind: the kind of category to plot, choose between spec_category (default) and dist_category\n",
    "    :param title: title of the plot, usually the species and dataset name\n",
    "    :return: a plotly.graph_objects.Figure of Pie plot\n",
    "    \"\"\"\n",
    "    if kind not in ('spec_category', 'dist_category'):\n",
    "        raise ValueError('kind should be either spec_category or dist_category')\n",
    "\n",
    "    counts = data[kind].value_counts().to_frame().reset_index().rename(\n",
    "        columns={kind: \"counts\", \"index\": 'gene_category'})\n",
    "    fig = px.pie(counts, values='counts', names='gene_category', title=title)\n",
    "    fig.show(renderer='iframe')\n",
    "\n",
    "    return fig\n"
   ]
  },
  {
   "cell_type": "code",
   "execution_count": 35,
   "id": "49ebb099-1084-49b3-83ff-38fdd4252670",
   "metadata": {},
   "outputs": [
    {
     "data": {
      "text/html": [
       "<iframe\n",
       "    scrolling=\"no\"\n",
       "    width=\"100%\"\n",
       "    height=\"545px\"\n",
       "    src=\"iframe_figures/figure_35.html\"\n",
       "    frameborder=\"0\"\n",
       "    allowfullscreen\n",
       "></iframe>\n"
      ]
     },
     "metadata": {},
     "output_type": "display_data"
    },
    {
     "data": {
      "text/html": [
       "<iframe\n",
       "    scrolling=\"no\"\n",
       "    width=\"100%\"\n",
       "    height=\"545px\"\n",
       "    src=\"iframe_figures/figure_35.html\"\n",
       "    frameborder=\"0\"\n",
       "    allowfullscreen\n",
       "></iframe>\n"
      ]
     },
     "metadata": {},
     "output_type": "display_data"
    }
   ],
   "source": [
    "plot_categories_pie(result_classes)"
   ]
  },
  {
   "cell_type": "code",
   "execution_count": 36,
   "id": "8b718886-9022-43a6-a74e-fade9332fd8d",
   "metadata": {},
   "outputs": [
    {
     "data": {
      "text/html": [
       "<div>\n",
       "<style scoped>\n",
       "    .dataframe tbody tr th:only-of-type {\n",
       "        vertical-align: middle;\n",
       "    }\n",
       "\n",
       "    .dataframe tbody tr th {\n",
       "        vertical-align: top;\n",
       "    }\n",
       "\n",
       "    .dataframe thead th {\n",
       "        text-align: right;\n",
       "    }\n",
       "</style>\n",
       "<table border=\"1\" class=\"dataframe\">\n",
       "  <thead>\n",
       "    <tr style=\"text-align: right;\">\n",
       "      <th></th>\n",
       "      <th>n_exp</th>\n",
       "    </tr>\n",
       "  </thead>\n",
       "  <tbody>\n",
       "    <tr>\n",
       "      <th>0</th>\n",
       "      <td>5450</td>\n",
       "    </tr>\n",
       "    <tr>\n",
       "      <th>1</th>\n",
       "      <td>1807</td>\n",
       "    </tr>\n",
       "    <tr>\n",
       "      <th>2</th>\n",
       "      <td>1032</td>\n",
       "    </tr>\n",
       "    <tr>\n",
       "      <th>3</th>\n",
       "      <td>721</td>\n",
       "    </tr>\n",
       "    <tr>\n",
       "      <th>4</th>\n",
       "      <td>559</td>\n",
       "    </tr>\n",
       "    <tr>\n",
       "      <th>5</th>\n",
       "      <td>426</td>\n",
       "    </tr>\n",
       "    <tr>\n",
       "      <th>6</th>\n",
       "      <td>437</td>\n",
       "    </tr>\n",
       "    <tr>\n",
       "      <th>7</th>\n",
       "      <td>313</td>\n",
       "    </tr>\n",
       "    <tr>\n",
       "      <th>8</th>\n",
       "      <td>254</td>\n",
       "    </tr>\n",
       "    <tr>\n",
       "      <th>9</th>\n",
       "      <td>236</td>\n",
       "    </tr>\n",
       "    <tr>\n",
       "      <th>10</th>\n",
       "      <td>241</td>\n",
       "    </tr>\n",
       "    <tr>\n",
       "      <th>11</th>\n",
       "      <td>244</td>\n",
       "    </tr>\n",
       "    <tr>\n",
       "      <th>12</th>\n",
       "      <td>236</td>\n",
       "    </tr>\n",
       "    <tr>\n",
       "      <th>13</th>\n",
       "      <td>227</td>\n",
       "    </tr>\n",
       "    <tr>\n",
       "      <th>14</th>\n",
       "      <td>217</td>\n",
       "    </tr>\n",
       "    <tr>\n",
       "      <th>15</th>\n",
       "      <td>221</td>\n",
       "    </tr>\n",
       "    <tr>\n",
       "      <th>16</th>\n",
       "      <td>258</td>\n",
       "    </tr>\n",
       "    <tr>\n",
       "      <th>17</th>\n",
       "      <td>290</td>\n",
       "    </tr>\n",
       "    <tr>\n",
       "      <th>18</th>\n",
       "      <td>302</td>\n",
       "    </tr>\n",
       "    <tr>\n",
       "      <th>19</th>\n",
       "      <td>397</td>\n",
       "    </tr>\n",
       "    <tr>\n",
       "      <th>20</th>\n",
       "      <td>591</td>\n",
       "    </tr>\n",
       "    <tr>\n",
       "      <th>21</th>\n",
       "      <td>11129</td>\n",
       "    </tr>\n",
       "  </tbody>\n",
       "</table>\n",
       "</div>"
      ],
      "text/plain": [
       "    n_exp\n",
       "0    5450\n",
       "1    1807\n",
       "2    1032\n",
       "3     721\n",
       "4     559\n",
       "5     426\n",
       "6     437\n",
       "7     313\n",
       "8     254\n",
       "9     236\n",
       "10    241\n",
       "11    244\n",
       "12    236\n",
       "13    227\n",
       "14    217\n",
       "15    221\n",
       "16    258\n",
       "17    290\n",
       "18    302\n",
       "19    397\n",
       "20    591\n",
       "21  11129"
      ]
     },
     "execution_count": 36,
     "metadata": {},
     "output_type": "execute_result"
    }
   ],
   "source": [
    "result_classes.n_exp.value_counts().to_frame().sort_index()"
   ]
  },
  {
   "cell_type": "code",
   "execution_count": 37,
   "id": "80f4412a-f8a5-4d43-9d66-57ace01a1da2",
   "metadata": {},
   "outputs": [
    {
     "data": {
      "text/html": [
       "<iframe\n",
       "    scrolling=\"no\"\n",
       "    width=\"100%\"\n",
       "    height=\"545px\"\n",
       "    src=\"iframe_figures/figure_37.html\"\n",
       "    frameborder=\"0\"\n",
       "    allowfullscreen\n",
       "></iframe>\n"
      ]
     },
     "metadata": {},
     "output_type": "display_data"
    },
    {
     "data": {
      "text/html": [
       "<iframe\n",
       "    scrolling=\"no\"\n",
       "    width=\"100%\"\n",
       "    height=\"545px\"\n",
       "    src=\"iframe_figures/figure_37.html\"\n",
       "    frameborder=\"0\"\n",
       "    allowfullscreen\n",
       "></iframe>\n"
      ]
     },
     "metadata": {},
     "output_type": "display_data"
    }
   ],
   "source": [
    "plot_categories_hist(result_classes)"
   ]
  },
  {
   "cell_type": "code",
   "execution_count": 38,
   "id": "1e5687fa-f3b8-4425-bd6e-e4ce443d8d4b",
   "metadata": {},
   "outputs": [],
   "source": [
    "result_classes.to_csv('marmoset_classes_subclass_1TPM.csv')"
   ]
  },
  {
   "cell_type": "code",
   "execution_count": 39,
   "id": "a6887f00-5c4f-46e1-a9cc-bd8e87d7518e",
   "metadata": {},
   "outputs": [],
   "source": [
    "expr_data.to_csv('marmoset_subclass_expr_1TPM.csv')"
   ]
  }
 ],
 "metadata": {
  "kernelspec": {
   "display_name": "metacells_py",
   "language": "python",
   "name": "metacells_py"
  },
  "language_info": {
   "codemirror_mode": {
    "name": "ipython",
    "version": 3
   },
   "file_extension": ".py",
   "mimetype": "text/x-python",
   "name": "python",
   "nbconvert_exporter": "python",
   "pygments_lexer": "ipython3",
   "version": "3.8.16"
  }
 },
 "nbformat": 4,
 "nbformat_minor": 5
}
