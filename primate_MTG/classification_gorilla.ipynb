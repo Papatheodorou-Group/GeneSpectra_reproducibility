{
 "cells": [
  {
   "cell_type": "code",
   "execution_count": 1,
   "id": "3a0ac0b5-ce71-4b1f-b14c-66c290dc1d85",
   "metadata": {},
   "outputs": [
    {
     "name": "stderr",
     "output_type": "stream",
     "text": [
      "/nfs/research/icortes/ysong/anaconda3/envs/metacells_py/lib/python3.8/site-packages/tqdm/auto.py:21: TqdmWarning: IProgress not found. Please update jupyter and ipywidgets. See https://ipywidgets.readthedocs.io/en/stable/user_install.html\n",
      "  from .autonotebook import tqdm as notebook_tqdm\n"
     ]
    }
   ],
   "source": [
    "import scanpy as sc\n",
    "import numpy as np\n",
    "import pandas as pd\n",
    "import warnings\n",
    "import matplotlib.pyplot as plt\n",
    "import seaborn as sns\n",
    "\n",
    "import multiprocessing as mp\n",
    "from genespectra.gene_classification.classify_genes import ExpressionDataLong, GeneClassificationResult\n",
    "from genespectra.metacells.make_metacells import SummedAnnData\n",
    "sns.set_theme(rc={'figure.dpi': 100, 'figure.figsize': (2, 2)})"
   ]
  },
  {
   "cell_type": "code",
   "execution_count": 2,
   "id": "ef4d2cd8-b053-400f-ab03-61771269e65f",
   "metadata": {},
   "outputs": [],
   "source": [
    "adata = sc.read_h5ad(\"../../metacells/gorilla_metacells_subclass.h5ad\")"
   ]
  },
  {
   "cell_type": "code",
   "execution_count": 3,
   "id": "4412c648-b315-4c7b-9667-7efae5261ba0",
   "metadata": {},
   "outputs": [
    {
     "data": {
      "text/html": [
       "<div>\n",
       "<style scoped>\n",
       "    .dataframe tbody tr th:only-of-type {\n",
       "        vertical-align: middle;\n",
       "    }\n",
       "\n",
       "    .dataframe tbody tr th {\n",
       "        vertical-align: top;\n",
       "    }\n",
       "\n",
       "    .dataframe thead th {\n",
       "        text-align: right;\n",
       "    }\n",
       "</style>\n",
       "<table border=\"1\" class=\"dataframe\">\n",
       "  <thead>\n",
       "    <tr style=\"text-align: right;\">\n",
       "      <th></th>\n",
       "      <th>grouped</th>\n",
       "      <th>total_umis</th>\n",
       "      <th>__zeros_downsample_umis</th>\n",
       "      <th>metacells_rare_gene_module</th>\n",
       "      <th>rare_metacell</th>\n",
       "      <th>cell_type</th>\n",
       "      <th>cell_type_fraction_of_L2/3-6 intratelencephalic projecting glutamatergic cortical neuron</th>\n",
       "      <th>cell_type_fraction_of_L5 extratelencephalic projecting glutamatergic cortical neuron</th>\n",
       "      <th>cell_type_fraction_of_L6b glutamatergic cortical neuron</th>\n",
       "      <th>cell_type_fraction_of_astrocyte of the cerebral cortex</th>\n",
       "      <th>...</th>\n",
       "      <th>Subclass_fraction_of_Micro-PVM</th>\n",
       "      <th>Subclass_fraction_of_OPC</th>\n",
       "      <th>Subclass_fraction_of_Oligo</th>\n",
       "      <th>Subclass_fraction_of_Pax6</th>\n",
       "      <th>Subclass_fraction_of_Pvalb</th>\n",
       "      <th>Subclass_fraction_of_Sncg</th>\n",
       "      <th>Subclass_fraction_of_Sst</th>\n",
       "      <th>Subclass_fraction_of_Sst Chodl</th>\n",
       "      <th>Subclass_fraction_of_VLMC</th>\n",
       "      <th>Subclass_fraction_of_Vip</th>\n",
       "    </tr>\n",
       "  </thead>\n",
       "  <tbody>\n",
       "    <tr>\n",
       "      <th>M0.07</th>\n",
       "      <td>17</td>\n",
       "      <td>306860</td>\n",
       "      <td>11439</td>\n",
       "      <td>-1</td>\n",
       "      <td>False</td>\n",
       "      <td>lamp5 GABAergic cortical interneuron</td>\n",
       "      <td>0.0</td>\n",
       "      <td>0.0</td>\n",
       "      <td>0.0</td>\n",
       "      <td>0.0</td>\n",
       "      <td>...</td>\n",
       "      <td>0.0</td>\n",
       "      <td>0.0</td>\n",
       "      <td>0.0</td>\n",
       "      <td>0.00</td>\n",
       "      <td>0.0</td>\n",
       "      <td>0.00</td>\n",
       "      <td>0.0</td>\n",
       "      <td>0.0</td>\n",
       "      <td>0.0</td>\n",
       "      <td>0.0</td>\n",
       "    </tr>\n",
       "    <tr>\n",
       "      <th>M1.61</th>\n",
       "      <td>22</td>\n",
       "      <td>307869</td>\n",
       "      <td>7596</td>\n",
       "      <td>-1</td>\n",
       "      <td>False</td>\n",
       "      <td>lamp5 GABAergic cortical interneuron</td>\n",
       "      <td>0.0</td>\n",
       "      <td>0.0</td>\n",
       "      <td>0.0</td>\n",
       "      <td>0.0</td>\n",
       "      <td>...</td>\n",
       "      <td>0.0</td>\n",
       "      <td>0.0</td>\n",
       "      <td>0.0</td>\n",
       "      <td>0.00</td>\n",
       "      <td>0.0</td>\n",
       "      <td>0.00</td>\n",
       "      <td>0.0</td>\n",
       "      <td>0.0</td>\n",
       "      <td>0.0</td>\n",
       "      <td>0.0</td>\n",
       "    </tr>\n",
       "    <tr>\n",
       "      <th>M2.91</th>\n",
       "      <td>17</td>\n",
       "      <td>293368</td>\n",
       "      <td>9824</td>\n",
       "      <td>-1</td>\n",
       "      <td>False</td>\n",
       "      <td>lamp5 GABAergic cortical interneuron</td>\n",
       "      <td>0.0</td>\n",
       "      <td>0.0</td>\n",
       "      <td>0.0</td>\n",
       "      <td>0.0</td>\n",
       "      <td>...</td>\n",
       "      <td>0.0</td>\n",
       "      <td>0.0</td>\n",
       "      <td>0.0</td>\n",
       "      <td>0.00</td>\n",
       "      <td>0.0</td>\n",
       "      <td>0.00</td>\n",
       "      <td>0.0</td>\n",
       "      <td>0.0</td>\n",
       "      <td>0.0</td>\n",
       "      <td>0.0</td>\n",
       "    </tr>\n",
       "    <tr>\n",
       "      <th>M3.62</th>\n",
       "      <td>18</td>\n",
       "      <td>315128</td>\n",
       "      <td>7047</td>\n",
       "      <td>-1</td>\n",
       "      <td>False</td>\n",
       "      <td>lamp5 GABAergic cortical interneuron</td>\n",
       "      <td>0.0</td>\n",
       "      <td>0.0</td>\n",
       "      <td>0.0</td>\n",
       "      <td>0.0</td>\n",
       "      <td>...</td>\n",
       "      <td>0.0</td>\n",
       "      <td>0.0</td>\n",
       "      <td>0.0</td>\n",
       "      <td>0.00</td>\n",
       "      <td>0.0</td>\n",
       "      <td>0.00</td>\n",
       "      <td>0.0</td>\n",
       "      <td>0.0</td>\n",
       "      <td>0.0</td>\n",
       "      <td>0.0</td>\n",
       "    </tr>\n",
       "    <tr>\n",
       "      <th>M4.40</th>\n",
       "      <td>24</td>\n",
       "      <td>320004</td>\n",
       "      <td>6092</td>\n",
       "      <td>-1</td>\n",
       "      <td>False</td>\n",
       "      <td>lamp5 GABAergic cortical interneuron</td>\n",
       "      <td>0.0</td>\n",
       "      <td>0.0</td>\n",
       "      <td>0.0</td>\n",
       "      <td>0.0</td>\n",
       "      <td>...</td>\n",
       "      <td>0.0</td>\n",
       "      <td>0.0</td>\n",
       "      <td>0.0</td>\n",
       "      <td>0.00</td>\n",
       "      <td>0.0</td>\n",
       "      <td>0.00</td>\n",
       "      <td>0.0</td>\n",
       "      <td>0.0</td>\n",
       "      <td>0.0</td>\n",
       "      <td>0.0</td>\n",
       "    </tr>\n",
       "    <tr>\n",
       "      <th>...</th>\n",
       "      <td>...</td>\n",
       "      <td>...</td>\n",
       "      <td>...</td>\n",
       "      <td>...</td>\n",
       "      <td>...</td>\n",
       "      <td>...</td>\n",
       "      <td>...</td>\n",
       "      <td>...</td>\n",
       "      <td>...</td>\n",
       "      <td>...</td>\n",
       "      <td>...</td>\n",
       "      <td>...</td>\n",
       "      <td>...</td>\n",
       "      <td>...</td>\n",
       "      <td>...</td>\n",
       "      <td>...</td>\n",
       "      <td>...</td>\n",
       "      <td>...</td>\n",
       "      <td>...</td>\n",
       "      <td>...</td>\n",
       "      <td>...</td>\n",
       "    </tr>\n",
       "    <tr>\n",
       "      <th>M6496.49</th>\n",
       "      <td>15</td>\n",
       "      <td>308122</td>\n",
       "      <td>13038</td>\n",
       "      <td>-1</td>\n",
       "      <td>False</td>\n",
       "      <td>pvalb GABAergic cortical interneuron</td>\n",
       "      <td>0.0</td>\n",
       "      <td>0.0</td>\n",
       "      <td>0.0</td>\n",
       "      <td>0.0</td>\n",
       "      <td>...</td>\n",
       "      <td>0.0</td>\n",
       "      <td>0.0</td>\n",
       "      <td>0.0</td>\n",
       "      <td>0.00</td>\n",
       "      <td>1.0</td>\n",
       "      <td>0.00</td>\n",
       "      <td>0.0</td>\n",
       "      <td>0.0</td>\n",
       "      <td>0.0</td>\n",
       "      <td>0.0</td>\n",
       "    </tr>\n",
       "    <tr>\n",
       "      <th>M6497.81</th>\n",
       "      <td>12</td>\n",
       "      <td>225234</td>\n",
       "      <td>10850</td>\n",
       "      <td>-1</td>\n",
       "      <td>False</td>\n",
       "      <td>sncg GABAergic cortical interneuron</td>\n",
       "      <td>0.0</td>\n",
       "      <td>0.0</td>\n",
       "      <td>0.0</td>\n",
       "      <td>0.0</td>\n",
       "      <td>...</td>\n",
       "      <td>0.0</td>\n",
       "      <td>0.0</td>\n",
       "      <td>0.0</td>\n",
       "      <td>0.25</td>\n",
       "      <td>0.0</td>\n",
       "      <td>0.75</td>\n",
       "      <td>0.0</td>\n",
       "      <td>0.0</td>\n",
       "      <td>0.0</td>\n",
       "      <td>0.0</td>\n",
       "    </tr>\n",
       "    <tr>\n",
       "      <th>M6498.04</th>\n",
       "      <td>12</td>\n",
       "      <td>320822</td>\n",
       "      <td>14747</td>\n",
       "      <td>-1</td>\n",
       "      <td>False</td>\n",
       "      <td>pvalb GABAergic cortical interneuron</td>\n",
       "      <td>0.0</td>\n",
       "      <td>0.0</td>\n",
       "      <td>0.0</td>\n",
       "      <td>0.0</td>\n",
       "      <td>...</td>\n",
       "      <td>0.0</td>\n",
       "      <td>0.0</td>\n",
       "      <td>0.0</td>\n",
       "      <td>0.00</td>\n",
       "      <td>1.0</td>\n",
       "      <td>0.00</td>\n",
       "      <td>0.0</td>\n",
       "      <td>0.0</td>\n",
       "      <td>0.0</td>\n",
       "      <td>0.0</td>\n",
       "    </tr>\n",
       "    <tr>\n",
       "      <th>M6499.54</th>\n",
       "      <td>13</td>\n",
       "      <td>296130</td>\n",
       "      <td>17047</td>\n",
       "      <td>-1</td>\n",
       "      <td>False</td>\n",
       "      <td>lamp5 GABAergic cortical interneuron</td>\n",
       "      <td>0.0</td>\n",
       "      <td>0.0</td>\n",
       "      <td>0.0</td>\n",
       "      <td>0.0</td>\n",
       "      <td>...</td>\n",
       "      <td>0.0</td>\n",
       "      <td>0.0</td>\n",
       "      <td>0.0</td>\n",
       "      <td>0.00</td>\n",
       "      <td>0.0</td>\n",
       "      <td>0.00</td>\n",
       "      <td>0.0</td>\n",
       "      <td>0.0</td>\n",
       "      <td>0.0</td>\n",
       "      <td>0.0</td>\n",
       "    </tr>\n",
       "    <tr>\n",
       "      <th>M6500.41</th>\n",
       "      <td>16</td>\n",
       "      <td>538449</td>\n",
       "      <td>23978</td>\n",
       "      <td>-1</td>\n",
       "      <td>False</td>\n",
       "      <td>L2/3-6 intratelencephalic projecting glutamate...</td>\n",
       "      <td>1.0</td>\n",
       "      <td>0.0</td>\n",
       "      <td>0.0</td>\n",
       "      <td>0.0</td>\n",
       "      <td>...</td>\n",
       "      <td>0.0</td>\n",
       "      <td>0.0</td>\n",
       "      <td>0.0</td>\n",
       "      <td>0.00</td>\n",
       "      <td>0.0</td>\n",
       "      <td>0.00</td>\n",
       "      <td>0.0</td>\n",
       "      <td>0.0</td>\n",
       "      <td>0.0</td>\n",
       "      <td>0.0</td>\n",
       "    </tr>\n",
       "  </tbody>\n",
       "</table>\n",
       "<p>6501 rows × 49 columns</p>\n",
       "</div>"
      ],
      "text/plain": [
       "          grouped  total_umis  __zeros_downsample_umis  \\\n",
       "M0.07          17      306860                    11439   \n",
       "M1.61          22      307869                     7596   \n",
       "M2.91          17      293368                     9824   \n",
       "M3.62          18      315128                     7047   \n",
       "M4.40          24      320004                     6092   \n",
       "...           ...         ...                      ...   \n",
       "M6496.49       15      308122                    13038   \n",
       "M6497.81       12      225234                    10850   \n",
       "M6498.04       12      320822                    14747   \n",
       "M6499.54       13      296130                    17047   \n",
       "M6500.41       16      538449                    23978   \n",
       "\n",
       "          metacells_rare_gene_module  rare_metacell  \\\n",
       "M0.07                             -1          False   \n",
       "M1.61                             -1          False   \n",
       "M2.91                             -1          False   \n",
       "M3.62                             -1          False   \n",
       "M4.40                             -1          False   \n",
       "...                              ...            ...   \n",
       "M6496.49                          -1          False   \n",
       "M6497.81                          -1          False   \n",
       "M6498.04                          -1          False   \n",
       "M6499.54                          -1          False   \n",
       "M6500.41                          -1          False   \n",
       "\n",
       "                                                  cell_type  \\\n",
       "M0.07                  lamp5 GABAergic cortical interneuron   \n",
       "M1.61                  lamp5 GABAergic cortical interneuron   \n",
       "M2.91                  lamp5 GABAergic cortical interneuron   \n",
       "M3.62                  lamp5 GABAergic cortical interneuron   \n",
       "M4.40                  lamp5 GABAergic cortical interneuron   \n",
       "...                                                     ...   \n",
       "M6496.49               pvalb GABAergic cortical interneuron   \n",
       "M6497.81                sncg GABAergic cortical interneuron   \n",
       "M6498.04               pvalb GABAergic cortical interneuron   \n",
       "M6499.54               lamp5 GABAergic cortical interneuron   \n",
       "M6500.41  L2/3-6 intratelencephalic projecting glutamate...   \n",
       "\n",
       "          cell_type_fraction_of_L2/3-6 intratelencephalic projecting glutamatergic cortical neuron  \\\n",
       "M0.07                                                   0.0                                          \n",
       "M1.61                                                   0.0                                          \n",
       "M2.91                                                   0.0                                          \n",
       "M3.62                                                   0.0                                          \n",
       "M4.40                                                   0.0                                          \n",
       "...                                                     ...                                          \n",
       "M6496.49                                                0.0                                          \n",
       "M6497.81                                                0.0                                          \n",
       "M6498.04                                                0.0                                          \n",
       "M6499.54                                                0.0                                          \n",
       "M6500.41                                                1.0                                          \n",
       "\n",
       "          cell_type_fraction_of_L5 extratelencephalic projecting glutamatergic cortical neuron  \\\n",
       "M0.07                                                   0.0                                      \n",
       "M1.61                                                   0.0                                      \n",
       "M2.91                                                   0.0                                      \n",
       "M3.62                                                   0.0                                      \n",
       "M4.40                                                   0.0                                      \n",
       "...                                                     ...                                      \n",
       "M6496.49                                                0.0                                      \n",
       "M6497.81                                                0.0                                      \n",
       "M6498.04                                                0.0                                      \n",
       "M6499.54                                                0.0                                      \n",
       "M6500.41                                                0.0                                      \n",
       "\n",
       "          cell_type_fraction_of_L6b glutamatergic cortical neuron  \\\n",
       "M0.07                                                   0.0         \n",
       "M1.61                                                   0.0         \n",
       "M2.91                                                   0.0         \n",
       "M3.62                                                   0.0         \n",
       "M4.40                                                   0.0         \n",
       "...                                                     ...         \n",
       "M6496.49                                                0.0         \n",
       "M6497.81                                                0.0         \n",
       "M6498.04                                                0.0         \n",
       "M6499.54                                                0.0         \n",
       "M6500.41                                                0.0         \n",
       "\n",
       "          cell_type_fraction_of_astrocyte of the cerebral cortex  ...  \\\n",
       "M0.07                                                   0.0       ...   \n",
       "M1.61                                                   0.0       ...   \n",
       "M2.91                                                   0.0       ...   \n",
       "M3.62                                                   0.0       ...   \n",
       "M4.40                                                   0.0       ...   \n",
       "...                                                     ...       ...   \n",
       "M6496.49                                                0.0       ...   \n",
       "M6497.81                                                0.0       ...   \n",
       "M6498.04                                                0.0       ...   \n",
       "M6499.54                                                0.0       ...   \n",
       "M6500.41                                                0.0       ...   \n",
       "\n",
       "          Subclass_fraction_of_Micro-PVM  Subclass_fraction_of_OPC  \\\n",
       "M0.07                                0.0                       0.0   \n",
       "M1.61                                0.0                       0.0   \n",
       "M2.91                                0.0                       0.0   \n",
       "M3.62                                0.0                       0.0   \n",
       "M4.40                                0.0                       0.0   \n",
       "...                                  ...                       ...   \n",
       "M6496.49                             0.0                       0.0   \n",
       "M6497.81                             0.0                       0.0   \n",
       "M6498.04                             0.0                       0.0   \n",
       "M6499.54                             0.0                       0.0   \n",
       "M6500.41                             0.0                       0.0   \n",
       "\n",
       "          Subclass_fraction_of_Oligo  Subclass_fraction_of_Pax6  \\\n",
       "M0.07                            0.0                       0.00   \n",
       "M1.61                            0.0                       0.00   \n",
       "M2.91                            0.0                       0.00   \n",
       "M3.62                            0.0                       0.00   \n",
       "M4.40                            0.0                       0.00   \n",
       "...                              ...                        ...   \n",
       "M6496.49                         0.0                       0.00   \n",
       "M6497.81                         0.0                       0.25   \n",
       "M6498.04                         0.0                       0.00   \n",
       "M6499.54                         0.0                       0.00   \n",
       "M6500.41                         0.0                       0.00   \n",
       "\n",
       "          Subclass_fraction_of_Pvalb  Subclass_fraction_of_Sncg  \\\n",
       "M0.07                            0.0                       0.00   \n",
       "M1.61                            0.0                       0.00   \n",
       "M2.91                            0.0                       0.00   \n",
       "M3.62                            0.0                       0.00   \n",
       "M4.40                            0.0                       0.00   \n",
       "...                              ...                        ...   \n",
       "M6496.49                         1.0                       0.00   \n",
       "M6497.81                         0.0                       0.75   \n",
       "M6498.04                         1.0                       0.00   \n",
       "M6499.54                         0.0                       0.00   \n",
       "M6500.41                         0.0                       0.00   \n",
       "\n",
       "          Subclass_fraction_of_Sst  Subclass_fraction_of_Sst Chodl  \\\n",
       "M0.07                          0.0                             0.0   \n",
       "M1.61                          0.0                             0.0   \n",
       "M2.91                          0.0                             0.0   \n",
       "M3.62                          0.0                             0.0   \n",
       "M4.40                          0.0                             0.0   \n",
       "...                            ...                             ...   \n",
       "M6496.49                       0.0                             0.0   \n",
       "M6497.81                       0.0                             0.0   \n",
       "M6498.04                       0.0                             0.0   \n",
       "M6499.54                       0.0                             0.0   \n",
       "M6500.41                       0.0                             0.0   \n",
       "\n",
       "          Subclass_fraction_of_VLMC  Subclass_fraction_of_Vip  \n",
       "M0.07                           0.0                       0.0  \n",
       "M1.61                           0.0                       0.0  \n",
       "M2.91                           0.0                       0.0  \n",
       "M3.62                           0.0                       0.0  \n",
       "M4.40                           0.0                       0.0  \n",
       "...                             ...                       ...  \n",
       "M6496.49                        0.0                       0.0  \n",
       "M6497.81                        0.0                       0.0  \n",
       "M6498.04                        0.0                       0.0  \n",
       "M6499.54                        0.0                       0.0  \n",
       "M6500.41                        0.0                       0.0  \n",
       "\n",
       "[6501 rows x 49 columns]"
      ]
     },
     "execution_count": 3,
     "metadata": {},
     "output_type": "execute_result"
    }
   ],
   "source": [
    "adata.obs"
   ]
  },
  {
   "cell_type": "code",
   "execution_count": 4,
   "id": "4ddaeb88-f632-486d-9073-584ebfdaec90",
   "metadata": {},
   "outputs": [],
   "source": [
    "adata.obs['Subclass'] = adata.obs['Subclass'].astype(str)"
   ]
  },
  {
   "cell_type": "code",
   "execution_count": 5,
   "id": "61206e2e-1ef4-4ad5-b128-6c382af35fb9",
   "metadata": {},
   "outputs": [],
   "source": [
    "import pandas as pd\n",
    "\n",
    "# Given mapping\n",
    "mapping = {\n",
    "    'Astro': 'astrocyte of the cerebral cortex',\n",
    "    'Oligo': 'oligodendrocyte',\n",
    "    'VLMC': 'vascular leptomeningeal cell',\n",
    "    'Micro-PVM': 'microglial cell',\n",
    "    'OPC': 'oligodendrocyte precursor cell',\n",
    "    'Endo': 'cerebral cortex endothelial cell',\n",
    "    'L5/6 NP': 'near-projecting glutamatergic cortical neuron',\n",
    "    'L6 CT': 'corticothalamic-projecting glutamatergic cortical neuron',\n",
    "    'L6b': 'L6b glutamatergic cortical neuron',\n",
    "    'L5 ET': 'L5 extratelencephalic projecting glutamatergic cortical neuron',\n",
    "    'Pax6': 'caudal ganglionic eminence derived GABAergic cortical interneuron',\n",
    "    'Vip': 'vip GABAergic cortical interneuron',\n",
    "    'Sncg': 'sncg GABAergic cortical interneuron',\n",
    "    'Lamp5_Lhx6': 'lamp5 GABAergic cortical interneuron',\n",
    "    'Lamp5': 'lamp5 GABAergic cortical interneuron',\n",
    "    'Sst Chodl': 'sst GABAergic cortical interneuron',\n",
    "    'Pvalb': 'pvalb GABAergic cortical interneuron',\n",
    "    'Sst': 'sst GABAergic cortical interneuron',\n",
    "    'Chandelier': 'chandelier pvalb GABAergic cortical interneuron',\n",
    "    'L5 IT': 'L5 intratelencephalic projecting glutamatergic neuron',\n",
    "    'L4 IT': 'L4 intratelencephalic projecting glutamatergic neuron',\n",
    "    'L2/3 IT': 'L2/3 intratelencephalic projecting glutamatergic neuron',\n",
    "    'L6 IT Car3': 'L6 intratelencephalic projecting glutamatergic neuron',\n",
    "    'L6 IT': 'L6 intratelencephalic projecting glutamatergic neuron'\n",
    "}\n"
   ]
  },
  {
   "cell_type": "code",
   "execution_count": 6,
   "id": "932b4921-0554-4198-8ccc-3a2666b60999",
   "metadata": {},
   "outputs": [
    {
     "name": "stdout",
     "output_type": "stream",
     "text": [
      "Astro\n",
      "Oligo\n",
      "VLMC\n",
      "Micro-PVM\n",
      "OPC\n",
      "Endo\n",
      "L5/6 NP\n",
      "L6 CT\n",
      "L6b\n",
      "L5 ET\n",
      "Pax6\n",
      "Vip\n",
      "Sncg\n",
      "Lamp5_Lhx6\n",
      "Lamp5\n",
      "Sst Chodl\n",
      "Pvalb\n",
      "Sst\n",
      "Chandelier\n",
      "L5 IT\n",
      "L4 IT\n",
      "L2/3 IT\n",
      "L6 IT Car3\n",
      "L6 IT\n"
     ]
    }
   ],
   "source": [
    "for key in mapping:\n",
    "    print(key)\n",
    "    adata.obs['Subclass'] = adata.obs['Subclass'].str.replace(key, mapping[key])\n",
    "    "
   ]
  },
  {
   "cell_type": "code",
   "execution_count": 7,
   "id": "1be852df-4565-4ff1-a24a-4291351b4678",
   "metadata": {
    "scrolled": true
   },
   "outputs": [
    {
     "data": {
      "text/plain": [
       "Index(['L2/3 intratelencephalic projecting glutamatergic neuron',\n",
       "       'L4 intratelencephalic projecting glutamatergic neuron',\n",
       "       'L5 extratelencephalic projecting glutamatergic cortical neuron',\n",
       "       'L5 intratelencephalic projecting glutamatergic neuron',\n",
       "       'L6 intratelencephalic projecting glutamatergic neuron',\n",
       "       'L6b glutamatergic cortical neuron', 'astrocyte of the cerebral cortex',\n",
       "       'caudal ganglionic eminence derived GABAergic cortical interneuron',\n",
       "       'cerebral cortex endothelial cell',\n",
       "       'chandelier pvalb GABAergic cortical interneuron',\n",
       "       'corticothalamic-projecting glutamatergic cortical neuron',\n",
       "       'lamp5 GABAergic cortical interneuron', 'microglial cell',\n",
       "       'near-projecting glutamatergic cortical neuron', 'oligodendrocyte',\n",
       "       'oligodendrocyte precursor cell',\n",
       "       'pvalb GABAergic cortical interneuron',\n",
       "       'sncg GABAergic cortical interneuron',\n",
       "       'sst GABAergic cortical interneuron', 'vascular leptomeningeal cell',\n",
       "       'vip GABAergic cortical interneuron'],\n",
       "      dtype='object')"
      ]
     },
     "execution_count": 7,
     "metadata": {},
     "output_type": "execute_result"
    }
   ],
   "source": [
    "adata.obs.Subclass.astype('category').cat.categories"
   ]
  },
  {
   "cell_type": "code",
   "execution_count": 8,
   "id": "c42fbfdd-96d2-4339-af03-128c6d69828a",
   "metadata": {},
   "outputs": [],
   "source": [
    "adata.obs['cell_type_name'] = adata.obs['Subclass']"
   ]
  },
  {
   "cell_type": "code",
   "execution_count": 9,
   "id": "4c07ac24-2df1-4f43-bd02-28c7544fedac",
   "metadata": {},
   "outputs": [],
   "source": [
    "sc.pp.calculate_qc_metrics(adata, log1p=False, inplace=True)"
   ]
  },
  {
   "cell_type": "code",
   "execution_count": 10,
   "id": "f14dce97-0788-4b41-9ec4-a31a7ebc2ec7",
   "metadata": {},
   "outputs": [
    {
     "data": {
      "text/plain": [
       "0.11830522"
      ]
     },
     "execution_count": 10,
     "metadata": {},
     "output_type": "execute_result"
    }
   ],
   "source": [
    "adata.X.max()"
   ]
  },
  {
   "cell_type": "code",
   "execution_count": 11,
   "id": "7b2870c0-9670-4ae0-9361-4a233b732287",
   "metadata": {},
   "outputs": [
    {
     "data": {
      "text/plain": [
       "M0.07       1.0\n",
       "M1.61       1.0\n",
       "M2.91       1.0\n",
       "M3.62       1.0\n",
       "M4.40       1.0\n",
       "           ... \n",
       "M6496.49    1.0\n",
       "M6497.81    1.0\n",
       "M6498.04    1.0\n",
       "M6499.54    1.0\n",
       "M6500.41    1.0\n",
       "Name: total_counts, Length: 6501, dtype: float32"
      ]
     },
     "execution_count": 11,
     "metadata": {},
     "output_type": "execute_result"
    }
   ],
   "source": [
    "adata.obs['total_counts']"
   ]
  },
  {
   "cell_type": "code",
   "execution_count": 12,
   "id": "35cfafae-b469-4ed3-a03b-3087cfaaee20",
   "metadata": {},
   "outputs": [
    {
     "data": {
      "text/plain": [
       "array([99.75388402, 93.43177973, 85.07921858, ...,  0.        ,\n",
       "       99.938471  , 99.90770651])"
      ]
     },
     "execution_count": 12,
     "metadata": {},
     "output_type": "execute_result"
    }
   ],
   "source": [
    "adata.var.pct_dropout_by_counts.values"
   ]
  },
  {
   "cell_type": "code",
   "execution_count": null,
   "id": "6df83fd3-a41a-4b89-b837-56649fcb829e",
   "metadata": {},
   "outputs": [],
   "source": []
  },
  {
   "cell_type": "code",
   "execution_count": 13,
   "id": "a1761d9a-4ecb-4a40-be42-3ee763d54748",
   "metadata": {},
   "outputs": [],
   "source": [
    "## in human protein atlas, they analyzed genes that are expressed in at least 10% of cells as valid\n",
    "## shall we do this too"
   ]
  },
  {
   "cell_type": "code",
   "execution_count": 14,
   "id": "fa460ca8-5e7b-4f4c-968e-ae895ad30c9a",
   "metadata": {},
   "outputs": [
    {
     "data": {
      "text/plain": [
       "<AxesSubplot: ylabel='Count'>"
      ]
     },
     "execution_count": 14,
     "metadata": {},
     "output_type": "execute_result"
    },
    {
     "data": {
      "image/png": "[encoded data removed]",
      "text/plain": [
       "<Figure size 200x200 with 1 Axes>"
      ]
     },
     "metadata": {},
     "output_type": "display_data"
    }
   ],
   "source": [
    "sns.histplot(adata.var.pct_dropout_by_counts.values)"
   ]
  },
  {
   "cell_type": "code",
   "execution_count": 15,
   "id": "96e917c7-dd11-41d2-9101-3944ec1d2d78",
   "metadata": {},
   "outputs": [],
   "source": [
    "anno_col='cell_type_name'"
   ]
  },
  {
   "cell_type": "code",
   "execution_count": 16,
   "id": "7dbf6e06-6ebe-48ae-bb05-455fa21ce553",
   "metadata": {},
   "outputs": [
    {
     "data": {
      "text/plain": [
       "AnnData object with n_obs × n_vars = 6501 × 41048\n",
       "    obs: 'grouped', 'total_umis', '__zeros_downsample_umis', 'metacells_rare_gene_module', 'rare_metacell', 'cell_type', 'cell_type_fraction_of_L2/3-6 intratelencephalic projecting glutamatergic cortical neuron', 'cell_type_fraction_of_L5 extratelencephalic projecting glutamatergic cortical neuron', 'cell_type_fraction_of_L6b glutamatergic cortical neuron', 'cell_type_fraction_of_astrocyte of the cerebral cortex', 'cell_type_fraction_of_caudal ganglionic eminence derived GABAergic cortical interneuron', 'cell_type_fraction_of_cerebral cortex endothelial cell', 'cell_type_fraction_of_chandelier pvalb GABAergic cortical interneuron', 'cell_type_fraction_of_corticothalamic-projecting glutamatergic cortical neuron', 'cell_type_fraction_of_lamp5 GABAergic cortical interneuron', 'cell_type_fraction_of_microglial cell', 'cell_type_fraction_of_near-projecting glutamatergic cortical neuron', 'cell_type_fraction_of_oligodendrocyte', 'cell_type_fraction_of_oligodendrocyte precursor cell', 'cell_type_fraction_of_pvalb GABAergic cortical interneuron', 'cell_type_fraction_of_sncg GABAergic cortical interneuron', 'cell_type_fraction_of_sst GABAergic cortical interneuron', 'cell_type_fraction_of_vascular leptomeningeal cell', 'cell_type_fraction_of_vip GABAergic cortical interneuron', 'Subclass', 'Subclass_fraction_of_Astro', 'Subclass_fraction_of_Chandelier', 'Subclass_fraction_of_Endo', 'Subclass_fraction_of_L2/3 IT', 'Subclass_fraction_of_L4 IT', 'Subclass_fraction_of_L5 ET', 'Subclass_fraction_of_L5 IT', 'Subclass_fraction_of_L5/6 NP', 'Subclass_fraction_of_L6 CT', 'Subclass_fraction_of_L6 IT', 'Subclass_fraction_of_L6 IT Car3', 'Subclass_fraction_of_L6b', 'Subclass_fraction_of_Lamp5', 'Subclass_fraction_of_Lamp5_Lhx6', 'Subclass_fraction_of_Micro-PVM', 'Subclass_fraction_of_OPC', 'Subclass_fraction_of_Oligo', 'Subclass_fraction_of_Pax6', 'Subclass_fraction_of_Pvalb', 'Subclass_fraction_of_Sncg', 'Subclass_fraction_of_Sst', 'Subclass_fraction_of_Sst Chodl', 'Subclass_fraction_of_VLMC', 'Subclass_fraction_of_Vip', 'cell_type_name', 'n_genes_by_counts', 'total_counts', 'pct_counts_in_top_50_genes', 'pct_counts_in_top_100_genes', 'pct_counts_in_top_200_genes', 'pct_counts_in_top_500_genes'\n",
       "    var: 'name', 'bursty_lonely_gene', 'properly_sampled_gene', 'excluded_gene', 'full_gene_index', 'lateral_gene', 'lateral_genes_module', 'selected_gene', 'rare_gene', 'rare_gene_module', 'n_cells_by_counts', 'mean_counts', 'pct_dropout_by_counts', 'total_counts'\n",
       "    uns: '__name__', 'metacells_algorithm', 'outliers'\n",
       "    layers: 'total_umis', 'zeros'"
      ]
     },
     "execution_count": 16,
     "metadata": {},
     "output_type": "execute_result"
    }
   ],
   "source": [
    "adata"
   ]
  },
  {
   "cell_type": "code",
   "execution_count": 17,
   "id": "1d772ca3-b611-456c-90de-1ec3c7f566d3",
   "metadata": {},
   "outputs": [],
   "source": [
    "summed_adata = SummedAnnData(summed_adata=adata)\n",
    "## just assign the metacell anndata to summed_adata object"
   ]
  },
  {
   "cell_type": "code",
   "execution_count": 18,
   "id": "aff9ea42-ef0c-4879-9bf9-abf53a4e866b",
   "metadata": {},
   "outputs": [
    {
     "data": {
      "text/plain": [
       "genespectra.metacells.make_metacells.SummedAnnData"
      ]
     },
     "execution_count": 18,
     "metadata": {},
     "output_type": "execute_result"
    }
   ],
   "source": [
    "summed_adata.__class__"
   ]
  },
  {
   "cell_type": "code",
   "execution_count": 19,
   "id": "728b826b-471f-4374-83b4-2a4428617184",
   "metadata": {},
   "outputs": [
    {
     "name": "stdout",
     "output_type": "stream",
     "text": [
      "Size factor depth normalize counts\n",
      "Target total UMI per cell is 1000000\n",
      "Total UMI count is normalized to [[1000000.]]\n"
     ]
    }
   ],
   "source": [
    "# normalize to a fixed size factor\n",
    "summed_adata = SummedAnnData.depth_normalize_counts(summed_adata, target_sum=1000000)\n",
    "sc.pp.calculate_qc_metrics(summed_adata, log1p=False, inplace=True)"
   ]
  },
  {
   "cell_type": "code",
   "execution_count": 20,
   "id": "57a10fa9-351e-4233-a023-fb75f0207b13",
   "metadata": {
    "tags": []
   },
   "outputs": [
    {
     "data": {
      "text/plain": [
       "'summed_counts'"
      ]
     },
     "execution_count": 20,
     "metadata": {},
     "output_type": "execute_result"
    }
   ],
   "source": [
    "summed_adata.count_type"
   ]
  },
  {
   "cell_type": "code",
   "execution_count": 21,
   "id": "0327bd36-74ca-41ff-bd6f-a49687b02b05",
   "metadata": {},
   "outputs": [
    {
     "data": {
      "text/plain": [
       "6501"
      ]
     },
     "execution_count": 21,
     "metadata": {},
     "output_type": "execute_result"
    }
   ],
   "source": [
    "len(summed_adata.obs_names)"
   ]
  },
  {
   "cell_type": "code",
   "execution_count": 22,
   "id": "62ed8015-5ddb-447f-8fb3-0cfeac9dbc4e",
   "metadata": {},
   "outputs": [
    {
     "name": "stdout",
     "output_type": "stream",
     "text": [
      "Genes with min_count 1 are considered low count\n",
      "Genes with min_cells_pct 1 are considered low count\n",
      "Put 10205 genes into low counts genes\n"
     ]
    }
   ],
   "source": [
    "summed_adata = SummedAnnData.filter_low_counts(summed_adata, min_count=1, min_cells_pct=1)"
   ]
  },
  {
   "cell_type": "code",
   "execution_count": 23,
   "id": "0d6a7de7-314a-4616-9be3-5939e04f113d",
   "metadata": {},
   "outputs": [
    {
     "data": {
      "text/plain": [
       "AnnData object with n_obs × n_vars = 6501 × 30843\n",
       "    obs: 'grouped', 'total_umis', '__zeros_downsample_umis', 'metacells_rare_gene_module', 'rare_metacell', 'cell_type', 'cell_type_fraction_of_L2/3-6 intratelencephalic projecting glutamatergic cortical neuron', 'cell_type_fraction_of_L5 extratelencephalic projecting glutamatergic cortical neuron', 'cell_type_fraction_of_L6b glutamatergic cortical neuron', 'cell_type_fraction_of_astrocyte of the cerebral cortex', 'cell_type_fraction_of_caudal ganglionic eminence derived GABAergic cortical interneuron', 'cell_type_fraction_of_cerebral cortex endothelial cell', 'cell_type_fraction_of_chandelier pvalb GABAergic cortical interneuron', 'cell_type_fraction_of_corticothalamic-projecting glutamatergic cortical neuron', 'cell_type_fraction_of_lamp5 GABAergic cortical interneuron', 'cell_type_fraction_of_microglial cell', 'cell_type_fraction_of_near-projecting glutamatergic cortical neuron', 'cell_type_fraction_of_oligodendrocyte', 'cell_type_fraction_of_oligodendrocyte precursor cell', 'cell_type_fraction_of_pvalb GABAergic cortical interneuron', 'cell_type_fraction_of_sncg GABAergic cortical interneuron', 'cell_type_fraction_of_sst GABAergic cortical interneuron', 'cell_type_fraction_of_vascular leptomeningeal cell', 'cell_type_fraction_of_vip GABAergic cortical interneuron', 'Subclass', 'Subclass_fraction_of_Astro', 'Subclass_fraction_of_Chandelier', 'Subclass_fraction_of_Endo', 'Subclass_fraction_of_L2/3 IT', 'Subclass_fraction_of_L4 IT', 'Subclass_fraction_of_L5 ET', 'Subclass_fraction_of_L5 IT', 'Subclass_fraction_of_L5/6 NP', 'Subclass_fraction_of_L6 CT', 'Subclass_fraction_of_L6 IT', 'Subclass_fraction_of_L6 IT Car3', 'Subclass_fraction_of_L6b', 'Subclass_fraction_of_Lamp5', 'Subclass_fraction_of_Lamp5_Lhx6', 'Subclass_fraction_of_Micro-PVM', 'Subclass_fraction_of_OPC', 'Subclass_fraction_of_Oligo', 'Subclass_fraction_of_Pax6', 'Subclass_fraction_of_Pvalb', 'Subclass_fraction_of_Sncg', 'Subclass_fraction_of_Sst', 'Subclass_fraction_of_Sst Chodl', 'Subclass_fraction_of_VLMC', 'Subclass_fraction_of_Vip', 'cell_type_name', 'n_genes_by_counts', 'total_counts', 'pct_counts_in_top_50_genes', 'pct_counts_in_top_100_genes', 'pct_counts_in_top_200_genes', 'pct_counts_in_top_500_genes'\n",
       "    var: 'name', 'bursty_lonely_gene', 'properly_sampled_gene', 'excluded_gene', 'full_gene_index', 'lateral_gene', 'lateral_genes_module', 'selected_gene', 'rare_gene', 'rare_gene_module', 'n_cells_by_counts', 'mean_counts', 'pct_dropout_by_counts', 'total_counts', 'n_counts', 'n_cells'"
      ]
     },
     "execution_count": 23,
     "metadata": {},
     "output_type": "execute_result"
    }
   ],
   "source": [
    "summed_adata"
   ]
  },
  {
   "cell_type": "code",
   "execution_count": 24,
   "id": "8b533824-447c-47b8-a83e-cd01c8217377",
   "metadata": {},
   "outputs": [
    {
     "data": {
      "text/plain": [
       "1"
      ]
     },
     "execution_count": 24,
     "metadata": {},
     "output_type": "execute_result"
    }
   ],
   "source": [
    "summed_adata.removed_min_count\n",
    "## remove all genes having less than 1 count per million in metacells"
   ]
  },
  {
   "cell_type": "code",
   "execution_count": 25,
   "id": "523816c2-b361-47b7-90cb-368c31c3bd45",
   "metadata": {},
   "outputs": [
    {
     "data": {
      "text/plain": [
       "1"
      ]
     },
     "execution_count": 25,
     "metadata": {},
     "output_type": "execute_result"
    }
   ],
   "source": [
    "summed_adata.removed_min_cells_pct"
   ]
  },
  {
   "cell_type": "code",
   "execution_count": 26,
   "id": "1af7347d-a934-4463-b35d-4a93bd4d0262",
   "metadata": {},
   "outputs": [
    {
     "name": "stdout",
     "output_type": "stream",
     "text": [
      "running gene classification on 30843 genes\n",
      "Calculating group average of counts from SummedAnnData\n"
     ]
    }
   ],
   "source": [
    "print(f\"running gene classification on {len(summed_adata.var_names.values)} genes\")\n",
    "expr_data = ExpressionDataLong.create_from_summed_adata(input_summed_adata=summed_adata, anno_col=anno_col)"
   ]
  },
  {
   "cell_type": "code",
   "execution_count": 27,
   "id": "1ed09110-1af7-45ab-8f17-86f6c0d8956d",
   "metadata": {},
   "outputs": [],
   "source": [
    "from numpy import percentile"
   ]
  },
  {
   "cell_type": "code",
   "execution_count": 28,
   "id": "56561ecb-e070-46e9-b9af-662c6880da34",
   "metadata": {},
   "outputs": [
    {
     "data": {
      "text/plain": [
       "array([0.007861520722508432, 0.021822536550462252, 0.06597651913762093,\n",
       "       0.7169721126556396, 1.9903139352798462, 5.499200534820552,\n",
       "       8.95124864578247], dtype=object)"
      ]
     },
     "execution_count": 28,
     "metadata": {},
     "output_type": "execute_result"
    }
   ],
   "source": [
    "percentile(expr_data.expression, [10, 15, 25, 50, 60, 70, 75])"
   ]
  },
  {
   "cell_type": "code",
   "execution_count": 29,
   "id": "47d2b889-e5d9-4ae6-91b7-f55154854f24",
   "metadata": {},
   "outputs": [],
   "source": [
    "import seaborn as sns"
   ]
  },
  {
   "cell_type": "code",
   "execution_count": 30,
   "id": "2370c263-1aa9-434f-8520-c1cee4d24659",
   "metadata": {
    "tags": []
   },
   "outputs": [
    {
     "name": "stdout",
     "output_type": "stream",
     "text": [
      "Multiprocessing with 48 cores\n",
      "Running HPA gene classification \n",
      "\n",
      "Running HPA gene classification \n",
      "num cell types = 21, num_genes = 3138, max_group=10.0, exp_lim=1\n",
      "\n",
      "Running HPA gene classification \n",
      "Running HPA gene classification \n",
      "\n",
      "\n",
      "\n",
      "Running HPA gene classification \n",
      "Running HPA gene classification \n",
      "\n",
      "num cell types = 21, num_genes = 3011, max_group=10.0, exp_lim=1\n",
      "Running HPA gene classification \n",
      "num cell types = 21, num_genes = 3012, max_group=10.0, exp_lim=1\n",
      "num cell types = 21, num_genes = 3152, max_group=10.0, exp_lim=1\n",
      "\n",
      "\n",
      "num cell types = 21, num_genes = 3017, max_group=10.0, exp_lim=1\n",
      "\n",
      "Running HPA gene classification \n",
      "\n",
      "\n",
      "Running HPA gene classification \n",
      "\n",
      "\n",
      "num cell types = 21, num_genes = 3131, max_group=10.0, exp_lim=1\n",
      "\n",
      "Running HPA gene classification \n",
      "num cell types = 21, num_genes = 3112, max_group=10.0, exp_lim=1\n",
      "num cell types = 21, num_genes = 3110, max_group=10.0, exp_lim=1\n",
      "\n",
      "\n",
      "\n",
      "\n",
      "num cell types = 21, num_genes = 3074, max_group=10.0, exp_lim=1\n",
      "\n",
      "num cell types = 21, num_genes = 3086, max_group=10.0, exp_lim=1\n",
      "\n"
     ]
    },
    {
     "name": "stderr",
     "output_type": "stream",
     "text": [
      "/nfs/research/icortes/ysong/anaconda3/envs/metacells_py/lib/python3.8/site-packages/numpy/core/fromnumeric.py:3464: RuntimeWarning: Mean of empty slice.\n",
      "  return _methods._mean(a, axis=axis, dtype=dtype,\n",
      "/nfs/research/icortes/ysong/anaconda3/envs/metacells_py/lib/python3.8/site-packages/numpy/core/fromnumeric.py:3464: RuntimeWarning: Mean of empty slice.\n",
      "  return _methods._mean(a, axis=axis, dtype=dtype,\n",
      "/nfs/research/icortes/ysong/anaconda3/envs/metacells_py/lib/python3.8/site-packages/numpy/core/fromnumeric.py:3464: RuntimeWarning: Mean of empty slice.\n",
      "  return _methods._mean(a, axis=axis, dtype=dtype,\n",
      "/nfs/research/icortes/ysong/anaconda3/envs/metacells_py/lib/python3.8/site-packages/numpy/core/fromnumeric.py:3464: RuntimeWarning: Mean of empty slice.\n",
      "  return _methods._mean(a, axis=axis, dtype=dtype,\n",
      "/nfs/research/icortes/ysong/anaconda3/envs/metacells_py/lib/python3.8/site-packages/numpy/core/fromnumeric.py:3464: RuntimeWarning: Mean of empty slice.\n",
      "  return _methods._mean(a, axis=axis, dtype=dtype,\n",
      "/nfs/research/icortes/ysong/anaconda3/envs/metacells_py/lib/python3.8/site-packages/numpy/core/fromnumeric.py:3464: RuntimeWarning: Mean of empty slice.\n",
      "  return _methods._mean(a, axis=axis, dtype=dtype,\n",
      "/nfs/research/icortes/ysong/anaconda3/envs/metacells_py/lib/python3.8/site-packages/numpy/core/fromnumeric.py:3464: RuntimeWarning: Mean of empty slice.\n",
      "  return _methods._mean(a, axis=axis, dtype=dtype,\n",
      "/nfs/research/icortes/ysong/anaconda3/envs/metacells_py/lib/python3.8/site-packages/numpy/core/fromnumeric.py:3464: RuntimeWarning: Mean of empty slice.\n",
      "  return _methods._mean(a, axis=axis, dtype=dtype,\n",
      "/nfs/research/icortes/ysong/anaconda3/envs/metacells_py/lib/python3.8/site-packages/numpy/core/fromnumeric.py:3464: RuntimeWarning: Mean of empty slice.\n",
      "  return _methods._mean(a, axis=axis, dtype=dtype,\n",
      "/nfs/research/icortes/ysong/anaconda3/envs/metacells_py/lib/python3.8/site-packages/numpy/core/fromnumeric.py:3464: RuntimeWarning: Mean of empty slice.\n",
      "  return _methods._mean(a, axis=axis, dtype=dtype,\n"
     ]
    },
    {
     "name": "stdout",
     "output_type": "stream",
     "text": [
      "finish gene classification with multiprocessing\n"
     ]
    }
   ],
   "source": [
    "result_classes = GeneClassificationResult.create_from_expression_data_long_multiprocess(expr_data, max_group_n=None, exp_lim=1, enr_fold=4)"
   ]
  },
  {
   "cell_type": "code",
   "execution_count": 31,
   "id": "5541d64c-b914-4379-b693-d557bd774767",
   "metadata": {},
   "outputs": [
    {
     "data": {
      "text/plain": [
       "low cell type specificity    12606\n",
       "lowly expressed               9618\n",
       "cell type enhanced            3716\n",
       "cell type enriched            2563\n",
       "group enriched                1573\n",
       "group enhanced                 767\n",
       "Name: spec_category, dtype: int64"
      ]
     },
     "execution_count": 31,
     "metadata": {},
     "output_type": "execute_result"
    }
   ],
   "source": [
    "result_classes.spec_category.value_counts()"
   ]
  },
  {
   "cell_type": "code",
   "execution_count": 32,
   "id": "cb15c31b-b802-45d7-96b0-302d19376037",
   "metadata": {},
   "outputs": [
    {
     "data": {
      "text/html": [
       "<div>\n",
       "<style scoped>\n",
       "    .dataframe tbody tr th:only-of-type {\n",
       "        vertical-align: middle;\n",
       "    }\n",
       "\n",
       "    .dataframe tbody tr th {\n",
       "        vertical-align: top;\n",
       "    }\n",
       "\n",
       "    .dataframe thead th {\n",
       "        text-align: right;\n",
       "    }\n",
       "</style>\n",
       "<table border=\"1\" class=\"dataframe\">\n",
       "  <thead>\n",
       "    <tr style=\"text-align: right;\">\n",
       "      <th></th>\n",
       "      <th>mean_exp</th>\n",
       "      <th>min_exp</th>\n",
       "      <th>max_exp</th>\n",
       "      <th>max_2nd</th>\n",
       "      <th>n_exp</th>\n",
       "      <th>frac_exp</th>\n",
       "      <th>groups_expressed</th>\n",
       "      <th>groups_not_expressed</th>\n",
       "      <th>lim</th>\n",
       "      <th>gene</th>\n",
       "      <th>...</th>\n",
       "      <th>enrichment_group</th>\n",
       "      <th>n_enriched</th>\n",
       "      <th>max_2nd_or_lim</th>\n",
       "      <th>exps_enhanced</th>\n",
       "      <th>n_enhanced</th>\n",
       "      <th>enhanced_in</th>\n",
       "      <th>spec_category</th>\n",
       "      <th>dist_category</th>\n",
       "      <th>spec_score</th>\n",
       "      <th>enriched_groups</th>\n",
       "    </tr>\n",
       "    <tr>\n",
       "      <th>gene</th>\n",
       "      <th></th>\n",
       "      <th></th>\n",
       "      <th></th>\n",
       "      <th></th>\n",
       "      <th></th>\n",
       "      <th></th>\n",
       "      <th></th>\n",
       "      <th></th>\n",
       "      <th></th>\n",
       "      <th></th>\n",
       "      <th></th>\n",
       "      <th></th>\n",
       "      <th></th>\n",
       "      <th></th>\n",
       "      <th></th>\n",
       "      <th></th>\n",
       "      <th></th>\n",
       "      <th></th>\n",
       "      <th></th>\n",
       "      <th></th>\n",
       "      <th></th>\n",
       "    </tr>\n",
       "  </thead>\n",
       "  <tbody>\n",
       "    <tr>\n",
       "      <th>A2M</th>\n",
       "      <td>172.698853</td>\n",
       "      <td>0.206800</td>\n",
       "      <td>1782.958984</td>\n",
       "      <td>1755.849976</td>\n",
       "      <td>4</td>\n",
       "      <td>19.047619</td>\n",
       "      <td>cerebral cortex endothelial cell;microglial ce...</td>\n",
       "      <td>L2/3 intratelencephalic projecting glutamaterg...</td>\n",
       "      <td>445.739746</td>\n",
       "      <td>A2M</td>\n",
       "      <td>...</td>\n",
       "      <td>cerebral cortex endothelial cell;microglial cell</td>\n",
       "      <td>2</td>\n",
       "      <td>1755.849976</td>\n",
       "      <td>[1755.8499755859375, 1782.958984375]</td>\n",
       "      <td>2</td>\n",
       "      <td>cerebral cortex endothelial cell;microglial cell</td>\n",
       "      <td>group enriched</td>\n",
       "      <td>expressed in less than 30%</td>\n",
       "      <td>22.398319</td>\n",
       "      <td>cerebral cortex endothelial cell;microglial cell</td>\n",
       "    </tr>\n",
       "    <tr>\n",
       "      <th>AADACL2-AS1</th>\n",
       "      <td>0.778557</td>\n",
       "      <td>0.294400</td>\n",
       "      <td>1.755400</td>\n",
       "      <td>1.667200</td>\n",
       "      <td>6</td>\n",
       "      <td>28.571429</td>\n",
       "      <td>L5 extratelencephalic projecting glutamatergic...</td>\n",
       "      <td>L2/3 intratelencephalic projecting glutamaterg...</td>\n",
       "      <td>0.438850</td>\n",
       "      <td>AADACL2-AS1</td>\n",
       "      <td>...</td>\n",
       "      <td>L5 extratelencephalic projecting glutamatergic...</td>\n",
       "      <td>0</td>\n",
       "      <td>1.667200</td>\n",
       "      <td>[]</td>\n",
       "      <td>0</td>\n",
       "      <td></td>\n",
       "      <td>low cell type specificity</td>\n",
       "      <td>expressed in less than 30%</td>\n",
       "      <td>0.000000</td>\n",
       "      <td></td>\n",
       "    </tr>\n",
       "    <tr>\n",
       "      <th>AAMP</th>\n",
       "      <td>7.332943</td>\n",
       "      <td>2.557000</td>\n",
       "      <td>11.236800</td>\n",
       "      <td>11.088100</td>\n",
       "      <td>21</td>\n",
       "      <td>100.000000</td>\n",
       "      <td>L2/3 intratelencephalic projecting glutamaterg...</td>\n",
       "      <td>NaN</td>\n",
       "      <td>2.809200</td>\n",
       "      <td>AAMP</td>\n",
       "      <td>...</td>\n",
       "      <td>L2/3 intratelencephalic projecting glutamaterg...</td>\n",
       "      <td>0</td>\n",
       "      <td>11.088100</td>\n",
       "      <td>[]</td>\n",
       "      <td>0</td>\n",
       "      <td></td>\n",
       "      <td>low cell type specificity</td>\n",
       "      <td>expressed in over 90%</td>\n",
       "      <td>0.000000</td>\n",
       "      <td></td>\n",
       "    </tr>\n",
       "    <tr>\n",
       "      <th>ABCA11P</th>\n",
       "      <td>0.253290</td>\n",
       "      <td>0.000000</td>\n",
       "      <td>0.622300</td>\n",
       "      <td>0.448200</td>\n",
       "      <td>0</td>\n",
       "      <td>0.000000</td>\n",
       "      <td>NaN</td>\n",
       "      <td>L2/3 intratelencephalic projecting glutamaterg...</td>\n",
       "      <td>0.155575</td>\n",
       "      <td>ABCA11P</td>\n",
       "      <td>...</td>\n",
       "      <td></td>\n",
       "      <td>0</td>\n",
       "      <td>0.448200</td>\n",
       "      <td>[]</td>\n",
       "      <td>0</td>\n",
       "      <td></td>\n",
       "      <td>lowly expressed</td>\n",
       "      <td>lowly expressed</td>\n",
       "      <td>0.000000</td>\n",
       "      <td></td>\n",
       "    </tr>\n",
       "    <tr>\n",
       "      <th>ABCB1</th>\n",
       "      <td>301.363373</td>\n",
       "      <td>0.456800</td>\n",
       "      <td>6245.695312</td>\n",
       "      <td>32.584000</td>\n",
       "      <td>19</td>\n",
       "      <td>90.476190</td>\n",
       "      <td>L2/3 intratelencephalic projecting glutamaterg...</td>\n",
       "      <td>astrocyte of the cerebral cortex;oligodendrocyte</td>\n",
       "      <td>1561.423828</td>\n",
       "      <td>ABCB1</td>\n",
       "      <td>...</td>\n",
       "      <td>cerebral cortex endothelial cell</td>\n",
       "      <td>1</td>\n",
       "      <td>1561.423828</td>\n",
       "      <td>[6245.6953125]</td>\n",
       "      <td>1</td>\n",
       "      <td>cerebral cortex endothelial cell</td>\n",
       "      <td>cell type enriched</td>\n",
       "      <td>expressed in over 90%</td>\n",
       "      <td>191.679825</td>\n",
       "      <td>cerebral cortex endothelial cell</td>\n",
       "    </tr>\n",
       "    <tr>\n",
       "      <th>...</th>\n",
       "      <td>...</td>\n",
       "      <td>...</td>\n",
       "      <td>...</td>\n",
       "      <td>...</td>\n",
       "      <td>...</td>\n",
       "      <td>...</td>\n",
       "      <td>...</td>\n",
       "      <td>...</td>\n",
       "      <td>...</td>\n",
       "      <td>...</td>\n",
       "      <td>...</td>\n",
       "      <td>...</td>\n",
       "      <td>...</td>\n",
       "      <td>...</td>\n",
       "      <td>...</td>\n",
       "      <td>...</td>\n",
       "      <td>...</td>\n",
       "      <td>...</td>\n",
       "      <td>...</td>\n",
       "      <td>...</td>\n",
       "      <td>...</td>\n",
       "    </tr>\n",
       "    <tr>\n",
       "      <th>ZP3</th>\n",
       "      <td>18.475468</td>\n",
       "      <td>7.246800</td>\n",
       "      <td>55.050999</td>\n",
       "      <td>52.359001</td>\n",
       "      <td>21</td>\n",
       "      <td>100.000000</td>\n",
       "      <td>L2/3 intratelencephalic projecting glutamaterg...</td>\n",
       "      <td>NaN</td>\n",
       "      <td>13.762750</td>\n",
       "      <td>ZP3</td>\n",
       "      <td>...</td>\n",
       "      <td>L5 extratelencephalic projecting glutamatergic...</td>\n",
       "      <td>0</td>\n",
       "      <td>52.359001</td>\n",
       "      <td>[]</td>\n",
       "      <td>0</td>\n",
       "      <td></td>\n",
       "      <td>low cell type specificity</td>\n",
       "      <td>expressed in over 90%</td>\n",
       "      <td>0.000000</td>\n",
       "      <td></td>\n",
       "    </tr>\n",
       "    <tr>\n",
       "      <th>ZSWIM3</th>\n",
       "      <td>4.212752</td>\n",
       "      <td>2.566400</td>\n",
       "      <td>9.748800</td>\n",
       "      <td>5.565200</td>\n",
       "      <td>21</td>\n",
       "      <td>100.000000</td>\n",
       "      <td>L2/3 intratelencephalic projecting glutamaterg...</td>\n",
       "      <td>NaN</td>\n",
       "      <td>2.437200</td>\n",
       "      <td>ZSWIM3</td>\n",
       "      <td>...</td>\n",
       "      <td>L2/3 intratelencephalic projecting glutamaterg...</td>\n",
       "      <td>0</td>\n",
       "      <td>5.565200</td>\n",
       "      <td>[]</td>\n",
       "      <td>0</td>\n",
       "      <td></td>\n",
       "      <td>low cell type specificity</td>\n",
       "      <td>expressed in over 90%</td>\n",
       "      <td>0.000000</td>\n",
       "      <td></td>\n",
       "    </tr>\n",
       "    <tr>\n",
       "      <th>ZSWIM6</th>\n",
       "      <td>630.660034</td>\n",
       "      <td>57.197899</td>\n",
       "      <td>3122.945312</td>\n",
       "      <td>2607.222656</td>\n",
       "      <td>21</td>\n",
       "      <td>100.000000</td>\n",
       "      <td>L2/3 intratelencephalic projecting glutamaterg...</td>\n",
       "      <td>NaN</td>\n",
       "      <td>780.736328</td>\n",
       "      <td>ZSWIM6</td>\n",
       "      <td>...</td>\n",
       "      <td>astrocyte of the cerebral cortex;microglial ce...</td>\n",
       "      <td>2</td>\n",
       "      <td>2607.222656</td>\n",
       "      <td>[2607.22265625, 3122.9453125]</td>\n",
       "      <td>2</td>\n",
       "      <td>microglial cell;oligodendrocyte precursor cell</td>\n",
       "      <td>group enhanced</td>\n",
       "      <td>expressed in over 90%</td>\n",
       "      <td>4.951868</td>\n",
       "      <td>microglial cell;oligodendrocyte precursor cell</td>\n",
       "    </tr>\n",
       "    <tr>\n",
       "      <th>ZWINT</th>\n",
       "      <td>0.047081</td>\n",
       "      <td>0.000000</td>\n",
       "      <td>0.450100</td>\n",
       "      <td>0.065600</td>\n",
       "      <td>0</td>\n",
       "      <td>0.000000</td>\n",
       "      <td>NaN</td>\n",
       "      <td>L2/3 intratelencephalic projecting glutamaterg...</td>\n",
       "      <td>0.112525</td>\n",
       "      <td>ZWINT</td>\n",
       "      <td>...</td>\n",
       "      <td></td>\n",
       "      <td>0</td>\n",
       "      <td>0.112525</td>\n",
       "      <td>[]</td>\n",
       "      <td>0</td>\n",
       "      <td></td>\n",
       "      <td>lowly expressed</td>\n",
       "      <td>lowly expressed</td>\n",
       "      <td>0.000000</td>\n",
       "      <td></td>\n",
       "    </tr>\n",
       "    <tr>\n",
       "      <th>ZZZ3</th>\n",
       "      <td>186.731445</td>\n",
       "      <td>121.078400</td>\n",
       "      <td>356.701599</td>\n",
       "      <td>252.352097</td>\n",
       "      <td>21</td>\n",
       "      <td>100.000000</td>\n",
       "      <td>L2/3 intratelencephalic projecting glutamaterg...</td>\n",
       "      <td>NaN</td>\n",
       "      <td>89.175400</td>\n",
       "      <td>ZZZ3</td>\n",
       "      <td>...</td>\n",
       "      <td>L2/3 intratelencephalic projecting glutamaterg...</td>\n",
       "      <td>0</td>\n",
       "      <td>252.352097</td>\n",
       "      <td>[]</td>\n",
       "      <td>0</td>\n",
       "      <td></td>\n",
       "      <td>low cell type specificity</td>\n",
       "      <td>expressed in over 90%</td>\n",
       "      <td>0.000000</td>\n",
       "      <td></td>\n",
       "    </tr>\n",
       "  </tbody>\n",
       "</table>\n",
       "<p>30843 rows × 25 columns</p>\n",
       "</div>"
      ],
      "text/plain": [
       "               mean_exp     min_exp      max_exp      max_2nd  n_exp  \\\n",
       "gene                                                                   \n",
       "A2M          172.698853    0.206800  1782.958984  1755.849976      4   \n",
       "AADACL2-AS1    0.778557    0.294400     1.755400     1.667200      6   \n",
       "AAMP           7.332943    2.557000    11.236800    11.088100     21   \n",
       "ABCA11P        0.253290    0.000000     0.622300     0.448200      0   \n",
       "ABCB1        301.363373    0.456800  6245.695312    32.584000     19   \n",
       "...                 ...         ...          ...          ...    ...   \n",
       "ZP3           18.475468    7.246800    55.050999    52.359001     21   \n",
       "ZSWIM3         4.212752    2.566400     9.748800     5.565200     21   \n",
       "ZSWIM6       630.660034   57.197899  3122.945312  2607.222656     21   \n",
       "ZWINT          0.047081    0.000000     0.450100     0.065600      0   \n",
       "ZZZ3         186.731445  121.078400   356.701599   252.352097     21   \n",
       "\n",
       "               frac_exp                                   groups_expressed  \\\n",
       "gene                                                                         \n",
       "A2M           19.047619  cerebral cortex endothelial cell;microglial ce...   \n",
       "AADACL2-AS1   28.571429  L5 extratelencephalic projecting glutamatergic...   \n",
       "AAMP         100.000000  L2/3 intratelencephalic projecting glutamaterg...   \n",
       "ABCA11P        0.000000                                                NaN   \n",
       "ABCB1         90.476190  L2/3 intratelencephalic projecting glutamaterg...   \n",
       "...                 ...                                                ...   \n",
       "ZP3          100.000000  L2/3 intratelencephalic projecting glutamaterg...   \n",
       "ZSWIM3       100.000000  L2/3 intratelencephalic projecting glutamaterg...   \n",
       "ZSWIM6       100.000000  L2/3 intratelencephalic projecting glutamaterg...   \n",
       "ZWINT          0.000000                                                NaN   \n",
       "ZZZ3         100.000000  L2/3 intratelencephalic projecting glutamaterg...   \n",
       "\n",
       "                                          groups_not_expressed          lim  \\\n",
       "gene                                                                          \n",
       "A2M          L2/3 intratelencephalic projecting glutamaterg...   445.739746   \n",
       "AADACL2-AS1  L2/3 intratelencephalic projecting glutamaterg...     0.438850   \n",
       "AAMP                                                       NaN     2.809200   \n",
       "ABCA11P      L2/3 intratelencephalic projecting glutamaterg...     0.155575   \n",
       "ABCB1         astrocyte of the cerebral cortex;oligodendrocyte  1561.423828   \n",
       "...                                                        ...          ...   \n",
       "ZP3                                                        NaN    13.762750   \n",
       "ZSWIM3                                                     NaN     2.437200   \n",
       "ZSWIM6                                                     NaN   780.736328   \n",
       "ZWINT        L2/3 intratelencephalic projecting glutamaterg...     0.112525   \n",
       "ZZZ3                                                       NaN    89.175400   \n",
       "\n",
       "                    gene  ...  \\\n",
       "gene                      ...   \n",
       "A2M                  A2M  ...   \n",
       "AADACL2-AS1  AADACL2-AS1  ...   \n",
       "AAMP                AAMP  ...   \n",
       "ABCA11P          ABCA11P  ...   \n",
       "ABCB1              ABCB1  ...   \n",
       "...                  ...  ...   \n",
       "ZP3                  ZP3  ...   \n",
       "ZSWIM3            ZSWIM3  ...   \n",
       "ZSWIM6            ZSWIM6  ...   \n",
       "ZWINT              ZWINT  ...   \n",
       "ZZZ3                ZZZ3  ...   \n",
       "\n",
       "                                              enrichment_group  n_enriched  \\\n",
       "gene                                                                         \n",
       "A2M           cerebral cortex endothelial cell;microglial cell           2   \n",
       "AADACL2-AS1  L5 extratelencephalic projecting glutamatergic...           0   \n",
       "AAMP         L2/3 intratelencephalic projecting glutamaterg...           0   \n",
       "ABCA11P                                                                  0   \n",
       "ABCB1                         cerebral cortex endothelial cell           1   \n",
       "...                                                        ...         ...   \n",
       "ZP3          L5 extratelencephalic projecting glutamatergic...           0   \n",
       "ZSWIM3       L2/3 intratelencephalic projecting glutamaterg...           0   \n",
       "ZSWIM6       astrocyte of the cerebral cortex;microglial ce...           2   \n",
       "ZWINT                                                                    0   \n",
       "ZZZ3         L2/3 intratelencephalic projecting glutamaterg...           0   \n",
       "\n",
       "             max_2nd_or_lim                         exps_enhanced  n_enhanced  \\\n",
       "gene                                                                            \n",
       "A2M             1755.849976  [1755.8499755859375, 1782.958984375]           2   \n",
       "AADACL2-AS1        1.667200                                    []           0   \n",
       "AAMP              11.088100                                    []           0   \n",
       "ABCA11P            0.448200                                    []           0   \n",
       "ABCB1           1561.423828                        [6245.6953125]           1   \n",
       "...                     ...                                   ...         ...   \n",
       "ZP3               52.359001                                    []           0   \n",
       "ZSWIM3             5.565200                                    []           0   \n",
       "ZSWIM6          2607.222656         [2607.22265625, 3122.9453125]           2   \n",
       "ZWINT              0.112525                                    []           0   \n",
       "ZZZ3             252.352097                                    []           0   \n",
       "\n",
       "                                                  enhanced_in  \\\n",
       "gene                                                            \n",
       "A2M          cerebral cortex endothelial cell;microglial cell   \n",
       "AADACL2-AS1                                                     \n",
       "AAMP                                                            \n",
       "ABCA11P                                                         \n",
       "ABCB1                        cerebral cortex endothelial cell   \n",
       "...                                                       ...   \n",
       "ZP3                                                             \n",
       "ZSWIM3                                                          \n",
       "ZSWIM6         microglial cell;oligodendrocyte precursor cell   \n",
       "ZWINT                                                           \n",
       "ZZZ3                                                            \n",
       "\n",
       "                         spec_category               dist_category  \\\n",
       "gene                                                                 \n",
       "A2M                     group enriched  expressed in less than 30%   \n",
       "AADACL2-AS1  low cell type specificity  expressed in less than 30%   \n",
       "AAMP         low cell type specificity       expressed in over 90%   \n",
       "ABCA11P                lowly expressed             lowly expressed   \n",
       "ABCB1               cell type enriched       expressed in over 90%   \n",
       "...                                ...                         ...   \n",
       "ZP3          low cell type specificity       expressed in over 90%   \n",
       "ZSWIM3       low cell type specificity       expressed in over 90%   \n",
       "ZSWIM6                  group enhanced       expressed in over 90%   \n",
       "ZWINT                  lowly expressed             lowly expressed   \n",
       "ZZZ3         low cell type specificity       expressed in over 90%   \n",
       "\n",
       "             spec_score                                   enriched_groups  \n",
       "gene                                                                       \n",
       "A2M           22.398319  cerebral cortex endothelial cell;microglial cell  \n",
       "AADACL2-AS1    0.000000                                                    \n",
       "AAMP           0.000000                                                    \n",
       "ABCA11P        0.000000                                                    \n",
       "ABCB1        191.679825                  cerebral cortex endothelial cell  \n",
       "...                 ...                                               ...  \n",
       "ZP3            0.000000                                                    \n",
       "ZSWIM3         0.000000                                                    \n",
       "ZSWIM6         4.951868    microglial cell;oligodendrocyte precursor cell  \n",
       "ZWINT          0.000000                                                    \n",
       "ZZZ3           0.000000                                                    \n",
       "\n",
       "[30843 rows x 25 columns]"
      ]
     },
     "execution_count": 32,
     "metadata": {},
     "output_type": "execute_result"
    }
   ],
   "source": [
    "result_classes"
   ]
  },
  {
   "cell_type": "code",
   "execution_count": 33,
   "id": "a6f58a7d-95e1-4013-9770-2c7151e931ab",
   "metadata": {},
   "outputs": [
    {
     "data": {
      "text/plain": [
       "expressed in over 90%         11713\n",
       "lowly expressed                9618\n",
       "expressed in less than 30%     3709\n",
       "expressed in over 30%          3350\n",
       "expressed in single            2453\n",
       "Name: dist_category, dtype: int64"
      ]
     },
     "execution_count": 33,
     "metadata": {},
     "output_type": "execute_result"
    }
   ],
   "source": [
    "result_classes.dist_category.value_counts()"
   ]
  },
  {
   "cell_type": "code",
   "execution_count": 34,
   "id": "5f794fe9-5312-4094-af7d-b3dee1fe2451",
   "metadata": {},
   "outputs": [],
   "source": [
    "from genespectra.gene_classification.plotting import plot_categories_pie, plot_categories_hist"
   ]
  },
  {
   "cell_type": "code",
   "execution_count": 35,
   "id": "90503faf-7a56-4524-a2eb-d5ccc78887cb",
   "metadata": {},
   "outputs": [],
   "source": [
    "import plotly.io as pio\n",
    "pio.renderers.default='iframe'\n",
    "from plotly.graph_objects import Figure\n",
    "import plotly.express as px"
   ]
  },
  {
   "cell_type": "code",
   "execution_count": 36,
   "id": "421049b1-f047-4739-91aa-91bbd6415e5e",
   "metadata": {},
   "outputs": [],
   "source": [
    "def plot_categories_pie(data, kind='spec_category', title=None) -> Figure:\n",
    "    \"\"\"\n",
    "\n",
    "    :param data: the categories output by hpa_gene_classification\n",
    "    :param kind: the kind of category to plot, choose between spec_category (default) and dist_category\n",
    "    :param title: title of the plot, usually the species and dataset name\n",
    "    :return: a plotly.graph_objects.Figure of Pie plot\n",
    "    \"\"\"\n",
    "    if kind not in ('spec_category', 'dist_category'):\n",
    "        raise ValueError('kind should be either spec_category or dist_category')\n",
    "\n",
    "    counts = data[kind].value_counts().to_frame().reset_index().rename(\n",
    "        columns={kind: \"counts\", \"index\": 'gene_category'})\n",
    "    fig = px.pie(counts, values='counts', names='gene_category', title=title)\n",
    "    fig.show(renderer='iframe')\n",
    "\n",
    "    return fig\n"
   ]
  },
  {
   "cell_type": "code",
   "execution_count": 37,
   "id": "49ebb099-1084-49b3-83ff-38fdd4252670",
   "metadata": {},
   "outputs": [
    {
     "data": {
      "text/html": [
       "<iframe\n",
       "    scrolling=\"no\"\n",
       "    width=\"100%\"\n",
       "    height=\"545px\"\n",
       "    src=\"iframe_figures/figure_37.html\"\n",
       "    frameborder=\"0\"\n",
       "    allowfullscreen\n",
       "></iframe>\n"
      ]
     },
     "metadata": {},
     "output_type": "display_data"
    },
    {
     "data": {
      "text/html": [
       "<iframe\n",
       "    scrolling=\"no\"\n",
       "    width=\"100%\"\n",
       "    height=\"545px\"\n",
       "    src=\"iframe_figures/figure_37.html\"\n",
       "    frameborder=\"0\"\n",
       "    allowfullscreen\n",
       "></iframe>\n"
      ]
     },
     "metadata": {},
     "output_type": "display_data"
    }
   ],
   "source": [
    "plot_categories_pie(result_classes)"
   ]
  },
  {
   "cell_type": "code",
   "execution_count": 38,
   "id": "8b718886-9022-43a6-a74e-fade9332fd8d",
   "metadata": {},
   "outputs": [
    {
     "data": {
      "text/html": [
       "<div>\n",
       "<style scoped>\n",
       "    .dataframe tbody tr th:only-of-type {\n",
       "        vertical-align: middle;\n",
       "    }\n",
       "\n",
       "    .dataframe tbody tr th {\n",
       "        vertical-align: top;\n",
       "    }\n",
       "\n",
       "    .dataframe thead th {\n",
       "        text-align: right;\n",
       "    }\n",
       "</style>\n",
       "<table border=\"1\" class=\"dataframe\">\n",
       "  <thead>\n",
       "    <tr style=\"text-align: right;\">\n",
       "      <th></th>\n",
       "      <th>n_exp</th>\n",
       "    </tr>\n",
       "  </thead>\n",
       "  <tbody>\n",
       "    <tr>\n",
       "      <th>0</th>\n",
       "      <td>9618</td>\n",
       "    </tr>\n",
       "    <tr>\n",
       "      <th>1</th>\n",
       "      <td>2453</td>\n",
       "    </tr>\n",
       "    <tr>\n",
       "      <th>2</th>\n",
       "      <td>1277</td>\n",
       "    </tr>\n",
       "    <tr>\n",
       "      <th>3</th>\n",
       "      <td>917</td>\n",
       "    </tr>\n",
       "    <tr>\n",
       "      <th>4</th>\n",
       "      <td>592</td>\n",
       "    </tr>\n",
       "    <tr>\n",
       "      <th>5</th>\n",
       "      <td>488</td>\n",
       "    </tr>\n",
       "    <tr>\n",
       "      <th>6</th>\n",
       "      <td>435</td>\n",
       "    </tr>\n",
       "    <tr>\n",
       "      <th>7</th>\n",
       "      <td>332</td>\n",
       "    </tr>\n",
       "    <tr>\n",
       "      <th>8</th>\n",
       "      <td>299</td>\n",
       "    </tr>\n",
       "    <tr>\n",
       "      <th>9</th>\n",
       "      <td>255</td>\n",
       "    </tr>\n",
       "    <tr>\n",
       "      <th>10</th>\n",
       "      <td>254</td>\n",
       "    </tr>\n",
       "    <tr>\n",
       "      <th>11</th>\n",
       "      <td>235</td>\n",
       "    </tr>\n",
       "    <tr>\n",
       "      <th>12</th>\n",
       "      <td>240</td>\n",
       "    </tr>\n",
       "    <tr>\n",
       "      <th>13</th>\n",
       "      <td>230</td>\n",
       "    </tr>\n",
       "    <tr>\n",
       "      <th>14</th>\n",
       "      <td>223</td>\n",
       "    </tr>\n",
       "    <tr>\n",
       "      <th>15</th>\n",
       "      <td>292</td>\n",
       "    </tr>\n",
       "    <tr>\n",
       "      <th>16</th>\n",
       "      <td>269</td>\n",
       "    </tr>\n",
       "    <tr>\n",
       "      <th>17</th>\n",
       "      <td>313</td>\n",
       "    </tr>\n",
       "    <tr>\n",
       "      <th>18</th>\n",
       "      <td>408</td>\n",
       "    </tr>\n",
       "    <tr>\n",
       "      <th>19</th>\n",
       "      <td>496</td>\n",
       "    </tr>\n",
       "    <tr>\n",
       "      <th>20</th>\n",
       "      <td>909</td>\n",
       "    </tr>\n",
       "    <tr>\n",
       "      <th>21</th>\n",
       "      <td>10308</td>\n",
       "    </tr>\n",
       "  </tbody>\n",
       "</table>\n",
       "</div>"
      ],
      "text/plain": [
       "    n_exp\n",
       "0    9618\n",
       "1    2453\n",
       "2    1277\n",
       "3     917\n",
       "4     592\n",
       "5     488\n",
       "6     435\n",
       "7     332\n",
       "8     299\n",
       "9     255\n",
       "10    254\n",
       "11    235\n",
       "12    240\n",
       "13    230\n",
       "14    223\n",
       "15    292\n",
       "16    269\n",
       "17    313\n",
       "18    408\n",
       "19    496\n",
       "20    909\n",
       "21  10308"
      ]
     },
     "execution_count": 38,
     "metadata": {},
     "output_type": "execute_result"
    }
   ],
   "source": [
    "result_classes.n_exp.value_counts().to_frame().sort_index()"
   ]
  },
  {
   "cell_type": "code",
   "execution_count": 39,
   "id": "80f4412a-f8a5-4d43-9d66-57ace01a1da2",
   "metadata": {},
   "outputs": [
    {
     "data": {
      "text/html": [
       "<iframe\n",
       "    scrolling=\"no\"\n",
       "    width=\"100%\"\n",
       "    height=\"545px\"\n",
       "    src=\"iframe_figures/figure_39.html\"\n",
       "    frameborder=\"0\"\n",
       "    allowfullscreen\n",
       "></iframe>\n"
      ]
     },
     "metadata": {},
     "output_type": "display_data"
    },
    {
     "data": {
      "text/html": [
       "<iframe\n",
       "    scrolling=\"no\"\n",
       "    width=\"100%\"\n",
       "    height=\"545px\"\n",
       "    src=\"iframe_figures/figure_39.html\"\n",
       "    frameborder=\"0\"\n",
       "    allowfullscreen\n",
       "></iframe>\n"
      ]
     },
     "metadata": {},
     "output_type": "display_data"
    }
   ],
   "source": [
    "plot_categories_hist(result_classes)"
   ]
  },
  {
   "cell_type": "code",
   "execution_count": 40,
   "id": "1e5687fa-f3b8-4425-bd6e-e4ce443d8d4b",
   "metadata": {},
   "outputs": [],
   "source": [
    "result_classes.to_csv('gorilla_classes_subclass_1TPM.csv')"
   ]
  },
  {
   "cell_type": "code",
   "execution_count": 41,
   "id": "e37bc185-95de-4f8e-9d23-01955fa7f5cb",
   "metadata": {},
   "outputs": [],
   "source": [
    "expr_data.to_csv('gorilla_subclass_expr_1TPM.csv')"
   ]
  }
 ],
 "metadata": {
  "kernelspec": {
   "display_name": "metacells_py",
   "language": "python",
   "name": "metacells_py"
  },
  "language_info": {
   "codemirror_mode": {
    "name": "ipython",
    "version": 3
   },
   "file_extension": ".py",
   "mimetype": "text/x-python",
   "name": "python",
   "nbconvert_exporter": "python",
   "pygments_lexer": "ipython3",
   "version": "3.8.16"
  }
 },
 "nbformat": 4,
 "nbformat_minor": 5
}
