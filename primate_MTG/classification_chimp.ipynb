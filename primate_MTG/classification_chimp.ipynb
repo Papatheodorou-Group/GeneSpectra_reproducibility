{
 "cells": [
  {
   "cell_type": "code",
   "execution_count": 1,
   "id": "3a0ac0b5-ce71-4b1f-b14c-66c290dc1d85",
   "metadata": {},
   "outputs": [
    {
     "name": "stderr",
     "output_type": "stream",
     "text": [
      "/nfs/research/icortes/ysong/anaconda3/envs/metacells_py/lib/python3.8/site-packages/tqdm/auto.py:21: TqdmWarning: IProgress not found. Please update jupyter and ipywidgets. See https://ipywidgets.readthedocs.io/en/stable/user_install.html\n",
      "  from .autonotebook import tqdm as notebook_tqdm\n"
     ]
    }
   ],
   "source": [
    "import scanpy as sc\n",
    "import numpy as np\n",
    "import pandas as pd\n",
    "import warnings\n",
    "import matplotlib.pyplot as plt\n",
    "import seaborn as sns\n",
    "\n",
    "import multiprocessing as mp\n",
    "from genespectra.gene_classification.classify_genes import ExpressionDataLong, GeneClassificationResult\n",
    "from genespectra.metacells.make_metacells import SummedAnnData\n",
    "sns.set_theme(rc={'figure.dpi': 100, 'figure.figsize': (2, 2)})"
   ]
  },
  {
   "cell_type": "code",
   "execution_count": 2,
   "id": "ef4d2cd8-b053-400f-ab03-61771269e65f",
   "metadata": {},
   "outputs": [],
   "source": [
    "adata = sc.read_h5ad(\"../../metacells/chimp_metacells_subclass.h5ad\")"
   ]
  },
  {
   "cell_type": "code",
   "execution_count": 3,
   "id": "4412c648-b315-4c7b-9667-7efae5261ba0",
   "metadata": {},
   "outputs": [
    {
     "data": {
      "text/html": [
       "<div>\n",
       "<style scoped>\n",
       "    .dataframe tbody tr th:only-of-type {\n",
       "        vertical-align: middle;\n",
       "    }\n",
       "\n",
       "    .dataframe tbody tr th {\n",
       "        vertical-align: top;\n",
       "    }\n",
       "\n",
       "    .dataframe thead th {\n",
       "        text-align: right;\n",
       "    }\n",
       "</style>\n",
       "<table border=\"1\" class=\"dataframe\">\n",
       "  <thead>\n",
       "    <tr style=\"text-align: right;\">\n",
       "      <th></th>\n",
       "      <th>grouped</th>\n",
       "      <th>total_umis</th>\n",
       "      <th>__zeros_downsample_umis</th>\n",
       "      <th>metacells_rare_gene_module</th>\n",
       "      <th>rare_metacell</th>\n",
       "      <th>cell_type</th>\n",
       "      <th>cell_type_fraction_of_L2/3-6 intratelencephalic projecting glutamatergic cortical neuron</th>\n",
       "      <th>cell_type_fraction_of_L5 extratelencephalic projecting glutamatergic cortical neuron</th>\n",
       "      <th>cell_type_fraction_of_L6b glutamatergic cortical neuron</th>\n",
       "      <th>cell_type_fraction_of_astrocyte of the cerebral cortex</th>\n",
       "      <th>...</th>\n",
       "      <th>Subclass_fraction_of_Micro-PVM</th>\n",
       "      <th>Subclass_fraction_of_OPC</th>\n",
       "      <th>Subclass_fraction_of_Oligo</th>\n",
       "      <th>Subclass_fraction_of_Pax6</th>\n",
       "      <th>Subclass_fraction_of_Pvalb</th>\n",
       "      <th>Subclass_fraction_of_Sncg</th>\n",
       "      <th>Subclass_fraction_of_Sst</th>\n",
       "      <th>Subclass_fraction_of_Sst Chodl</th>\n",
       "      <th>Subclass_fraction_of_VLMC</th>\n",
       "      <th>Subclass_fraction_of_Vip</th>\n",
       "    </tr>\n",
       "  </thead>\n",
       "  <tbody>\n",
       "    <tr>\n",
       "      <th>M0.68</th>\n",
       "      <td>16</td>\n",
       "      <td>306782</td>\n",
       "      <td>12159</td>\n",
       "      <td>-1</td>\n",
       "      <td>False</td>\n",
       "      <td>L2/3-6 intratelencephalic projecting glutamate...</td>\n",
       "      <td>1.0</td>\n",
       "      <td>0.0</td>\n",
       "      <td>0.0</td>\n",
       "      <td>0.0</td>\n",
       "      <td>...</td>\n",
       "      <td>0.0</td>\n",
       "      <td>0.0</td>\n",
       "      <td>0.0</td>\n",
       "      <td>0.0</td>\n",
       "      <td>0.0</td>\n",
       "      <td>0.0</td>\n",
       "      <td>0.0</td>\n",
       "      <td>0.0</td>\n",
       "      <td>0.0</td>\n",
       "      <td>0.0</td>\n",
       "    </tr>\n",
       "    <tr>\n",
       "      <th>M1.43</th>\n",
       "      <td>22</td>\n",
       "      <td>321700</td>\n",
       "      <td>10134</td>\n",
       "      <td>-1</td>\n",
       "      <td>False</td>\n",
       "      <td>L2/3-6 intratelencephalic projecting glutamate...</td>\n",
       "      <td>1.0</td>\n",
       "      <td>0.0</td>\n",
       "      <td>0.0</td>\n",
       "      <td>0.0</td>\n",
       "      <td>...</td>\n",
       "      <td>0.0</td>\n",
       "      <td>0.0</td>\n",
       "      <td>0.0</td>\n",
       "      <td>0.0</td>\n",
       "      <td>0.0</td>\n",
       "      <td>0.0</td>\n",
       "      <td>0.0</td>\n",
       "      <td>0.0</td>\n",
       "      <td>0.0</td>\n",
       "      <td>0.0</td>\n",
       "    </tr>\n",
       "    <tr>\n",
       "      <th>M2.28</th>\n",
       "      <td>21</td>\n",
       "      <td>266418</td>\n",
       "      <td>6052</td>\n",
       "      <td>-1</td>\n",
       "      <td>False</td>\n",
       "      <td>L2/3-6 intratelencephalic projecting glutamate...</td>\n",
       "      <td>1.0</td>\n",
       "      <td>0.0</td>\n",
       "      <td>0.0</td>\n",
       "      <td>0.0</td>\n",
       "      <td>...</td>\n",
       "      <td>0.0</td>\n",
       "      <td>0.0</td>\n",
       "      <td>0.0</td>\n",
       "      <td>0.0</td>\n",
       "      <td>0.0</td>\n",
       "      <td>0.0</td>\n",
       "      <td>0.0</td>\n",
       "      <td>0.0</td>\n",
       "      <td>0.0</td>\n",
       "      <td>0.0</td>\n",
       "    </tr>\n",
       "    <tr>\n",
       "      <th>M3.59</th>\n",
       "      <td>17</td>\n",
       "      <td>345701</td>\n",
       "      <td>12333</td>\n",
       "      <td>-1</td>\n",
       "      <td>False</td>\n",
       "      <td>L2/3-6 intratelencephalic projecting glutamate...</td>\n",
       "      <td>1.0</td>\n",
       "      <td>0.0</td>\n",
       "      <td>0.0</td>\n",
       "      <td>0.0</td>\n",
       "      <td>...</td>\n",
       "      <td>0.0</td>\n",
       "      <td>0.0</td>\n",
       "      <td>0.0</td>\n",
       "      <td>0.0</td>\n",
       "      <td>0.0</td>\n",
       "      <td>0.0</td>\n",
       "      <td>0.0</td>\n",
       "      <td>0.0</td>\n",
       "      <td>0.0</td>\n",
       "      <td>0.0</td>\n",
       "    </tr>\n",
       "    <tr>\n",
       "      <th>M4.39</th>\n",
       "      <td>27</td>\n",
       "      <td>317871</td>\n",
       "      <td>6562</td>\n",
       "      <td>-1</td>\n",
       "      <td>False</td>\n",
       "      <td>L2/3-6 intratelencephalic projecting glutamate...</td>\n",
       "      <td>1.0</td>\n",
       "      <td>0.0</td>\n",
       "      <td>0.0</td>\n",
       "      <td>0.0</td>\n",
       "      <td>...</td>\n",
       "      <td>0.0</td>\n",
       "      <td>0.0</td>\n",
       "      <td>0.0</td>\n",
       "      <td>0.0</td>\n",
       "      <td>0.0</td>\n",
       "      <td>0.0</td>\n",
       "      <td>0.0</td>\n",
       "      <td>0.0</td>\n",
       "      <td>0.0</td>\n",
       "      <td>0.0</td>\n",
       "    </tr>\n",
       "    <tr>\n",
       "      <th>...</th>\n",
       "      <td>...</td>\n",
       "      <td>...</td>\n",
       "      <td>...</td>\n",
       "      <td>...</td>\n",
       "      <td>...</td>\n",
       "      <td>...</td>\n",
       "      <td>...</td>\n",
       "      <td>...</td>\n",
       "      <td>...</td>\n",
       "      <td>...</td>\n",
       "      <td>...</td>\n",
       "      <td>...</td>\n",
       "      <td>...</td>\n",
       "      <td>...</td>\n",
       "      <td>...</td>\n",
       "      <td>...</td>\n",
       "      <td>...</td>\n",
       "      <td>...</td>\n",
       "      <td>...</td>\n",
       "      <td>...</td>\n",
       "      <td>...</td>\n",
       "    </tr>\n",
       "    <tr>\n",
       "      <th>M5204.53</th>\n",
       "      <td>15</td>\n",
       "      <td>357367</td>\n",
       "      <td>9717</td>\n",
       "      <td>-1</td>\n",
       "      <td>False</td>\n",
       "      <td>L2/3-6 intratelencephalic projecting glutamate...</td>\n",
       "      <td>1.0</td>\n",
       "      <td>0.0</td>\n",
       "      <td>0.0</td>\n",
       "      <td>0.0</td>\n",
       "      <td>...</td>\n",
       "      <td>0.0</td>\n",
       "      <td>0.0</td>\n",
       "      <td>0.0</td>\n",
       "      <td>0.0</td>\n",
       "      <td>0.0</td>\n",
       "      <td>0.0</td>\n",
       "      <td>0.0</td>\n",
       "      <td>0.0</td>\n",
       "      <td>0.0</td>\n",
       "      <td>0.0</td>\n",
       "    </tr>\n",
       "    <tr>\n",
       "      <th>M5205.22</th>\n",
       "      <td>13</td>\n",
       "      <td>284336</td>\n",
       "      <td>11761</td>\n",
       "      <td>-1</td>\n",
       "      <td>False</td>\n",
       "      <td>L2/3-6 intratelencephalic projecting glutamate...</td>\n",
       "      <td>1.0</td>\n",
       "      <td>0.0</td>\n",
       "      <td>0.0</td>\n",
       "      <td>0.0</td>\n",
       "      <td>...</td>\n",
       "      <td>0.0</td>\n",
       "      <td>0.0</td>\n",
       "      <td>0.0</td>\n",
       "      <td>0.0</td>\n",
       "      <td>0.0</td>\n",
       "      <td>0.0</td>\n",
       "      <td>0.0</td>\n",
       "      <td>0.0</td>\n",
       "      <td>0.0</td>\n",
       "      <td>0.0</td>\n",
       "    </tr>\n",
       "    <tr>\n",
       "      <th>M5206.17</th>\n",
       "      <td>15</td>\n",
       "      <td>351404</td>\n",
       "      <td>12416</td>\n",
       "      <td>-1</td>\n",
       "      <td>False</td>\n",
       "      <td>L2/3-6 intratelencephalic projecting glutamate...</td>\n",
       "      <td>1.0</td>\n",
       "      <td>0.0</td>\n",
       "      <td>0.0</td>\n",
       "      <td>0.0</td>\n",
       "      <td>...</td>\n",
       "      <td>0.0</td>\n",
       "      <td>0.0</td>\n",
       "      <td>0.0</td>\n",
       "      <td>0.0</td>\n",
       "      <td>0.0</td>\n",
       "      <td>0.0</td>\n",
       "      <td>0.0</td>\n",
       "      <td>0.0</td>\n",
       "      <td>0.0</td>\n",
       "      <td>0.0</td>\n",
       "    </tr>\n",
       "    <tr>\n",
       "      <th>M5207.09</th>\n",
       "      <td>17</td>\n",
       "      <td>345751</td>\n",
       "      <td>12558</td>\n",
       "      <td>-1</td>\n",
       "      <td>False</td>\n",
       "      <td>L2/3-6 intratelencephalic projecting glutamate...</td>\n",
       "      <td>1.0</td>\n",
       "      <td>0.0</td>\n",
       "      <td>0.0</td>\n",
       "      <td>0.0</td>\n",
       "      <td>...</td>\n",
       "      <td>0.0</td>\n",
       "      <td>0.0</td>\n",
       "      <td>0.0</td>\n",
       "      <td>0.0</td>\n",
       "      <td>0.0</td>\n",
       "      <td>0.0</td>\n",
       "      <td>0.0</td>\n",
       "      <td>0.0</td>\n",
       "      <td>0.0</td>\n",
       "      <td>0.0</td>\n",
       "    </tr>\n",
       "    <tr>\n",
       "      <th>M5208.55</th>\n",
       "      <td>12</td>\n",
       "      <td>246619</td>\n",
       "      <td>13652</td>\n",
       "      <td>-1</td>\n",
       "      <td>False</td>\n",
       "      <td>L2/3-6 intratelencephalic projecting glutamate...</td>\n",
       "      <td>1.0</td>\n",
       "      <td>0.0</td>\n",
       "      <td>0.0</td>\n",
       "      <td>0.0</td>\n",
       "      <td>...</td>\n",
       "      <td>0.0</td>\n",
       "      <td>0.0</td>\n",
       "      <td>0.0</td>\n",
       "      <td>0.0</td>\n",
       "      <td>0.0</td>\n",
       "      <td>0.0</td>\n",
       "      <td>0.0</td>\n",
       "      <td>0.0</td>\n",
       "      <td>0.0</td>\n",
       "      <td>0.0</td>\n",
       "    </tr>\n",
       "  </tbody>\n",
       "</table>\n",
       "<p>5209 rows × 49 columns</p>\n",
       "</div>"
      ],
      "text/plain": [
       "          grouped  total_umis  __zeros_downsample_umis  \\\n",
       "M0.68          16      306782                    12159   \n",
       "M1.43          22      321700                    10134   \n",
       "M2.28          21      266418                     6052   \n",
       "M3.59          17      345701                    12333   \n",
       "M4.39          27      317871                     6562   \n",
       "...           ...         ...                      ...   \n",
       "M5204.53       15      357367                     9717   \n",
       "M5205.22       13      284336                    11761   \n",
       "M5206.17       15      351404                    12416   \n",
       "M5207.09       17      345751                    12558   \n",
       "M5208.55       12      246619                    13652   \n",
       "\n",
       "          metacells_rare_gene_module  rare_metacell  \\\n",
       "M0.68                             -1          False   \n",
       "M1.43                             -1          False   \n",
       "M2.28                             -1          False   \n",
       "M3.59                             -1          False   \n",
       "M4.39                             -1          False   \n",
       "...                              ...            ...   \n",
       "M5204.53                          -1          False   \n",
       "M5205.22                          -1          False   \n",
       "M5206.17                          -1          False   \n",
       "M5207.09                          -1          False   \n",
       "M5208.55                          -1          False   \n",
       "\n",
       "                                                  cell_type  \\\n",
       "M0.68     L2/3-6 intratelencephalic projecting glutamate...   \n",
       "M1.43     L2/3-6 intratelencephalic projecting glutamate...   \n",
       "M2.28     L2/3-6 intratelencephalic projecting glutamate...   \n",
       "M3.59     L2/3-6 intratelencephalic projecting glutamate...   \n",
       "M4.39     L2/3-6 intratelencephalic projecting glutamate...   \n",
       "...                                                     ...   \n",
       "M5204.53  L2/3-6 intratelencephalic projecting glutamate...   \n",
       "M5205.22  L2/3-6 intratelencephalic projecting glutamate...   \n",
       "M5206.17  L2/3-6 intratelencephalic projecting glutamate...   \n",
       "M5207.09  L2/3-6 intratelencephalic projecting glutamate...   \n",
       "M5208.55  L2/3-6 intratelencephalic projecting glutamate...   \n",
       "\n",
       "          cell_type_fraction_of_L2/3-6 intratelencephalic projecting glutamatergic cortical neuron  \\\n",
       "M0.68                                                   1.0                                          \n",
       "M1.43                                                   1.0                                          \n",
       "M2.28                                                   1.0                                          \n",
       "M3.59                                                   1.0                                          \n",
       "M4.39                                                   1.0                                          \n",
       "...                                                     ...                                          \n",
       "M5204.53                                                1.0                                          \n",
       "M5205.22                                                1.0                                          \n",
       "M5206.17                                                1.0                                          \n",
       "M5207.09                                                1.0                                          \n",
       "M5208.55                                                1.0                                          \n",
       "\n",
       "          cell_type_fraction_of_L5 extratelencephalic projecting glutamatergic cortical neuron  \\\n",
       "M0.68                                                   0.0                                      \n",
       "M1.43                                                   0.0                                      \n",
       "M2.28                                                   0.0                                      \n",
       "M3.59                                                   0.0                                      \n",
       "M4.39                                                   0.0                                      \n",
       "...                                                     ...                                      \n",
       "M5204.53                                                0.0                                      \n",
       "M5205.22                                                0.0                                      \n",
       "M5206.17                                                0.0                                      \n",
       "M5207.09                                                0.0                                      \n",
       "M5208.55                                                0.0                                      \n",
       "\n",
       "          cell_type_fraction_of_L6b glutamatergic cortical neuron  \\\n",
       "M0.68                                                   0.0         \n",
       "M1.43                                                   0.0         \n",
       "M2.28                                                   0.0         \n",
       "M3.59                                                   0.0         \n",
       "M4.39                                                   0.0         \n",
       "...                                                     ...         \n",
       "M5204.53                                                0.0         \n",
       "M5205.22                                                0.0         \n",
       "M5206.17                                                0.0         \n",
       "M5207.09                                                0.0         \n",
       "M5208.55                                                0.0         \n",
       "\n",
       "          cell_type_fraction_of_astrocyte of the cerebral cortex  ...  \\\n",
       "M0.68                                                   0.0       ...   \n",
       "M1.43                                                   0.0       ...   \n",
       "M2.28                                                   0.0       ...   \n",
       "M3.59                                                   0.0       ...   \n",
       "M4.39                                                   0.0       ...   \n",
       "...                                                     ...       ...   \n",
       "M5204.53                                                0.0       ...   \n",
       "M5205.22                                                0.0       ...   \n",
       "M5206.17                                                0.0       ...   \n",
       "M5207.09                                                0.0       ...   \n",
       "M5208.55                                                0.0       ...   \n",
       "\n",
       "          Subclass_fraction_of_Micro-PVM  Subclass_fraction_of_OPC  \\\n",
       "M0.68                                0.0                       0.0   \n",
       "M1.43                                0.0                       0.0   \n",
       "M2.28                                0.0                       0.0   \n",
       "M3.59                                0.0                       0.0   \n",
       "M4.39                                0.0                       0.0   \n",
       "...                                  ...                       ...   \n",
       "M5204.53                             0.0                       0.0   \n",
       "M5205.22                             0.0                       0.0   \n",
       "M5206.17                             0.0                       0.0   \n",
       "M5207.09                             0.0                       0.0   \n",
       "M5208.55                             0.0                       0.0   \n",
       "\n",
       "          Subclass_fraction_of_Oligo  Subclass_fraction_of_Pax6  \\\n",
       "M0.68                            0.0                        0.0   \n",
       "M1.43                            0.0                        0.0   \n",
       "M2.28                            0.0                        0.0   \n",
       "M3.59                            0.0                        0.0   \n",
       "M4.39                            0.0                        0.0   \n",
       "...                              ...                        ...   \n",
       "M5204.53                         0.0                        0.0   \n",
       "M5205.22                         0.0                        0.0   \n",
       "M5206.17                         0.0                        0.0   \n",
       "M5207.09                         0.0                        0.0   \n",
       "M5208.55                         0.0                        0.0   \n",
       "\n",
       "          Subclass_fraction_of_Pvalb  Subclass_fraction_of_Sncg  \\\n",
       "M0.68                            0.0                        0.0   \n",
       "M1.43                            0.0                        0.0   \n",
       "M2.28                            0.0                        0.0   \n",
       "M3.59                            0.0                        0.0   \n",
       "M4.39                            0.0                        0.0   \n",
       "...                              ...                        ...   \n",
       "M5204.53                         0.0                        0.0   \n",
       "M5205.22                         0.0                        0.0   \n",
       "M5206.17                         0.0                        0.0   \n",
       "M5207.09                         0.0                        0.0   \n",
       "M5208.55                         0.0                        0.0   \n",
       "\n",
       "          Subclass_fraction_of_Sst  Subclass_fraction_of_Sst Chodl  \\\n",
       "M0.68                          0.0                             0.0   \n",
       "M1.43                          0.0                             0.0   \n",
       "M2.28                          0.0                             0.0   \n",
       "M3.59                          0.0                             0.0   \n",
       "M4.39                          0.0                             0.0   \n",
       "...                            ...                             ...   \n",
       "M5204.53                       0.0                             0.0   \n",
       "M5205.22                       0.0                             0.0   \n",
       "M5206.17                       0.0                             0.0   \n",
       "M5207.09                       0.0                             0.0   \n",
       "M5208.55                       0.0                             0.0   \n",
       "\n",
       "          Subclass_fraction_of_VLMC  Subclass_fraction_of_Vip  \n",
       "M0.68                           0.0                       0.0  \n",
       "M1.43                           0.0                       0.0  \n",
       "M2.28                           0.0                       0.0  \n",
       "M3.59                           0.0                       0.0  \n",
       "M4.39                           0.0                       0.0  \n",
       "...                             ...                       ...  \n",
       "M5204.53                        0.0                       0.0  \n",
       "M5205.22                        0.0                       0.0  \n",
       "M5206.17                        0.0                       0.0  \n",
       "M5207.09                        0.0                       0.0  \n",
       "M5208.55                        0.0                       0.0  \n",
       "\n",
       "[5209 rows x 49 columns]"
      ]
     },
     "execution_count": 3,
     "metadata": {},
     "output_type": "execute_result"
    }
   ],
   "source": [
    "adata.obs"
   ]
  },
  {
   "cell_type": "code",
   "execution_count": 4,
   "id": "089444c4-331e-40c1-97ab-6d4415c811de",
   "metadata": {},
   "outputs": [],
   "source": [
    "adata.obs['Subclass'] = adata.obs['Subclass'].astype(str)"
   ]
  },
  {
   "cell_type": "code",
   "execution_count": 5,
   "id": "78608277-26ef-47ab-a97d-170e7a928ff7",
   "metadata": {},
   "outputs": [],
   "source": [
    "import pandas as pd\n",
    "\n",
    "# Given mapping\n",
    "mapping = {\n",
    "    'Astro': 'astrocyte of the cerebral cortex',\n",
    "    'Oligo': 'oligodendrocyte',\n",
    "    'VLMC': 'vascular leptomeningeal cell',\n",
    "    'Micro-PVM': 'microglial cell',\n",
    "    'OPC': 'oligodendrocyte precursor cell',\n",
    "    'Endo': 'cerebral cortex endothelial cell',\n",
    "    'L5/6 NP': 'near-projecting glutamatergic cortical neuron',\n",
    "    'L6 CT': 'corticothalamic-projecting glutamatergic cortical neuron',\n",
    "    'L6b': 'L6b glutamatergic cortical neuron',\n",
    "    'L5 ET': 'L5 extratelencephalic projecting glutamatergic cortical neuron',\n",
    "    'Pax6': 'caudal ganglionic eminence derived GABAergic cortical interneuron',\n",
    "    'Vip': 'vip GABAergic cortical interneuron',\n",
    "    'Sncg': 'sncg GABAergic cortical interneuron',\n",
    "    'Lamp5_Lhx6': 'lamp5 GABAergic cortical interneuron',\n",
    "    'Lamp5': 'lamp5 GABAergic cortical interneuron',\n",
    "    'Sst Chodl': 'sst GABAergic cortical interneuron',\n",
    "    'Pvalb': 'pvalb GABAergic cortical interneuron',\n",
    "    'Sst': 'sst GABAergic cortical interneuron',\n",
    "    'Chandelier': 'chandelier pvalb GABAergic cortical interneuron',\n",
    "    'L5 IT': 'L5 intratelencephalic projecting glutamatergic neuron',\n",
    "    'L4 IT': 'L4 intratelencephalic projecting glutamatergic neuron',\n",
    "    'L2/3 IT': 'L2/3 intratelencephalic projecting glutamatergic neuron',\n",
    "    'L6 IT Car3': 'L6 intratelencephalic projecting glutamatergic neuron',\n",
    "    'L6 IT': 'L6 intratelencephalic projecting glutamatergic neuron'\n",
    "}\n"
   ]
  },
  {
   "cell_type": "code",
   "execution_count": 6,
   "id": "fa418ef1-db33-48b7-ab8b-0ebea5228744",
   "metadata": {},
   "outputs": [
    {
     "name": "stdout",
     "output_type": "stream",
     "text": [
      "Astro\n",
      "Oligo\n",
      "VLMC\n",
      "Micro-PVM\n",
      "OPC\n",
      "Endo\n",
      "L5/6 NP\n",
      "L6 CT\n",
      "L6b\n",
      "L5 ET\n",
      "Pax6\n",
      "Vip\n",
      "Sncg\n",
      "Lamp5_Lhx6\n",
      "Lamp5\n",
      "Sst Chodl\n",
      "Pvalb\n",
      "Sst\n",
      "Chandelier\n",
      "L5 IT\n",
      "L4 IT\n",
      "L2/3 IT\n",
      "L6 IT Car3\n",
      "L6 IT\n"
     ]
    }
   ],
   "source": [
    "for key in mapping:\n",
    "    print(key)\n",
    "    adata.obs['Subclass'] = adata.obs['Subclass'].str.replace(key, mapping[key])\n",
    "    "
   ]
  },
  {
   "cell_type": "code",
   "execution_count": 7,
   "id": "de68af85-b2da-4527-bd99-f234965451ec",
   "metadata": {
    "scrolled": true
   },
   "outputs": [
    {
     "data": {
      "text/plain": [
       "Index(['L2/3 intratelencephalic projecting glutamatergic neuron',\n",
       "       'L4 intratelencephalic projecting glutamatergic neuron',\n",
       "       'L5 extratelencephalic projecting glutamatergic cortical neuron',\n",
       "       'L5 intratelencephalic projecting glutamatergic neuron',\n",
       "       'L6 intratelencephalic projecting glutamatergic neuron',\n",
       "       'L6b glutamatergic cortical neuron', 'astrocyte of the cerebral cortex',\n",
       "       'caudal ganglionic eminence derived GABAergic cortical interneuron',\n",
       "       'cerebral cortex endothelial cell',\n",
       "       'chandelier pvalb GABAergic cortical interneuron',\n",
       "       'corticothalamic-projecting glutamatergic cortical neuron',\n",
       "       'lamp5 GABAergic cortical interneuron', 'microglial cell',\n",
       "       'near-projecting glutamatergic cortical neuron', 'oligodendrocyte',\n",
       "       'oligodendrocyte precursor cell',\n",
       "       'pvalb GABAergic cortical interneuron',\n",
       "       'sncg GABAergic cortical interneuron',\n",
       "       'sst GABAergic cortical interneuron', 'vascular leptomeningeal cell',\n",
       "       'vip GABAergic cortical interneuron'],\n",
       "      dtype='object')"
      ]
     },
     "execution_count": 7,
     "metadata": {},
     "output_type": "execute_result"
    }
   ],
   "source": [
    "adata.obs.Subclass.astype('category').cat.categories"
   ]
  },
  {
   "cell_type": "code",
   "execution_count": 8,
   "id": "b5fa6851-a944-4b1a-b5ac-b41d06668c8a",
   "metadata": {},
   "outputs": [],
   "source": [
    "adata.obs['cell_type_name'] = adata.obs['Subclass']"
   ]
  },
  {
   "cell_type": "code",
   "execution_count": 9,
   "id": "4c07ac24-2df1-4f43-bd02-28c7544fedac",
   "metadata": {},
   "outputs": [],
   "source": [
    "sc.pp.calculate_qc_metrics(adata, log1p=False, inplace=True)"
   ]
  },
  {
   "cell_type": "code",
   "execution_count": 10,
   "id": "35cfafae-b469-4ed3-a03b-3087cfaaee20",
   "metadata": {},
   "outputs": [
    {
     "data": {
      "text/plain": [
       "array([99.94240737, 99.98080246, 92.85851411, ..., 99.94240737,\n",
       "       99.98080246, 55.1929353 ])"
      ]
     },
     "execution_count": 10,
     "metadata": {},
     "output_type": "execute_result"
    }
   ],
   "source": [
    "adata.var.pct_dropout_by_counts.values"
   ]
  },
  {
   "cell_type": "code",
   "execution_count": 11,
   "id": "6df83fd3-a41a-4b89-b837-56649fcb829e",
   "metadata": {},
   "outputs": [
    {
     "data": {
      "text/plain": [
       "M0.68       1.0\n",
       "M1.43       1.0\n",
       "M2.28       1.0\n",
       "M3.59       1.0\n",
       "M4.39       1.0\n",
       "           ... \n",
       "M5204.53    1.0\n",
       "M5205.22    1.0\n",
       "M5206.17    1.0\n",
       "M5207.09    1.0\n",
       "M5208.55    1.0\n",
       "Name: total_counts, Length: 5209, dtype: float32"
      ]
     },
     "execution_count": 11,
     "metadata": {},
     "output_type": "execute_result"
    }
   ],
   "source": [
    "adata.obs['total_counts']"
   ]
  },
  {
   "cell_type": "code",
   "execution_count": 12,
   "id": "a1761d9a-4ecb-4a40-be42-3ee763d54748",
   "metadata": {},
   "outputs": [],
   "source": [
    "## in human protein atlas, they analyzed genes that are expressed in at least 10% of cells as valid\n",
    "## shall we do this too"
   ]
  },
  {
   "cell_type": "code",
   "execution_count": 13,
   "id": "fa460ca8-5e7b-4f4c-968e-ae895ad30c9a",
   "metadata": {},
   "outputs": [
    {
     "data": {
      "text/plain": [
       "<AxesSubplot: ylabel='Count'>"
      ]
     },
     "execution_count": 13,
     "metadata": {},
     "output_type": "execute_result"
    },
    {
     "data": {
      "image/png": "[encoded data removed]",
      "text/plain": [
       "<Figure size 200x200 with 1 Axes>"
      ]
     },
     "metadata": {},
     "output_type": "display_data"
    }
   ],
   "source": [
    "sns.histplot(adata.var.pct_dropout_by_counts.values)"
   ]
  },
  {
   "cell_type": "code",
   "execution_count": 14,
   "id": "96e917c7-dd11-41d2-9101-3944ec1d2d78",
   "metadata": {},
   "outputs": [],
   "source": [
    "anno_col='cell_type_name'"
   ]
  },
  {
   "cell_type": "code",
   "execution_count": 15,
   "id": "7dbf6e06-6ebe-48ae-bb05-455fa21ce553",
   "metadata": {},
   "outputs": [
    {
     "data": {
      "text/plain": [
       "AnnData object with n_obs × n_vars = 5209 × 40650\n",
       "    obs: 'grouped', 'total_umis', '__zeros_downsample_umis', 'metacells_rare_gene_module', 'rare_metacell', 'cell_type', 'cell_type_fraction_of_L2/3-6 intratelencephalic projecting glutamatergic cortical neuron', 'cell_type_fraction_of_L5 extratelencephalic projecting glutamatergic cortical neuron', 'cell_type_fraction_of_L6b glutamatergic cortical neuron', 'cell_type_fraction_of_astrocyte of the cerebral cortex', 'cell_type_fraction_of_caudal ganglionic eminence derived GABAergic cortical interneuron', 'cell_type_fraction_of_cerebral cortex endothelial cell', 'cell_type_fraction_of_chandelier pvalb GABAergic cortical interneuron', 'cell_type_fraction_of_corticothalamic-projecting glutamatergic cortical neuron', 'cell_type_fraction_of_lamp5 GABAergic cortical interneuron', 'cell_type_fraction_of_microglial cell', 'cell_type_fraction_of_near-projecting glutamatergic cortical neuron', 'cell_type_fraction_of_oligodendrocyte', 'cell_type_fraction_of_oligodendrocyte precursor cell', 'cell_type_fraction_of_pvalb GABAergic cortical interneuron', 'cell_type_fraction_of_sncg GABAergic cortical interneuron', 'cell_type_fraction_of_sst GABAergic cortical interneuron', 'cell_type_fraction_of_vascular leptomeningeal cell', 'cell_type_fraction_of_vip GABAergic cortical interneuron', 'Subclass', 'Subclass_fraction_of_Astro', 'Subclass_fraction_of_Chandelier', 'Subclass_fraction_of_Endo', 'Subclass_fraction_of_L2/3 IT', 'Subclass_fraction_of_L4 IT', 'Subclass_fraction_of_L5 ET', 'Subclass_fraction_of_L5 IT', 'Subclass_fraction_of_L5/6 NP', 'Subclass_fraction_of_L6 CT', 'Subclass_fraction_of_L6 IT', 'Subclass_fraction_of_L6 IT Car3', 'Subclass_fraction_of_L6b', 'Subclass_fraction_of_Lamp5', 'Subclass_fraction_of_Lamp5_Lhx6', 'Subclass_fraction_of_Micro-PVM', 'Subclass_fraction_of_OPC', 'Subclass_fraction_of_Oligo', 'Subclass_fraction_of_Pax6', 'Subclass_fraction_of_Pvalb', 'Subclass_fraction_of_Sncg', 'Subclass_fraction_of_Sst', 'Subclass_fraction_of_Sst Chodl', 'Subclass_fraction_of_VLMC', 'Subclass_fraction_of_Vip', 'cell_type_name', 'n_genes_by_counts', 'total_counts', 'pct_counts_in_top_50_genes', 'pct_counts_in_top_100_genes', 'pct_counts_in_top_200_genes', 'pct_counts_in_top_500_genes'\n",
       "    var: 'name', 'bursty_lonely_gene', 'properly_sampled_gene', 'excluded_gene', 'full_gene_index', 'lateral_gene', 'lateral_genes_module', 'selected_gene', 'rare_gene', 'rare_gene_module', 'n_cells_by_counts', 'mean_counts', 'pct_dropout_by_counts', 'total_counts'\n",
       "    uns: '__name__', 'metacells_algorithm', 'outliers'\n",
       "    layers: 'total_umis', 'zeros'"
      ]
     },
     "execution_count": 15,
     "metadata": {},
     "output_type": "execute_result"
    }
   ],
   "source": [
    "adata"
   ]
  },
  {
   "cell_type": "code",
   "execution_count": 16,
   "id": "1d772ca3-b611-456c-90de-1ec3c7f566d3",
   "metadata": {},
   "outputs": [],
   "source": [
    "summed_adata = SummedAnnData(summed_adata=adata)\n",
    "## just assign the metacell anndata to summed_adata object"
   ]
  },
  {
   "cell_type": "code",
   "execution_count": 17,
   "id": "aff9ea42-ef0c-4879-9bf9-abf53a4e866b",
   "metadata": {},
   "outputs": [
    {
     "data": {
      "text/plain": [
       "genespectra.metacells.make_metacells.SummedAnnData"
      ]
     },
     "execution_count": 17,
     "metadata": {},
     "output_type": "execute_result"
    }
   ],
   "source": [
    "summed_adata.__class__"
   ]
  },
  {
   "cell_type": "code",
   "execution_count": 18,
   "id": "728b826b-471f-4374-83b4-2a4428617184",
   "metadata": {},
   "outputs": [
    {
     "name": "stdout",
     "output_type": "stream",
     "text": [
      "Size factor depth normalize counts\n",
      "Target total UMI per cell is 1000000\n",
      "Total UMI count is normalized to [[1000000.]]\n"
     ]
    }
   ],
   "source": [
    "# normalize to a fixed size factor\n",
    "summed_adata = SummedAnnData.depth_normalize_counts(summed_adata, target_sum=1000000)\n",
    "sc.pp.calculate_qc_metrics(summed_adata, log1p=False, inplace=True)"
   ]
  },
  {
   "cell_type": "code",
   "execution_count": 19,
   "id": "57a10fa9-351e-4233-a023-fb75f0207b13",
   "metadata": {
    "tags": []
   },
   "outputs": [
    {
     "data": {
      "text/plain": [
       "'summed_counts'"
      ]
     },
     "execution_count": 19,
     "metadata": {},
     "output_type": "execute_result"
    }
   ],
   "source": [
    "summed_adata.count_type"
   ]
  },
  {
   "cell_type": "code",
   "execution_count": 20,
   "id": "0327bd36-74ca-41ff-bd6f-a49687b02b05",
   "metadata": {},
   "outputs": [
    {
     "data": {
      "text/plain": [
       "5209"
      ]
     },
     "execution_count": 20,
     "metadata": {},
     "output_type": "execute_result"
    }
   ],
   "source": [
    "len(summed_adata.obs_names)"
   ]
  },
  {
   "cell_type": "code",
   "execution_count": 21,
   "id": "62ed8015-5ddb-447f-8fb3-0cfeac9dbc4e",
   "metadata": {},
   "outputs": [
    {
     "name": "stdout",
     "output_type": "stream",
     "text": [
      "Genes with min_count 1 are considered low count\n",
      "Genes with min_cells_pct 1 are considered low count\n",
      "Put 10761 genes into low counts genes\n"
     ]
    }
   ],
   "source": [
    "summed_adata = SummedAnnData.filter_low_counts(summed_adata, min_count=1, min_cells_pct=1)"
   ]
  },
  {
   "cell_type": "code",
   "execution_count": 22,
   "id": "0d6a7de7-314a-4616-9be3-5939e04f113d",
   "metadata": {},
   "outputs": [
    {
     "data": {
      "text/plain": [
       "AnnData object with n_obs × n_vars = 5209 × 29889\n",
       "    obs: 'grouped', 'total_umis', '__zeros_downsample_umis', 'metacells_rare_gene_module', 'rare_metacell', 'cell_type', 'cell_type_fraction_of_L2/3-6 intratelencephalic projecting glutamatergic cortical neuron', 'cell_type_fraction_of_L5 extratelencephalic projecting glutamatergic cortical neuron', 'cell_type_fraction_of_L6b glutamatergic cortical neuron', 'cell_type_fraction_of_astrocyte of the cerebral cortex', 'cell_type_fraction_of_caudal ganglionic eminence derived GABAergic cortical interneuron', 'cell_type_fraction_of_cerebral cortex endothelial cell', 'cell_type_fraction_of_chandelier pvalb GABAergic cortical interneuron', 'cell_type_fraction_of_corticothalamic-projecting glutamatergic cortical neuron', 'cell_type_fraction_of_lamp5 GABAergic cortical interneuron', 'cell_type_fraction_of_microglial cell', 'cell_type_fraction_of_near-projecting glutamatergic cortical neuron', 'cell_type_fraction_of_oligodendrocyte', 'cell_type_fraction_of_oligodendrocyte precursor cell', 'cell_type_fraction_of_pvalb GABAergic cortical interneuron', 'cell_type_fraction_of_sncg GABAergic cortical interneuron', 'cell_type_fraction_of_sst GABAergic cortical interneuron', 'cell_type_fraction_of_vascular leptomeningeal cell', 'cell_type_fraction_of_vip GABAergic cortical interneuron', 'Subclass', 'Subclass_fraction_of_Astro', 'Subclass_fraction_of_Chandelier', 'Subclass_fraction_of_Endo', 'Subclass_fraction_of_L2/3 IT', 'Subclass_fraction_of_L4 IT', 'Subclass_fraction_of_L5 ET', 'Subclass_fraction_of_L5 IT', 'Subclass_fraction_of_L5/6 NP', 'Subclass_fraction_of_L6 CT', 'Subclass_fraction_of_L6 IT', 'Subclass_fraction_of_L6 IT Car3', 'Subclass_fraction_of_L6b', 'Subclass_fraction_of_Lamp5', 'Subclass_fraction_of_Lamp5_Lhx6', 'Subclass_fraction_of_Micro-PVM', 'Subclass_fraction_of_OPC', 'Subclass_fraction_of_Oligo', 'Subclass_fraction_of_Pax6', 'Subclass_fraction_of_Pvalb', 'Subclass_fraction_of_Sncg', 'Subclass_fraction_of_Sst', 'Subclass_fraction_of_Sst Chodl', 'Subclass_fraction_of_VLMC', 'Subclass_fraction_of_Vip', 'cell_type_name', 'n_genes_by_counts', 'total_counts', 'pct_counts_in_top_50_genes', 'pct_counts_in_top_100_genes', 'pct_counts_in_top_200_genes', 'pct_counts_in_top_500_genes'\n",
       "    var: 'name', 'bursty_lonely_gene', 'properly_sampled_gene', 'excluded_gene', 'full_gene_index', 'lateral_gene', 'lateral_genes_module', 'selected_gene', 'rare_gene', 'rare_gene_module', 'n_cells_by_counts', 'mean_counts', 'pct_dropout_by_counts', 'total_counts', 'n_counts', 'n_cells'"
      ]
     },
     "execution_count": 22,
     "metadata": {},
     "output_type": "execute_result"
    }
   ],
   "source": [
    "summed_adata"
   ]
  },
  {
   "cell_type": "code",
   "execution_count": 23,
   "id": "8b533824-447c-47b8-a83e-cd01c8217377",
   "metadata": {},
   "outputs": [
    {
     "data": {
      "text/plain": [
       "1"
      ]
     },
     "execution_count": 23,
     "metadata": {},
     "output_type": "execute_result"
    }
   ],
   "source": [
    "summed_adata.removed_min_count\n",
    "## remove all genes having less than 1 count per million in metacells"
   ]
  },
  {
   "cell_type": "code",
   "execution_count": 24,
   "id": "523816c2-b361-47b7-90cb-368c31c3bd45",
   "metadata": {},
   "outputs": [
    {
     "data": {
      "text/plain": [
       "1"
      ]
     },
     "execution_count": 24,
     "metadata": {},
     "output_type": "execute_result"
    }
   ],
   "source": [
    "summed_adata.removed_min_cells_pct"
   ]
  },
  {
   "cell_type": "code",
   "execution_count": 25,
   "id": "1af7347d-a934-4463-b35d-4a93bd4d0262",
   "metadata": {},
   "outputs": [
    {
     "name": "stdout",
     "output_type": "stream",
     "text": [
      "running gene classification on 29889 genes\n",
      "Calculating group average of counts from SummedAnnData\n"
     ]
    }
   ],
   "source": [
    "print(f\"running gene classification on {len(summed_adata.var_names.values)} genes\")\n",
    "expr_data = ExpressionDataLong.create_from_summed_adata(input_summed_adata=summed_adata, anno_col=anno_col)"
   ]
  },
  {
   "cell_type": "code",
   "execution_count": 26,
   "id": "1ed09110-1af7-45ab-8f17-86f6c0d8956d",
   "metadata": {},
   "outputs": [],
   "source": [
    "from numpy import percentile"
   ]
  },
  {
   "cell_type": "code",
   "execution_count": 27,
   "id": "56561ecb-e070-46e9-b9af-662c6880da34",
   "metadata": {},
   "outputs": [
    {
     "data": {
      "text/plain": [
       "array([0.0, 0.01420799810439348, 0.05234915018081665, 0.6104472279548645,\n",
       "       1.8169706583023069, 5.13897790908813, 8.598865509033203],\n",
       "      dtype=object)"
      ]
     },
     "execution_count": 27,
     "metadata": {},
     "output_type": "execute_result"
    }
   ],
   "source": [
    "percentile(expr_data.expression, [10, 15, 25, 50, 60, 70, 75])"
   ]
  },
  {
   "cell_type": "code",
   "execution_count": 28,
   "id": "47d2b889-e5d9-4ae6-91b7-f55154854f24",
   "metadata": {},
   "outputs": [],
   "source": [
    "import seaborn as sns"
   ]
  },
  {
   "cell_type": "code",
   "execution_count": 29,
   "id": "2370c263-1aa9-434f-8520-c1cee4d24659",
   "metadata": {
    "tags": []
   },
   "outputs": [
    {
     "name": "stdout",
     "output_type": "stream",
     "text": [
      "Multiprocessing with 48 cores\n",
      "Running HPA gene classification \n",
      "Running HPA gene classification \n",
      "\n",
      "\n",
      "Running HPA gene classification \n",
      "Running HPA gene classification \n",
      "num cell types = 21, num_genes = 2981, max_group=10.0, exp_lim=1\n",
      "\n",
      "num cell types = 21, num_genes = 3008, max_group=10.0, exp_lim=1\n",
      "Running HPA gene classification \n",
      "\n",
      "\n",
      "num cell types = 21, num_genes = 2995, max_group=10.0, exp_lim=1\n",
      "\n",
      "num cell types = 21, num_genes = 2938, max_group=10.0, exp_lim=1\n",
      "\n",
      "Running HPA gene classification \n",
      "\n",
      "\n",
      "Running HPA gene classification \n",
      "\n",
      "num cell types = 21, num_genes = 3010, max_group=10.0, exp_lim=1\n",
      "\n",
      "\n",
      "\n",
      "\n",
      "Running HPA gene classification \n",
      "num cell types = 21, num_genes = 3005, max_group=10.0, exp_lim=1\n",
      "num cell types = 21, num_genes = 3010, max_group=10.0, exp_lim=1\n",
      "Running HPA gene classification \n",
      "\n",
      "Running HPA gene classification \n",
      "\n",
      "num cell types = 21, num_genes = 2971, max_group=10.0, exp_lim=1\n",
      "\n",
      "num cell types = 21, num_genes = 2951, max_group=10.0, exp_lim=1\n",
      "num cell types = 21, num_genes = 3020, max_group=10.0, exp_lim=1\n",
      "\n",
      "\n",
      "\n"
     ]
    },
    {
     "name": "stderr",
     "output_type": "stream",
     "text": [
      "/nfs/research/icortes/ysong/anaconda3/envs/metacells_py/lib/python3.8/site-packages/numpy/core/fromnumeric.py:3464: RuntimeWarning: Mean of empty slice.\n",
      "  return _methods._mean(a, axis=axis, dtype=dtype,\n",
      "/nfs/research/icortes/ysong/anaconda3/envs/metacells_py/lib/python3.8/site-packages/numpy/core/fromnumeric.py:3464: RuntimeWarning: Mean of empty slice.\n",
      "  return _methods._mean(a, axis=axis, dtype=dtype,\n",
      "/nfs/research/icortes/ysong/anaconda3/envs/metacells_py/lib/python3.8/site-packages/numpy/core/fromnumeric.py:3464: RuntimeWarning: Mean of empty slice.\n",
      "  return _methods._mean(a, axis=axis, dtype=dtype,\n",
      "/nfs/research/icortes/ysong/anaconda3/envs/metacells_py/lib/python3.8/site-packages/numpy/core/fromnumeric.py:3464: RuntimeWarning: Mean of empty slice.\n",
      "  return _methods._mean(a, axis=axis, dtype=dtype,\n",
      "/nfs/research/icortes/ysong/anaconda3/envs/metacells_py/lib/python3.8/site-packages/numpy/core/fromnumeric.py:3464: RuntimeWarning: Mean of empty slice.\n",
      "  return _methods._mean(a, axis=axis, dtype=dtype,\n",
      "/nfs/research/icortes/ysong/anaconda3/envs/metacells_py/lib/python3.8/site-packages/numpy/core/fromnumeric.py:3464: RuntimeWarning: Mean of empty slice.\n",
      "  return _methods._mean(a, axis=axis, dtype=dtype,\n",
      "/nfs/research/icortes/ysong/anaconda3/envs/metacells_py/lib/python3.8/site-packages/numpy/core/fromnumeric.py:3464: RuntimeWarning: Mean of empty slice.\n",
      "  return _methods._mean(a, axis=axis, dtype=dtype,\n",
      "/nfs/research/icortes/ysong/anaconda3/envs/metacells_py/lib/python3.8/site-packages/numpy/core/fromnumeric.py:3464: RuntimeWarning: Mean of empty slice.\n",
      "  return _methods._mean(a, axis=axis, dtype=dtype,\n",
      "/nfs/research/icortes/ysong/anaconda3/envs/metacells_py/lib/python3.8/site-packages/numpy/core/fromnumeric.py:3464: RuntimeWarning: Mean of empty slice.\n",
      "  return _methods._mean(a, axis=axis, dtype=dtype,\n",
      "/nfs/research/icortes/ysong/anaconda3/envs/metacells_py/lib/python3.8/site-packages/numpy/core/fromnumeric.py:3464: RuntimeWarning: Mean of empty slice.\n",
      "  return _methods._mean(a, axis=axis, dtype=dtype,\n"
     ]
    },
    {
     "name": "stdout",
     "output_type": "stream",
     "text": [
      "finish gene classification with multiprocessing\n"
     ]
    }
   ],
   "source": [
    "result_classes = GeneClassificationResult.create_from_expression_data_long_multiprocess(expr_data, max_group_n=None, exp_lim=1, enr_fold=4)"
   ]
  },
  {
   "cell_type": "code",
   "execution_count": 30,
   "id": "5541d64c-b914-4379-b693-d557bd774767",
   "metadata": {},
   "outputs": [
    {
     "data": {
      "text/plain": [
       "low cell type specificity    11372\n",
       "lowly expressed               9361\n",
       "cell type enhanced            4004\n",
       "cell type enriched            2797\n",
       "group enriched                1648\n",
       "group enhanced                 707\n",
       "Name: spec_category, dtype: int64"
      ]
     },
     "execution_count": 30,
     "metadata": {},
     "output_type": "execute_result"
    }
   ],
   "source": [
    "result_classes.spec_category.value_counts()"
   ]
  },
  {
   "cell_type": "code",
   "execution_count": 31,
   "id": "cb15c31b-b802-45d7-96b0-302d19376037",
   "metadata": {},
   "outputs": [
    {
     "data": {
      "text/html": [
       "<div>\n",
       "<style scoped>\n",
       "    .dataframe tbody tr th:only-of-type {\n",
       "        vertical-align: middle;\n",
       "    }\n",
       "\n",
       "    .dataframe tbody tr th {\n",
       "        vertical-align: top;\n",
       "    }\n",
       "\n",
       "    .dataframe thead th {\n",
       "        text-align: right;\n",
       "    }\n",
       "</style>\n",
       "<table border=\"1\" class=\"dataframe\">\n",
       "  <thead>\n",
       "    <tr style=\"text-align: right;\">\n",
       "      <th></th>\n",
       "      <th>mean_exp</th>\n",
       "      <th>min_exp</th>\n",
       "      <th>max_exp</th>\n",
       "      <th>max_2nd</th>\n",
       "      <th>n_exp</th>\n",
       "      <th>frac_exp</th>\n",
       "      <th>groups_expressed</th>\n",
       "      <th>groups_not_expressed</th>\n",
       "      <th>lim</th>\n",
       "      <th>gene</th>\n",
       "      <th>...</th>\n",
       "      <th>enrichment_group</th>\n",
       "      <th>n_enriched</th>\n",
       "      <th>max_2nd_or_lim</th>\n",
       "      <th>exps_enhanced</th>\n",
       "      <th>n_enhanced</th>\n",
       "      <th>enhanced_in</th>\n",
       "      <th>spec_category</th>\n",
       "      <th>dist_category</th>\n",
       "      <th>spec_score</th>\n",
       "      <th>enriched_groups</th>\n",
       "    </tr>\n",
       "    <tr>\n",
       "      <th>gene</th>\n",
       "      <th></th>\n",
       "      <th></th>\n",
       "      <th></th>\n",
       "      <th></th>\n",
       "      <th></th>\n",
       "      <th></th>\n",
       "      <th></th>\n",
       "      <th></th>\n",
       "      <th></th>\n",
       "      <th></th>\n",
       "      <th></th>\n",
       "      <th></th>\n",
       "      <th></th>\n",
       "      <th></th>\n",
       "      <th></th>\n",
       "      <th></th>\n",
       "      <th></th>\n",
       "      <th></th>\n",
       "      <th></th>\n",
       "      <th></th>\n",
       "      <th></th>\n",
       "    </tr>\n",
       "  </thead>\n",
       "  <tbody>\n",
       "    <tr>\n",
       "      <th>A4GALT</th>\n",
       "      <td>2.162790</td>\n",
       "      <td>0.032400</td>\n",
       "      <td>23.311399</td>\n",
       "      <td>11.641900</td>\n",
       "      <td>3</td>\n",
       "      <td>14.285714</td>\n",
       "      <td>cerebral cortex endothelial cell;microglial ce...</td>\n",
       "      <td>L2/3 intratelencephalic projecting glutamaterg...</td>\n",
       "      <td>5.827850</td>\n",
       "      <td>A4GALT</td>\n",
       "      <td>...</td>\n",
       "      <td>cerebral cortex endothelial cell;microglial ce...</td>\n",
       "      <td>3</td>\n",
       "      <td>11.641900</td>\n",
       "      <td>[23.311399459838867, 11.641900062561035]</td>\n",
       "      <td>2</td>\n",
       "      <td>cerebral cortex endothelial cell;vascular lept...</td>\n",
       "      <td>group enriched</td>\n",
       "      <td>expressed in less than 30%</td>\n",
       "      <td>17.241469</td>\n",
       "      <td>cerebral cortex endothelial cell;microglial ce...</td>\n",
       "    </tr>\n",
       "    <tr>\n",
       "      <th>AADACL2-AS1</th>\n",
       "      <td>0.172595</td>\n",
       "      <td>0.000000</td>\n",
       "      <td>0.863400</td>\n",
       "      <td>0.332500</td>\n",
       "      <td>0</td>\n",
       "      <td>0.000000</td>\n",
       "      <td>NaN</td>\n",
       "      <td>L2/3 intratelencephalic projecting glutamaterg...</td>\n",
       "      <td>0.215850</td>\n",
       "      <td>AADACL2-AS1</td>\n",
       "      <td>...</td>\n",
       "      <td></td>\n",
       "      <td>0</td>\n",
       "      <td>0.332500</td>\n",
       "      <td>[]</td>\n",
       "      <td>0</td>\n",
       "      <td></td>\n",
       "      <td>lowly expressed</td>\n",
       "      <td>lowly expressed</td>\n",
       "      <td>0.000000</td>\n",
       "      <td></td>\n",
       "    </tr>\n",
       "    <tr>\n",
       "      <th>AAMP</th>\n",
       "      <td>4.518162</td>\n",
       "      <td>0.000000</td>\n",
       "      <td>16.306499</td>\n",
       "      <td>9.421200</td>\n",
       "      <td>20</td>\n",
       "      <td>95.238095</td>\n",
       "      <td>L2/3 intratelencephalic projecting glutamaterg...</td>\n",
       "      <td>vascular leptomeningeal cell</td>\n",
       "      <td>4.076625</td>\n",
       "      <td>AAMP</td>\n",
       "      <td>...</td>\n",
       "      <td>astrocyte of the cerebral cortex;caudal gangli...</td>\n",
       "      <td>0</td>\n",
       "      <td>9.421200</td>\n",
       "      <td>[]</td>\n",
       "      <td>0</td>\n",
       "      <td></td>\n",
       "      <td>low cell type specificity</td>\n",
       "      <td>expressed in over 90%</td>\n",
       "      <td>0.000000</td>\n",
       "      <td></td>\n",
       "    </tr>\n",
       "    <tr>\n",
       "      <th>AASDHPPT</th>\n",
       "      <td>35.009323</td>\n",
       "      <td>27.119400</td>\n",
       "      <td>57.451401</td>\n",
       "      <td>49.177399</td>\n",
       "      <td>21</td>\n",
       "      <td>100.000000</td>\n",
       "      <td>L2/3 intratelencephalic projecting glutamaterg...</td>\n",
       "      <td>NaN</td>\n",
       "      <td>14.362850</td>\n",
       "      <td>AASDHPPT</td>\n",
       "      <td>...</td>\n",
       "      <td>L2/3 intratelencephalic projecting glutamaterg...</td>\n",
       "      <td>0</td>\n",
       "      <td>49.177399</td>\n",
       "      <td>[]</td>\n",
       "      <td>0</td>\n",
       "      <td></td>\n",
       "      <td>low cell type specificity</td>\n",
       "      <td>expressed in over 90%</td>\n",
       "      <td>0.000000</td>\n",
       "      <td></td>\n",
       "    </tr>\n",
       "    <tr>\n",
       "      <th>AATK</th>\n",
       "      <td>37.572643</td>\n",
       "      <td>10.717000</td>\n",
       "      <td>91.843002</td>\n",
       "      <td>59.926498</td>\n",
       "      <td>21</td>\n",
       "      <td>100.000000</td>\n",
       "      <td>L2/3 intratelencephalic projecting glutamaterg...</td>\n",
       "      <td>NaN</td>\n",
       "      <td>22.960751</td>\n",
       "      <td>AATK</td>\n",
       "      <td>...</td>\n",
       "      <td>L2/3 intratelencephalic projecting glutamaterg...</td>\n",
       "      <td>0</td>\n",
       "      <td>59.926498</td>\n",
       "      <td>[]</td>\n",
       "      <td>0</td>\n",
       "      <td></td>\n",
       "      <td>low cell type specificity</td>\n",
       "      <td>expressed in over 90%</td>\n",
       "      <td>0.000000</td>\n",
       "      <td></td>\n",
       "    </tr>\n",
       "    <tr>\n",
       "      <th>...</th>\n",
       "      <td>...</td>\n",
       "      <td>...</td>\n",
       "      <td>...</td>\n",
       "      <td>...</td>\n",
       "      <td>...</td>\n",
       "      <td>...</td>\n",
       "      <td>...</td>\n",
       "      <td>...</td>\n",
       "      <td>...</td>\n",
       "      <td>...</td>\n",
       "      <td>...</td>\n",
       "      <td>...</td>\n",
       "      <td>...</td>\n",
       "      <td>...</td>\n",
       "      <td>...</td>\n",
       "      <td>...</td>\n",
       "      <td>...</td>\n",
       "      <td>...</td>\n",
       "      <td>...</td>\n",
       "      <td>...</td>\n",
       "      <td>...</td>\n",
       "    </tr>\n",
       "    <tr>\n",
       "      <th>ZNF99</th>\n",
       "      <td>6.497542</td>\n",
       "      <td>1.567300</td>\n",
       "      <td>17.086201</td>\n",
       "      <td>16.233601</td>\n",
       "      <td>21</td>\n",
       "      <td>100.000000</td>\n",
       "      <td>L2/3 intratelencephalic projecting glutamaterg...</td>\n",
       "      <td>NaN</td>\n",
       "      <td>4.271550</td>\n",
       "      <td>ZNF99</td>\n",
       "      <td>...</td>\n",
       "      <td>L2/3 intratelencephalic projecting glutamaterg...</td>\n",
       "      <td>0</td>\n",
       "      <td>16.233601</td>\n",
       "      <td>[]</td>\n",
       "      <td>0</td>\n",
       "      <td></td>\n",
       "      <td>low cell type specificity</td>\n",
       "      <td>expressed in over 90%</td>\n",
       "      <td>0.000000</td>\n",
       "      <td></td>\n",
       "    </tr>\n",
       "    <tr>\n",
       "      <th>ZPBP</th>\n",
       "      <td>0.952333</td>\n",
       "      <td>0.000000</td>\n",
       "      <td>2.680100</td>\n",
       "      <td>2.369100</td>\n",
       "      <td>10</td>\n",
       "      <td>47.619048</td>\n",
       "      <td>L4 intratelencephalic projecting glutamatergic...</td>\n",
       "      <td>L2/3 intratelencephalic projecting glutamaterg...</td>\n",
       "      <td>0.670025</td>\n",
       "      <td>ZPBP</td>\n",
       "      <td>...</td>\n",
       "      <td>L4 intratelencephalic projecting glutamatergic...</td>\n",
       "      <td>0</td>\n",
       "      <td>2.369100</td>\n",
       "      <td>[]</td>\n",
       "      <td>0</td>\n",
       "      <td></td>\n",
       "      <td>low cell type specificity</td>\n",
       "      <td>expressed in over 30%</td>\n",
       "      <td>0.000000</td>\n",
       "      <td></td>\n",
       "    </tr>\n",
       "    <tr>\n",
       "      <th>ZPR1</th>\n",
       "      <td>0.734043</td>\n",
       "      <td>0.000000</td>\n",
       "      <td>2.435100</td>\n",
       "      <td>1.406500</td>\n",
       "      <td>2</td>\n",
       "      <td>9.523810</td>\n",
       "      <td>cerebral cortex endothelial cell;oligodendrocyte</td>\n",
       "      <td>L2/3 intratelencephalic projecting glutamaterg...</td>\n",
       "      <td>0.608775</td>\n",
       "      <td>ZPR1</td>\n",
       "      <td>...</td>\n",
       "      <td>cerebral cortex endothelial cell;oligodendrocyte</td>\n",
       "      <td>0</td>\n",
       "      <td>1.406500</td>\n",
       "      <td>[]</td>\n",
       "      <td>0</td>\n",
       "      <td></td>\n",
       "      <td>low cell type specificity</td>\n",
       "      <td>expressed in less than 30%</td>\n",
       "      <td>0.000000</td>\n",
       "      <td></td>\n",
       "    </tr>\n",
       "    <tr>\n",
       "      <th>ZRANB3</th>\n",
       "      <td>119.676254</td>\n",
       "      <td>47.298199</td>\n",
       "      <td>227.123993</td>\n",
       "      <td>199.648697</td>\n",
       "      <td>21</td>\n",
       "      <td>100.000000</td>\n",
       "      <td>L2/3 intratelencephalic projecting glutamaterg...</td>\n",
       "      <td>NaN</td>\n",
       "      <td>56.780998</td>\n",
       "      <td>ZRANB3</td>\n",
       "      <td>...</td>\n",
       "      <td>L2/3 intratelencephalic projecting glutamaterg...</td>\n",
       "      <td>0</td>\n",
       "      <td>199.648697</td>\n",
       "      <td>[]</td>\n",
       "      <td>0</td>\n",
       "      <td></td>\n",
       "      <td>low cell type specificity</td>\n",
       "      <td>expressed in over 90%</td>\n",
       "      <td>0.000000</td>\n",
       "      <td></td>\n",
       "    </tr>\n",
       "    <tr>\n",
       "      <th>ZYG11A</th>\n",
       "      <td>0.467409</td>\n",
       "      <td>0.000000</td>\n",
       "      <td>1.290600</td>\n",
       "      <td>0.691400</td>\n",
       "      <td>1</td>\n",
       "      <td>4.761905</td>\n",
       "      <td>microglial cell</td>\n",
       "      <td>L2/3 intratelencephalic projecting glutamaterg...</td>\n",
       "      <td>0.322650</td>\n",
       "      <td>ZYG11A</td>\n",
       "      <td>...</td>\n",
       "      <td>microglial cell</td>\n",
       "      <td>0</td>\n",
       "      <td>0.691400</td>\n",
       "      <td>[]</td>\n",
       "      <td>0</td>\n",
       "      <td></td>\n",
       "      <td>low cell type specificity</td>\n",
       "      <td>expressed in single</td>\n",
       "      <td>0.000000</td>\n",
       "      <td></td>\n",
       "    </tr>\n",
       "  </tbody>\n",
       "</table>\n",
       "<p>29889 rows × 25 columns</p>\n",
       "</div>"
      ],
      "text/plain": [
       "               mean_exp    min_exp     max_exp     max_2nd  n_exp    frac_exp  \\\n",
       "gene                                                                            \n",
       "A4GALT         2.162790   0.032400   23.311399   11.641900      3   14.285714   \n",
       "AADACL2-AS1    0.172595   0.000000    0.863400    0.332500      0    0.000000   \n",
       "AAMP           4.518162   0.000000   16.306499    9.421200     20   95.238095   \n",
       "AASDHPPT      35.009323  27.119400   57.451401   49.177399     21  100.000000   \n",
       "AATK          37.572643  10.717000   91.843002   59.926498     21  100.000000   \n",
       "...                 ...        ...         ...         ...    ...         ...   \n",
       "ZNF99          6.497542   1.567300   17.086201   16.233601     21  100.000000   \n",
       "ZPBP           0.952333   0.000000    2.680100    2.369100     10   47.619048   \n",
       "ZPR1           0.734043   0.000000    2.435100    1.406500      2    9.523810   \n",
       "ZRANB3       119.676254  47.298199  227.123993  199.648697     21  100.000000   \n",
       "ZYG11A         0.467409   0.000000    1.290600    0.691400      1    4.761905   \n",
       "\n",
       "                                              groups_expressed  \\\n",
       "gene                                                             \n",
       "A4GALT       cerebral cortex endothelial cell;microglial ce...   \n",
       "AADACL2-AS1                                                NaN   \n",
       "AAMP         L2/3 intratelencephalic projecting glutamaterg...   \n",
       "AASDHPPT     L2/3 intratelencephalic projecting glutamaterg...   \n",
       "AATK         L2/3 intratelencephalic projecting glutamaterg...   \n",
       "...                                                        ...   \n",
       "ZNF99        L2/3 intratelencephalic projecting glutamaterg...   \n",
       "ZPBP         L4 intratelencephalic projecting glutamatergic...   \n",
       "ZPR1          cerebral cortex endothelial cell;oligodendrocyte   \n",
       "ZRANB3       L2/3 intratelencephalic projecting glutamaterg...   \n",
       "ZYG11A                                         microglial cell   \n",
       "\n",
       "                                          groups_not_expressed        lim  \\\n",
       "gene                                                                        \n",
       "A4GALT       L2/3 intratelencephalic projecting glutamaterg...   5.827850   \n",
       "AADACL2-AS1  L2/3 intratelencephalic projecting glutamaterg...   0.215850   \n",
       "AAMP                              vascular leptomeningeal cell   4.076625   \n",
       "AASDHPPT                                                   NaN  14.362850   \n",
       "AATK                                                       NaN  22.960751   \n",
       "...                                                        ...        ...   \n",
       "ZNF99                                                      NaN   4.271550   \n",
       "ZPBP         L2/3 intratelencephalic projecting glutamaterg...   0.670025   \n",
       "ZPR1         L2/3 intratelencephalic projecting glutamaterg...   0.608775   \n",
       "ZRANB3                                                     NaN  56.780998   \n",
       "ZYG11A       L2/3 intratelencephalic projecting glutamaterg...   0.322650   \n",
       "\n",
       "                    gene  ...  \\\n",
       "gene                      ...   \n",
       "A4GALT            A4GALT  ...   \n",
       "AADACL2-AS1  AADACL2-AS1  ...   \n",
       "AAMP                AAMP  ...   \n",
       "AASDHPPT        AASDHPPT  ...   \n",
       "AATK                AATK  ...   \n",
       "...                  ...  ...   \n",
       "ZNF99              ZNF99  ...   \n",
       "ZPBP                ZPBP  ...   \n",
       "ZPR1                ZPR1  ...   \n",
       "ZRANB3            ZRANB3  ...   \n",
       "ZYG11A            ZYG11A  ...   \n",
       "\n",
       "                                              enrichment_group  n_enriched  \\\n",
       "gene                                                                         \n",
       "A4GALT       cerebral cortex endothelial cell;microglial ce...           3   \n",
       "AADACL2-AS1                                                              0   \n",
       "AAMP         astrocyte of the cerebral cortex;caudal gangli...           0   \n",
       "AASDHPPT     L2/3 intratelencephalic projecting glutamaterg...           0   \n",
       "AATK         L2/3 intratelencephalic projecting glutamaterg...           0   \n",
       "...                                                        ...         ...   \n",
       "ZNF99        L2/3 intratelencephalic projecting glutamaterg...           0   \n",
       "ZPBP         L4 intratelencephalic projecting glutamatergic...           0   \n",
       "ZPR1          cerebral cortex endothelial cell;oligodendrocyte           0   \n",
       "ZRANB3       L2/3 intratelencephalic projecting glutamaterg...           0   \n",
       "ZYG11A                                         microglial cell           0   \n",
       "\n",
       "             max_2nd_or_lim                             exps_enhanced  \\\n",
       "gene                                                                    \n",
       "A4GALT            11.641900  [23.311399459838867, 11.641900062561035]   \n",
       "AADACL2-AS1        0.332500                                        []   \n",
       "AAMP               9.421200                                        []   \n",
       "AASDHPPT          49.177399                                        []   \n",
       "AATK              59.926498                                        []   \n",
       "...                     ...                                       ...   \n",
       "ZNF99             16.233601                                        []   \n",
       "ZPBP               2.369100                                        []   \n",
       "ZPR1               1.406500                                        []   \n",
       "ZRANB3           199.648697                                        []   \n",
       "ZYG11A             0.691400                                        []   \n",
       "\n",
       "             n_enhanced                                        enhanced_in  \\\n",
       "gene                                                                         \n",
       "A4GALT                2  cerebral cortex endothelial cell;vascular lept...   \n",
       "AADACL2-AS1           0                                                      \n",
       "AAMP                  0                                                      \n",
       "AASDHPPT              0                                                      \n",
       "AATK                  0                                                      \n",
       "...                 ...                                                ...   \n",
       "ZNF99                 0                                                      \n",
       "ZPBP                  0                                                      \n",
       "ZPR1                  0                                                      \n",
       "ZRANB3                0                                                      \n",
       "ZYG11A                0                                                      \n",
       "\n",
       "                         spec_category               dist_category spec_score  \\\n",
       "gene                                                                            \n",
       "A4GALT                  group enriched  expressed in less than 30%  17.241469   \n",
       "AADACL2-AS1            lowly expressed             lowly expressed   0.000000   \n",
       "AAMP         low cell type specificity       expressed in over 90%   0.000000   \n",
       "AASDHPPT     low cell type specificity       expressed in over 90%   0.000000   \n",
       "AATK         low cell type specificity       expressed in over 90%   0.000000   \n",
       "...                                ...                         ...        ...   \n",
       "ZNF99        low cell type specificity       expressed in over 90%   0.000000   \n",
       "ZPBP         low cell type specificity       expressed in over 30%   0.000000   \n",
       "ZPR1         low cell type specificity  expressed in less than 30%   0.000000   \n",
       "ZRANB3       low cell type specificity       expressed in over 90%   0.000000   \n",
       "ZYG11A       low cell type specificity         expressed in single   0.000000   \n",
       "\n",
       "                                               enriched_groups  \n",
       "gene                                                            \n",
       "A4GALT       cerebral cortex endothelial cell;microglial ce...  \n",
       "AADACL2-AS1                                                     \n",
       "AAMP                                                            \n",
       "AASDHPPT                                                        \n",
       "AATK                                                            \n",
       "...                                                        ...  \n",
       "ZNF99                                                           \n",
       "ZPBP                                                            \n",
       "ZPR1                                                            \n",
       "ZRANB3                                                          \n",
       "ZYG11A                                                          \n",
       "\n",
       "[29889 rows x 25 columns]"
      ]
     },
     "execution_count": 31,
     "metadata": {},
     "output_type": "execute_result"
    }
   ],
   "source": [
    "result_classes"
   ]
  },
  {
   "cell_type": "code",
   "execution_count": 32,
   "id": "a6f58a7d-95e1-4013-9770-2c7151e931ab",
   "metadata": {},
   "outputs": [
    {
     "data": {
      "text/plain": [
       "expressed in over 90%         11231\n",
       "lowly expressed                9361\n",
       "expressed in less than 30%     3607\n",
       "expressed in over 30%          3085\n",
       "expressed in single            2605\n",
       "Name: dist_category, dtype: int64"
      ]
     },
     "execution_count": 32,
     "metadata": {},
     "output_type": "execute_result"
    }
   ],
   "source": [
    "result_classes.dist_category.value_counts()"
   ]
  },
  {
   "cell_type": "code",
   "execution_count": 33,
   "id": "5f794fe9-5312-4094-af7d-b3dee1fe2451",
   "metadata": {},
   "outputs": [],
   "source": [
    "from genespectra.gene_classification.plotting import plot_categories_pie, plot_categories_hist"
   ]
  },
  {
   "cell_type": "code",
   "execution_count": 34,
   "id": "90503faf-7a56-4524-a2eb-d5ccc78887cb",
   "metadata": {},
   "outputs": [],
   "source": [
    "import plotly.io as pio\n",
    "pio.renderers.default='iframe'\n",
    "from plotly.graph_objects import Figure\n",
    "import plotly.express as px"
   ]
  },
  {
   "cell_type": "code",
   "execution_count": 35,
   "id": "421049b1-f047-4739-91aa-91bbd6415e5e",
   "metadata": {},
   "outputs": [],
   "source": [
    "def plot_categories_pie(data, kind='spec_category', title=None) -> Figure:\n",
    "    \"\"\"\n",
    "\n",
    "    :param data: the categories output by hpa_gene_classification\n",
    "    :param kind: the kind of category to plot, choose between spec_category (default) and dist_category\n",
    "    :param title: title of the plot, usually the species and dataset name\n",
    "    :return: a plotly.graph_objects.Figure of Pie plot\n",
    "    \"\"\"\n",
    "    if kind not in ('spec_category', 'dist_category'):\n",
    "        raise ValueError('kind should be either spec_category or dist_category')\n",
    "\n",
    "    counts = data[kind].value_counts().to_frame().reset_index().rename(\n",
    "        columns={kind: \"counts\", \"index\": 'gene_category'})\n",
    "    fig = px.pie(counts, values='counts', names='gene_category', title=title)\n",
    "    fig.show(renderer='iframe')\n",
    "\n",
    "    return fig\n"
   ]
  },
  {
   "cell_type": "code",
   "execution_count": 36,
   "id": "49ebb099-1084-49b3-83ff-38fdd4252670",
   "metadata": {},
   "outputs": [
    {
     "data": {
      "text/html": [
       "<iframe\n",
       "    scrolling=\"no\"\n",
       "    width=\"100%\"\n",
       "    height=\"545px\"\n",
       "    src=\"iframe_figures/figure_36.html\"\n",
       "    frameborder=\"0\"\n",
       "    allowfullscreen\n",
       "></iframe>\n"
      ]
     },
     "metadata": {},
     "output_type": "display_data"
    },
    {
     "data": {
      "text/html": [
       "<iframe\n",
       "    scrolling=\"no\"\n",
       "    width=\"100%\"\n",
       "    height=\"545px\"\n",
       "    src=\"iframe_figures/figure_36.html\"\n",
       "    frameborder=\"0\"\n",
       "    allowfullscreen\n",
       "></iframe>\n"
      ]
     },
     "metadata": {},
     "output_type": "display_data"
    }
   ],
   "source": [
    "plot_categories_pie(result_classes)"
   ]
  },
  {
   "cell_type": "code",
   "execution_count": 37,
   "id": "46ea77ee-8030-47ca-83c2-6a4eef066486",
   "metadata": {},
   "outputs": [],
   "source": [
    "def plot_categories_hist(data, kind='spec_category', title=None) -> Figure:\n",
    "    \"\"\"\n",
    "\n",
    "    :param data: the categories output by hpa_gene_classification\n",
    "    :param kind: the kind of category to plot, choose between spec_category (default) and dist_category\n",
    "    :param title: title of the plot, usually the species and dataset name\n",
    "    :return: a plotly.graph_objects.Figure of histogram plot\n",
    "    \"\"\"\n",
    "    if kind not in ('spec_category', 'dist_category'):\n",
    "        raise ValueError('kind should be either spec_category or dist_category')\n",
    "\n",
    "    fig = px.histogram(data, x='n_exp', color=kind, nbins=30,\n",
    "                       opacity=0.8, barmode='stack', title=title)\n",
    "\n",
    "    fig.show(renderer='iframe')\n",
    "    return fig"
   ]
  },
  {
   "cell_type": "code",
   "execution_count": 38,
   "id": "80f4412a-f8a5-4d43-9d66-57ace01a1da2",
   "metadata": {},
   "outputs": [
    {
     "data": {
      "text/html": [
       "<iframe\n",
       "    scrolling=\"no\"\n",
       "    width=\"100%\"\n",
       "    height=\"545px\"\n",
       "    src=\"iframe_figures/figure_38.html\"\n",
       "    frameborder=\"0\"\n",
       "    allowfullscreen\n",
       "></iframe>\n"
      ]
     },
     "metadata": {},
     "output_type": "display_data"
    },
    {
     "data": {
      "text/html": [
       "<iframe\n",
       "    scrolling=\"no\"\n",
       "    width=\"100%\"\n",
       "    height=\"545px\"\n",
       "    src=\"iframe_figures/figure_38.html\"\n",
       "    frameborder=\"0\"\n",
       "    allowfullscreen\n",
       "></iframe>\n"
      ]
     },
     "metadata": {},
     "output_type": "display_data"
    }
   ],
   "source": [
    "plot_categories_hist(result_classes)"
   ]
  },
  {
   "cell_type": "code",
   "execution_count": 39,
   "id": "1e5687fa-f3b8-4425-bd6e-e4ce443d8d4b",
   "metadata": {},
   "outputs": [],
   "source": [
    "result_classes.to_csv('chimp_classes_subclass_1TPM.csv')"
   ]
  },
  {
   "cell_type": "code",
   "execution_count": 40,
   "id": "a6887f00-5c4f-46e1-a9cc-bd8e87d7518e",
   "metadata": {},
   "outputs": [],
   "source": [
    "expr_data.to_csv('chimp_subclass_expr_1TPM.csv')"
   ]
  },
  {
   "cell_type": "code",
   "execution_count": 41,
   "id": "cca19614-5e45-42d8-a59d-cb277b081bfa",
   "metadata": {},
   "outputs": [
    {
     "data": {
      "text/plain": [
       "'/nfs/research/irene/ysong/RESULTS/GeneCellType/GeneSpectra/MTG/run_classification/classification_1TPM'"
      ]
     },
     "execution_count": 41,
     "metadata": {},
     "output_type": "execute_result"
    }
   ],
   "source": [
    "import os\n",
    "\n",
    "os.getcwd()"
   ]
  },
  {
   "cell_type": "code",
   "execution_count": null,
   "id": "6b5a59b1-d91e-4825-9386-c65d7c8ebbb6",
   "metadata": {},
   "outputs": [],
   "source": []
  }
 ],
 "metadata": {
  "kernelspec": {
   "display_name": "metacells_py",
   "language": "python",
   "name": "metacells_py"
  },
  "language_info": {
   "codemirror_mode": {
    "name": "ipython",
    "version": 3
   },
   "file_extension": ".py",
   "mimetype": "text/x-python",
   "name": "python",
   "nbconvert_exporter": "python",
   "pygments_lexer": "ipython3",
   "version": "3.8.16"
  }
 },
 "nbformat": 4,
 "nbformat_minor": 5
}
