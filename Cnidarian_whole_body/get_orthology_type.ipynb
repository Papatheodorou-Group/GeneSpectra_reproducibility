{
 "cells": [
  {
   "cell_type": "code",
   "execution_count": 1,
   "id": "6300a27c-591d-4db5-86ad-014ca28ead56",
   "metadata": {},
   "outputs": [],
   "source": [
    "\n",
    "import pandas as pd\n",
    "import numpy as np\n",
    "import itertools as it\n",
    "import plotly.express as px\n",
    "from plotly.graph_objects import Figure\n"
   ]
  },
  {
   "cell_type": "code",
   "execution_count": 2,
   "id": "9511d5d7-dc29-48bb-9f9d-796bcdea1192",
   "metadata": {},
   "outputs": [],
   "source": [
    "\n",
    "species_name_dict = {\n",
    "    \"Hvul\": \"../metacell_Hvul_geo_1e6_0.1lim_3fold_broad_type_classes_1mincount.csv\",\n",
    "    \"Nvec\": \"../metacell_Nvec_geo_1e6_0.1lim_3fold_broad_type_classes_1mincount.csv\",\n",
    "    \"Xesp\": \"../metacell_Xesp_geo_1e6_0.1lim_3fold_broad_type_classes_1mincount.csv\",\n",
    "    \"Spis\": \"../metacell_Spis_geo_1e6_0.1lim_3fold_broad_type_classes_1mincount.csv\",\n",
    "}\n"
   ]
  },
  {
   "cell_type": "code",
   "execution_count": 3,
   "id": "4dfd15ee-dacc-4397-a110-43e61049439d",
   "metadata": {},
   "outputs": [
    {
     "name": "stdout",
     "output_type": "stream",
     "text": [
      "start Hvul, Spis\n"
     ]
    }
   ],
   "source": [
    "pair=(\"Hvul\", \"Spis\")\n",
    "\n",
    "species_1, species_2 = pair\n",
    "\n",
    "print(f\"start {species_1}, {species_2}\")\n",
    "\n",
    "classes_sp1 = pd.read_csv(species_name_dict.get(species_1))\n",
    "classes_sp2 = pd.read_csv(species_name_dict.get(species_2))\n",
    "ortho = pd.read_csv(f\"../../orthologous_pairs_{species_1}_{species_2}.csv\")\n",
    "\n",
    "mapping = ortho\n",
    "mapping.drop(columns=\"Unnamed: 0\", inplace=True)"
   ]
  },
  {
   "cell_type": "code",
   "execution_count": 4,
   "id": "8102b108-0cf3-41c4-9745-2ae5ab7ba803",
   "metadata": {},
   "outputs": [
    {
     "data": {
      "text/html": [
       "<div>\n",
       "<style scoped>\n",
       "    .dataframe tbody tr th:only-of-type {\n",
       "        vertical-align: middle;\n",
       "    }\n",
       "\n",
       "    .dataframe tbody tr th {\n",
       "        vertical-align: top;\n",
       "    }\n",
       "\n",
       "    .dataframe thead th {\n",
       "        text-align: right;\n",
       "    }\n",
       "</style>\n",
       "<table border=\"1\" class=\"dataframe\">\n",
       "  <thead>\n",
       "    <tr style=\"text-align: right;\">\n",
       "      <th></th>\n",
       "      <th>Gene_sp1</th>\n",
       "      <th>Gene_sp2</th>\n",
       "      <th>Gene_sp1_sp</th>\n",
       "      <th>Gene_sp2_sp</th>\n",
       "    </tr>\n",
       "  </thead>\n",
       "  <tbody>\n",
       "    <tr>\n",
       "      <th>0</th>\n",
       "      <td>Hvul_g10365_1</td>\n",
       "      <td>Spis_XP_022783009_1</td>\n",
       "      <td>Hvul</td>\n",
       "      <td>Spis</td>\n",
       "    </tr>\n",
       "    <tr>\n",
       "      <th>1</th>\n",
       "      <td>Hvul_g24804_1</td>\n",
       "      <td>Spis_XP_022782072_1</td>\n",
       "      <td>Hvul</td>\n",
       "      <td>Spis</td>\n",
       "    </tr>\n",
       "    <tr>\n",
       "      <th>2</th>\n",
       "      <td>Hvul_g8326_1</td>\n",
       "      <td>Spis_XP_022780686_1</td>\n",
       "      <td>Hvul</td>\n",
       "      <td>Spis</td>\n",
       "    </tr>\n",
       "    <tr>\n",
       "      <th>3</th>\n",
       "      <td>Hvul_g14066_1</td>\n",
       "      <td>Spis_XP_022792326_1</td>\n",
       "      <td>Hvul</td>\n",
       "      <td>Spis</td>\n",
       "    </tr>\n",
       "    <tr>\n",
       "      <th>4</th>\n",
       "      <td>Hvul_g14066_1</td>\n",
       "      <td>Spis_XP_022799259_1</td>\n",
       "      <td>Hvul</td>\n",
       "      <td>Spis</td>\n",
       "    </tr>\n",
       "    <tr>\n",
       "      <th>...</th>\n",
       "      <td>...</td>\n",
       "      <td>...</td>\n",
       "      <td>...</td>\n",
       "      <td>...</td>\n",
       "    </tr>\n",
       "    <tr>\n",
       "      <th>44159</th>\n",
       "      <td>Hvul_g29480_1</td>\n",
       "      <td>Spis25454_1</td>\n",
       "      <td>Hvul</td>\n",
       "      <td>Spis</td>\n",
       "    </tr>\n",
       "    <tr>\n",
       "      <th>44160</th>\n",
       "      <td>Hvul_g8978_1</td>\n",
       "      <td>Spis_XP_022807267_1</td>\n",
       "      <td>Hvul</td>\n",
       "      <td>Spis</td>\n",
       "    </tr>\n",
       "    <tr>\n",
       "      <th>44161</th>\n",
       "      <td>Hvul_g16455_1</td>\n",
       "      <td>Spis24465_1</td>\n",
       "      <td>Hvul</td>\n",
       "      <td>Spis</td>\n",
       "    </tr>\n",
       "    <tr>\n",
       "      <th>44162</th>\n",
       "      <td>Hvul_g16454_1</td>\n",
       "      <td>Spis24465_1</td>\n",
       "      <td>Hvul</td>\n",
       "      <td>Spis</td>\n",
       "    </tr>\n",
       "    <tr>\n",
       "      <th>44163</th>\n",
       "      <td>Hvul_g22515_1</td>\n",
       "      <td>Spis_XP_022810410_1</td>\n",
       "      <td>Hvul</td>\n",
       "      <td>Spis</td>\n",
       "    </tr>\n",
       "  </tbody>\n",
       "</table>\n",
       "<p>44164 rows × 4 columns</p>\n",
       "</div>"
      ],
      "text/plain": [
       "            Gene_sp1             Gene_sp2 Gene_sp1_sp Gene_sp2_sp\n",
       "0      Hvul_g10365_1  Spis_XP_022783009_1        Hvul        Spis\n",
       "1      Hvul_g24804_1  Spis_XP_022782072_1        Hvul        Spis\n",
       "2       Hvul_g8326_1  Spis_XP_022780686_1        Hvul        Spis\n",
       "3      Hvul_g14066_1  Spis_XP_022792326_1        Hvul        Spis\n",
       "4      Hvul_g14066_1  Spis_XP_022799259_1        Hvul        Spis\n",
       "...              ...                  ...         ...         ...\n",
       "44159  Hvul_g29480_1          Spis25454_1        Hvul        Spis\n",
       "44160   Hvul_g8978_1  Spis_XP_022807267_1        Hvul        Spis\n",
       "44161  Hvul_g16455_1          Spis24465_1        Hvul        Spis\n",
       "44162  Hvul_g16454_1          Spis24465_1        Hvul        Spis\n",
       "44163  Hvul_g22515_1  Spis_XP_022810410_1        Hvul        Spis\n",
       "\n",
       "[44164 rows x 4 columns]"
      ]
     },
     "execution_count": 4,
     "metadata": {},
     "output_type": "execute_result"
    }
   ],
   "source": [
    "mapping"
   ]
  },
  {
   "cell_type": "code",
   "execution_count": 12,
   "id": "f3ecab36-a52b-490f-a233-6a27e6bef3af",
   "metadata": {},
   "outputs": [],
   "source": [
    "\n",
    "# Example input dataframe\n",
    "# df = pd.DataFrame({'gene1': [...], 'gene2': [...]})\n",
    "\n",
    "def classify_ortholog_types(df):\n",
    "    # Count mappings for each gene in each species\n",
    "    gene1_counts = df['Gene_sp1'].value_counts()\n",
    "    gene2_counts = df['Gene_sp2'].value_counts()\n",
    "    \n",
    "    # Add counts to the dataframe\n",
    "    df['Gene_sp1_count'] = df['Gene_sp1'].map(gene1_counts)\n",
    "    df['Gene_sp2_count'] = df['Gene_sp2'].map(gene2_counts)\n",
    "    \n",
    "    # Determine ortholog type for each pair\n",
    "    def classify(row):\n",
    "        if row['Gene_sp1_count'] == 1 and row['Gene_sp2_count'] == 1:\n",
    "            return 'o2o'\n",
    "        elif row['Gene_sp1_count'] == 1 and row['Gene_sp2_count'] > 1:\n",
    "            return 'o2m'\n",
    "        elif row['Gene_sp1_count'] > 1 and row['Gene_sp2_count'] == 1:\n",
    "            return 'm2o'\n",
    "        else:\n",
    "            return 'm2m'\n",
    "    \n",
    "    df['ortholog_type'] = df.apply(classify, axis=1)\n",
    "\n",
    "    def refine_classification(group):\n",
    "        if ('m2o' in group['ortholog_type'].values or 'o2m' in group['ortholog_type'].values) and 'm2m' in group['ortholog_type'].values :\n",
    "            group['ortholog_type'] = 'm2m'\n",
    "        return group\n",
    "\n",
    "    df = df.groupby('Gene_sp1', group_keys=False).apply(refine_classification)\n",
    "\n",
    "    \n",
    "    return df"
   ]
  },
  {
   "cell_type": "code",
   "execution_count": 13,
   "id": "29c1201a-1a53-4aaf-b095-bd25236af20e",
   "metadata": {},
   "outputs": [
    {
     "data": {
      "text/plain": [
       "Spis22455_1            178\n",
       "Spis22157_1            178\n",
       "Spis21717_1            178\n",
       "Spis_XP_022809498_1    178\n",
       "Spis23396_1            178\n",
       "                      ... \n",
       "Spis_XP_022788325_1      1\n",
       "Spis_XP_022810003_1      1\n",
       "Spis_XP_022803193_1      1\n",
       "Spis_XP_022810098_1      1\n",
       "Spis_XP_022810410_1      1\n",
       "Name: Gene_sp2, Length: 12548, dtype: int64"
      ]
     },
     "execution_count": 13,
     "metadata": {},
     "output_type": "execute_result"
    }
   ],
   "source": [
    "mapping['Gene_sp2'].value_counts()"
   ]
  },
  {
   "cell_type": "code",
   "execution_count": 14,
   "id": "c92d7420-6cfe-4ef1-b2ac-d11dad18b6f2",
   "metadata": {},
   "outputs": [],
   "source": [
    "classify_ortholog_types(mapping).to_csv(\"test_mapping_Hvul_Spis.csv\")"
   ]
  },
  {
   "cell_type": "code",
   "execution_count": null,
   "id": "e8809de9-9562-472c-b8e6-d8a20af58bef",
   "metadata": {},
   "outputs": [],
   "source": []
  },
  {
   "cell_type": "code",
   "execution_count": null,
   "id": "41f88acd-c8e2-462d-b801-3460859dcc9c",
   "metadata": {},
   "outputs": [],
   "source": []
  },
  {
   "cell_type": "code",
   "execution_count": null,
   "id": "ecf10fb1-4c78-4f8d-ab6b-f37f13cf937b",
   "metadata": {},
   "outputs": [],
   "source": []
  },
  {
   "cell_type": "markdown",
   "id": "9947b56a-1fca-4f17-a3a4-faebd2d0be3c",
   "metadata": {},
   "source": [
    "sp1_counts = mapping.drop_duplicates().groupby(\"Gene_sp1\").count()\n",
    "sp1_counts.rename(\n",
    "    columns={\"Gene_sp2\": \"Gene_sp2_counts\"}, inplace=True\n",
    ")  # group by sp1, count is for sp2\n",
    "sp2_counts = mapping.drop_duplicates().groupby(\"Gene_sp2\").count()\n",
    "sp2_counts.rename(columns={\"Gene_sp1\": \"Gene_sp1_counts\"}, inplace=True)"
   ]
  },
  {
   "cell_type": "markdown",
   "id": "1cbe3599-6feb-4012-86a4-12e4f43c454e",
   "metadata": {},
   "source": [
    "sp1_counts"
   ]
  },
  {
   "cell_type": "markdown",
   "id": "dbbc7b39-95f7-4d75-89b6-53dcbad21440",
   "metadata": {},
   "source": [
    "mapping_new = mapping.merge(\n",
    "    sp1_counts[[\"Gene_sp2_counts\"]],\n",
    "    left_index=False,\n",
    "    right_index=True,\n",
    "    left_on=\"Gene_sp1\",\n",
    ")"
   ]
  },
  {
   "cell_type": "markdown",
   "id": "feef7f80-9e6f-4632-9d82-88c113763207",
   "metadata": {},
   "source": [
    "mapping_new.sort_values(by='Gene_sp1')"
   ]
  },
  {
   "cell_type": "markdown",
   "id": "0db4f912-263b-482f-8a1c-3fd380a6e31e",
   "metadata": {},
   "source": [
    "mapping_both = mapping_new.merge(\n",
    "    sp2_counts[[\"Gene_sp1_counts\"]],\n",
    "    left_index=False,\n",
    "    right_index=True,\n",
    "    left_on=\"Gene_sp2\",\n",
    ")\n",
    "\n",
    "mapping_both[\"orthology_type\"] = np.select(\n",
    "    [\n",
    "        (\n",
    "            (mapping_both[\"Gene_sp1_counts\"] == 1)\n",
    "            & (mapping_both[\"Gene_sp2_counts\"] == 1)\n",
    "        ),\n",
    "        (\n",
    "            (mapping_both[\"Gene_sp1_counts\"] > 1)\n",
    "            & (mapping_both[\"Gene_sp2_counts\"] == 1)\n",
    "        ),\n",
    "        (\n",
    "            (mapping_both[\"Gene_sp1_counts\"] == 1)\n",
    "            & (mapping_both[\"Gene_sp2_counts\"] > 1)\n",
    "        ),\n",
    "        (\n",
    "            (mapping_both[\"Gene_sp1_counts\"] > 1)\n",
    "            & (mapping_both[\"Gene_sp2_counts\"] > 1)\n",
    "        ),\n",
    "    ],\n",
    "    [\n",
    "        \"o2o\",\n",
    "        \"m2o\",\n",
    "        \"o2m\",\n",
    "        \"m2m\",\n",
    "    ],\n",
    "    default=\"\",\n",
    ")\n"
   ]
  },
  {
   "cell_type": "markdown",
   "id": "516671da-5e2d-4898-8971-c7249ed59212",
   "metadata": {
    "scrolled": true
   },
   "source": [
    "mapping_both.sort_values(by='Gene_sp1')"
   ]
  },
  {
   "cell_type": "code",
   "execution_count": null,
   "id": "8188871d-1562-44ab-b2b7-262fc5d35a4e",
   "metadata": {},
   "outputs": [],
   "source": []
  },
  {
   "cell_type": "code",
   "execution_count": null,
   "id": "18e871cd-9408-4f75-a9e2-598a317ae47b",
   "metadata": {},
   "outputs": [],
   "source": []
  },
  {
   "cell_type": "code",
   "execution_count": null,
   "id": "11aaf254-2ae2-4f8a-841b-b25710031463",
   "metadata": {},
   "outputs": [],
   "source": []
  }
 ],
 "metadata": {
  "kernelspec": {
   "display_name": "metacells_py",
   "language": "python",
   "name": "metacells_py"
  },
  "language_info": {
   "codemirror_mode": {
    "name": "ipython",
    "version": 3
   },
   "file_extension": ".py",
   "mimetype": "text/x-python",
   "name": "python",
   "nbconvert_exporter": "python",
   "pygments_lexer": "ipython3",
   "version": "3.8.16"
  }
 },
 "nbformat": 4,
 "nbformat_minor": 5
}
