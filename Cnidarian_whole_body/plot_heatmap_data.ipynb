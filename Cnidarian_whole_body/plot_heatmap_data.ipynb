{
 "cells": [
  {
   "cell_type": "code",
   "execution_count": 1,
   "id": "ef4ab5da-8f0f-473f-9795-3afd96d5dcbb",
   "metadata": {
    "scrolled": true
   },
   "outputs": [
    {
     "name": "stderr",
     "output_type": "stream",
     "text": [
      "── \u001b[1mAttaching packages\u001b[22m ─────────────────────────────────────── tidyverse 1.3.2 ──\n",
      "\u001b[32m✔\u001b[39m \u001b[34mggplot2\u001b[39m 3.3.6      \u001b[32m✔\u001b[39m \u001b[34mpurrr  \u001b[39m 0.3.4 \n",
      "\u001b[32m✔\u001b[39m \u001b[34mtibble \u001b[39m 3.1.8      \u001b[32m✔\u001b[39m \u001b[34mdplyr  \u001b[39m 1.0.10\n",
      "\u001b[32m✔\u001b[39m \u001b[34mtidyr  \u001b[39m 1.2.1      \u001b[32m✔\u001b[39m \u001b[34mstringr\u001b[39m 1.4.1 \n",
      "\u001b[32m✔\u001b[39m \u001b[34mreadr  \u001b[39m 2.1.2      \u001b[32m✔\u001b[39m \u001b[34mforcats\u001b[39m 0.5.2 \n",
      "── \u001b[1mConflicts\u001b[22m ────────────────────────────────────────── tidyverse_conflicts() ──\n",
      "\u001b[31m✖\u001b[39m \u001b[34mdplyr\u001b[39m::\u001b[32mfilter()\u001b[39m masks \u001b[34mstats\u001b[39m::filter()\n",
      "\u001b[31m✖\u001b[39m \u001b[34mdplyr\u001b[39m::\u001b[32mlag()\u001b[39m    masks \u001b[34mstats\u001b[39m::lag()\n",
      "\n",
      "Attaching package: ‘patchwork’\n",
      "\n",
      "\n",
      "The following object is masked from ‘package:cowplot’:\n",
      "\n",
      "    align_plots\n",
      "\n",
      "\n",
      "Loading required package: viridisLite\n",
      "\n",
      "\n",
      "Attaching package: ‘scales’\n",
      "\n",
      "\n",
      "The following object is masked from ‘package:viridis’:\n",
      "\n",
      "    viridis_pal\n",
      "\n",
      "\n",
      "The following object is masked from ‘package:purrr’:\n",
      "\n",
      "    discard\n",
      "\n",
      "\n",
      "The following object is masked from ‘package:readr’:\n",
      "\n",
      "    col_factor\n",
      "\n",
      "\n",
      "\n",
      "Attaching package: ‘ggpubr’\n",
      "\n",
      "\n",
      "The following object is masked from ‘package:cowplot’:\n",
      "\n",
      "    get_legend\n",
      "\n",
      "\n",
      "\n",
      "Attaching package: ‘gridExtra’\n",
      "\n",
      "\n",
      "The following object is masked from ‘package:dplyr’:\n",
      "\n",
      "    combine\n",
      "\n",
      "\n"
     ]
    }
   ],
   "source": [
    "library(tidyverse)\n",
    "options(repr.plot.width = 7)\n",
    "source(\"/nfs/research/irene/ysong/MY_BIN/ggplot_themes.r\")"
   ]
  },
  {
   "cell_type": "code",
   "execution_count": 2,
   "id": "1362e08c-9a4a-4bf6-b2dc-1a1852144abf",
   "metadata": {},
   "outputs": [],
   "source": [
    "all_species = c(\"Nvec\", \"Xesp\",'Hvul','Spis')"
   ]
  },
  {
   "cell_type": "code",
   "execution_count": 3,
   "id": "5a960d52-d11f-4797-8fcb-b567e2ec6c70",
   "metadata": {},
   "outputs": [],
   "source": [
    "species_1 = 'Nvec'\n",
    "species_2 = 'Spis'"
   ]
  },
  {
   "cell_type": "code",
   "execution_count": 4,
   "id": "a500f439-1ba4-409a-b72d-e654193ebc14",
   "metadata": {},
   "outputs": [
    {
     "name": "stderr",
     "output_type": "stream",
     "text": [
      "\u001b[1mRows: \u001b[22m\u001b[34m5\u001b[39m \u001b[1mColumns: \u001b[22m\u001b[34m6\u001b[39m\n",
      "\u001b[36m──\u001b[39m \u001b[1mColumn specification\u001b[22m \u001b[36m────────────────────────────────────────────────────────\u001b[39m\n",
      "\u001b[1mDelimiter:\u001b[22m \",\"\n",
      "\u001b[31mchr\u001b[39m (1): spec_category_Spis\n",
      "\u001b[32mdbl\u001b[39m (5): cell type enriched, enhanced, group enriched, low cell type specifi...\n",
      "\n",
      "\u001b[36mℹ\u001b[39m Use `spec()` to retrieve the full column specification for this data.\n",
      "\u001b[36mℹ\u001b[39m Specify the column types or set `show_col_types = FALSE` to quiet this message.\n"
     ]
    }
   ],
   "source": [
    "data <- read_csv(paste0(\"o2o_heatmap_data_\", species_1, \"_\", species_2, \"_1e6_0.1lim_3fold_broad_type.csv\"))"
   ]
  },
  {
   "cell_type": "code",
   "execution_count": 5,
   "id": "f31aba08-1e58-4b25-b917-29d99c73202c",
   "metadata": {},
   "outputs": [
    {
     "data": {
      "text/html": [
       "<table class=\"dataframe\">\n",
       "<caption>A spec_tbl_df: 5 × 6</caption>\n",
       "<thead>\n",
       "\t<tr><th scope=col>spec_category_Spis</th><th scope=col>cell type enriched</th><th scope=col>enhanced</th><th scope=col>group enriched</th><th scope=col>low cell type specificity</th><th scope=col>lowly expressed</th></tr>\n",
       "\t<tr><th scope=col>&lt;chr&gt;</th><th scope=col>&lt;dbl&gt;</th><th scope=col>&lt;dbl&gt;</th><th scope=col>&lt;dbl&gt;</th><th scope=col>&lt;dbl&gt;</th><th scope=col>&lt;dbl&gt;</th></tr>\n",
       "</thead>\n",
       "<tbody>\n",
       "\t<tr><td>cell type enriched       </td><td>39.48</td><td>3.13</td><td>27.04</td><td> 9.06</td><td>35.16</td></tr>\n",
       "\t<tr><td>enhanced                 </td><td> 5.08</td><td>3.45</td><td> 8.49</td><td>13.55</td><td> 2.58</td></tr>\n",
       "\t<tr><td>group enriched           </td><td>25.44</td><td>6.83</td><td>33.20</td><td>17.97</td><td>17.91</td></tr>\n",
       "\t<tr><td>low cell type specificity</td><td> 3.22</td><td>3.74</td><td> 5.59</td><td>31.80</td><td> 1.89</td></tr>\n",
       "\t<tr><td>lowly expressed          </td><td>33.15</td><td>1.78</td><td>14.48</td><td> 2.69</td><td>48.72</td></tr>\n",
       "</tbody>\n",
       "</table>\n"
      ],
      "text/latex": [
       "A spec\\_tbl\\_df: 5 × 6\n",
       "\\begin{tabular}{llllll}\n",
       " spec\\_category\\_Spis & cell type enriched & enhanced & group enriched & low cell type specificity & lowly expressed\\\\\n",
       " <chr> & <dbl> & <dbl> & <dbl> & <dbl> & <dbl>\\\\\n",
       "\\hline\n",
       "\t cell type enriched        & 39.48 & 3.13 & 27.04 &  9.06 & 35.16\\\\\n",
       "\t enhanced                  &  5.08 & 3.45 &  8.49 & 13.55 &  2.58\\\\\n",
       "\t group enriched            & 25.44 & 6.83 & 33.20 & 17.97 & 17.91\\\\\n",
       "\t low cell type specificity &  3.22 & 3.74 &  5.59 & 31.80 &  1.89\\\\\n",
       "\t lowly expressed           & 33.15 & 1.78 & 14.48 &  2.69 & 48.72\\\\\n",
       "\\end{tabular}\n"
      ],
      "text/markdown": [
       "\n",
       "A spec_tbl_df: 5 × 6\n",
       "\n",
       "| spec_category_Spis &lt;chr&gt; | cell type enriched &lt;dbl&gt; | enhanced &lt;dbl&gt; | group enriched &lt;dbl&gt; | low cell type specificity &lt;dbl&gt; | lowly expressed &lt;dbl&gt; |\n",
       "|---|---|---|---|---|---|\n",
       "| cell type enriched        | 39.48 | 3.13 | 27.04 |  9.06 | 35.16 |\n",
       "| enhanced                  |  5.08 | 3.45 |  8.49 | 13.55 |  2.58 |\n",
       "| group enriched            | 25.44 | 6.83 | 33.20 | 17.97 | 17.91 |\n",
       "| low cell type specificity |  3.22 | 3.74 |  5.59 | 31.80 |  1.89 |\n",
       "| lowly expressed           | 33.15 | 1.78 | 14.48 |  2.69 | 48.72 |\n",
       "\n"
      ],
      "text/plain": [
       "  spec_category_Spis        cell type enriched enhanced group enriched\n",
       "1 cell type enriched        39.48              3.13     27.04         \n",
       "2 enhanced                   5.08              3.45      8.49         \n",
       "3 group enriched            25.44              6.83     33.20         \n",
       "4 low cell type specificity  3.22              3.74      5.59         \n",
       "5 lowly expressed           33.15              1.78     14.48         \n",
       "  low cell type specificity lowly expressed\n",
       "1  9.06                     35.16          \n",
       "2 13.55                      2.58          \n",
       "3 17.97                     17.91          \n",
       "4 31.80                      1.89          \n",
       "5  2.69                     48.72          "
      ]
     },
     "metadata": {},
     "output_type": "display_data"
    }
   ],
   "source": [
    "data"
   ]
  },
  {
   "cell_type": "code",
   "execution_count": 6,
   "id": "44b08f1c-8428-4fd9-8baa-c3bba7f1ce9e",
   "metadata": {},
   "outputs": [],
   "source": [
    "options(repr.plot.width = 4, repr.plot.height = 3)\n"
   ]
  },
  {
   "cell_type": "code",
   "execution_count": 7,
   "id": "1cdf14a7-9ff5-45c4-be4b-6f3c0f2a5f0a",
   "metadata": {},
   "outputs": [],
   "source": [
    "order = c( 'lowly expressed', 'low cell type specificity', 'enhanced', 'group enriched', 'cell type enriched')"
   ]
  },
  {
   "cell_type": "code",
   "execution_count": 9,
   "id": "d48975aa-fd79-4d28-a7cb-29e8e7547806",
   "metadata": {},
   "outputs": [
    {
     "data": {
      "image/png": "[encoded data removed]",
      "text/plain": [
       "plot without title"
      ]
     },
     "metadata": {
      "image/png": {
       "height": 180,
       "width": 240
      }
     },
     "output_type": "display_data"
    }
   ],
   "source": [
    "data %>% pivot_longer(cols = -c(1), names_to = paste0('spec_category_',species_1), values_to = 'pct')  %>% \n",
    "    rename(spec_category_species_1 = eval(paste0('spec_category_',species_1))) %>% \n",
    "    rename(spec_category_species_2 = eval(paste0('spec_category_',species_2))) %>% \n",
    "    mutate(spec_category_species_1 = factor(spec_category_species_1, levels = order)) %>% \n",
    "    mutate(spec_category_species_2 = factor(spec_category_species_2, levels = order)) %>% \n",
    "    ggplot(aes(x = spec_category_species_1, \n",
    "               y = spec_category_species_2,\n",
    "               fill = pct)) +\n",
    "    geom_tile() + \n",
    "    geom_text(aes(label = pct, color = ifelse(pct > 70, 'black', 'white')), size = 2, show.legend = FALSE) +\n",
    "    scale_fill_viridis(limits = c(0, 80), breaks = c(0, 10, 20, 30, 40, 50, 60, 70, 80), \n",
    "                       labels = c(0, '10%', '20%', '30%', '40%', '50%', '60%','70%', '80%' ), name = 'Percent\\noverlap') +\n",
    "    common_45x  +\n",
    "    scale_colour_manual(values=c(\"white\"=\"white\", \"black\"=\"black\")) +\n",
    "    labs(x = paste0(species_1, ' gene classes'), y = paste0(species_2, ' gene classes'))"
   ]
  },
  {
   "cell_type": "code",
   "execution_count": 10,
   "id": "afc90302-c787-4440-8ff6-d38953d9b4c2",
   "metadata": {
    "scrolled": true
   },
   "outputs": [
    {
     "name": "stderr",
     "output_type": "stream",
     "text": [
      "Hvul\n",
      "\n",
      "Spis\n",
      "\n",
      "\u001b[1mRows: \u001b[22m\u001b[34m5\u001b[39m \u001b[1mColumns: \u001b[22m\u001b[34m6\u001b[39m\n",
      "\u001b[36m──\u001b[39m \u001b[1mColumn specification\u001b[22m \u001b[36m────────────────────────────────────────────────────────\u001b[39m\n",
      "\u001b[1mDelimiter:\u001b[22m \",\"\n",
      "\u001b[31mchr\u001b[39m (1): spec_category_Spis\n",
      "\u001b[32mdbl\u001b[39m (5): cell type enriched, enhanced, group enriched, low cell type specifi...\n",
      "\n",
      "\u001b[36mℹ\u001b[39m Use `spec()` to retrieve the full column specification for this data.\n",
      "\u001b[36mℹ\u001b[39m Specify the column types or set `show_col_types = FALSE` to quiet this message.\n",
      "Xesp\n",
      "\n",
      "Spis\n",
      "\n",
      "\u001b[1mRows: \u001b[22m\u001b[34m5\u001b[39m \u001b[1mColumns: \u001b[22m\u001b[34m6\u001b[39m\n",
      "\u001b[36m──\u001b[39m \u001b[1mColumn specification\u001b[22m \u001b[36m────────────────────────────────────────────────────────\u001b[39m\n",
      "\u001b[1mDelimiter:\u001b[22m \",\"\n",
      "\u001b[31mchr\u001b[39m (1): spec_category_Spis\n",
      "\u001b[32mdbl\u001b[39m (5): cell type enriched, enhanced, group enriched, low cell type specifi...\n",
      "\n",
      "\u001b[36mℹ\u001b[39m Use `spec()` to retrieve the full column specification for this data.\n",
      "\u001b[36mℹ\u001b[39m Specify the column types or set `show_col_types = FALSE` to quiet this message.\n",
      "Nvec\n",
      "\n",
      "Spis\n",
      "\n",
      "\u001b[1mRows: \u001b[22m\u001b[34m5\u001b[39m \u001b[1mColumns: \u001b[22m\u001b[34m6\u001b[39m\n",
      "\u001b[36m──\u001b[39m \u001b[1mColumn specification\u001b[22m \u001b[36m────────────────────────────────────────────────────────\u001b[39m\n",
      "\u001b[1mDelimiter:\u001b[22m \",\"\n",
      "\u001b[31mchr\u001b[39m (1): spec_category_Spis\n",
      "\u001b[32mdbl\u001b[39m (5): cell type enriched, enhanced, group enriched, low cell type specifi...\n",
      "\n",
      "\u001b[36mℹ\u001b[39m Use `spec()` to retrieve the full column specification for this data.\n",
      "\u001b[36mℹ\u001b[39m Specify the column types or set `show_col_types = FALSE` to quiet this message.\n",
      "Xesp\n",
      "\n",
      "Hvul\n",
      "\n",
      "\u001b[1mRows: \u001b[22m\u001b[34m5\u001b[39m \u001b[1mColumns: \u001b[22m\u001b[34m6\u001b[39m\n",
      "\u001b[36m──\u001b[39m \u001b[1mColumn specification\u001b[22m \u001b[36m────────────────────────────────────────────────────────\u001b[39m\n",
      "\u001b[1mDelimiter:\u001b[22m \",\"\n",
      "\u001b[31mchr\u001b[39m (1): spec_category_Hvul\n",
      "\u001b[32mdbl\u001b[39m (5): cell type enriched, enhanced, group enriched, low cell type specifi...\n",
      "\n",
      "\u001b[36mℹ\u001b[39m Use `spec()` to retrieve the full column specification for this data.\n",
      "\u001b[36mℹ\u001b[39m Specify the column types or set `show_col_types = FALSE` to quiet this message.\n",
      "Nvec\n",
      "\n",
      "Hvul\n",
      "\n",
      "\u001b[1mRows: \u001b[22m\u001b[34m5\u001b[39m \u001b[1mColumns: \u001b[22m\u001b[34m6\u001b[39m\n",
      "\u001b[36m──\u001b[39m \u001b[1mColumn specification\u001b[22m \u001b[36m────────────────────────────────────────────────────────\u001b[39m\n",
      "\u001b[1mDelimiter:\u001b[22m \",\"\n",
      "\u001b[31mchr\u001b[39m (1): spec_category_Hvul\n",
      "\u001b[32mdbl\u001b[39m (5): cell type enriched, enhanced, group enriched, low cell type specifi...\n",
      "\n",
      "\u001b[36mℹ\u001b[39m Use `spec()` to retrieve the full column specification for this data.\n",
      "\u001b[36mℹ\u001b[39m Specify the column types or set `show_col_types = FALSE` to quiet this message.\n",
      "Nvec\n",
      "\n",
      "Xesp\n",
      "\n",
      "\u001b[1mRows: \u001b[22m\u001b[34m5\u001b[39m \u001b[1mColumns: \u001b[22m\u001b[34m6\u001b[39m\n",
      "\u001b[36m──\u001b[39m \u001b[1mColumn specification\u001b[22m \u001b[36m────────────────────────────────────────────────────────\u001b[39m\n",
      "\u001b[1mDelimiter:\u001b[22m \",\"\n",
      "\u001b[31mchr\u001b[39m (1): spec_category_Xesp\n",
      "\u001b[32mdbl\u001b[39m (5): cell type enriched, enhanced, group enriched, low cell type specifi...\n",
      "\n",
      "\u001b[36mℹ\u001b[39m Use `spec()` to retrieve the full column specification for this data.\n",
      "\u001b[36mℹ\u001b[39m Specify the column types or set `show_col_types = FALSE` to quiet this message.\n"
     ]
    }
   ],
   "source": [
    "data_all = data.frame()\n",
    "\n",
    "all_pairs <- data.frame(\n",
    "  species_1 = c('Hvul', 'Xesp', 'Nvec', 'Xesp', 'Nvec', 'Nvec'),\n",
    "  species_2 = c('Spis', 'Spis', 'Spis','Hvul', 'Hvul', 'Xesp')\n",
    ")\n",
    "\n",
    "# Iterate over rows and assign values to species_1 and species_2\n",
    "for (i in 1:nrow(all_pairs)) {\n",
    "    species_1 <- all_pairs[i, 'species_1']\n",
    "    species_2 <- all_pairs[i, 'species_2']\n",
    "\n",
    "    message(species_1)\n",
    "    message(species_2)\n",
    "\n",
    "    data <- read_csv(paste0(\"o2o_heatmap_data_\", species_1, \"_\", species_2, \"_1e6_0.1lim_3fold_broad_type.csv\"))\n",
    "    fig = data %>% pivot_longer(cols = -c(1), names_to = paste0('spec_category_',species_1), values_to = 'pct')  %>% \n",
    "    rename(spec_category_species_1 = eval(paste0('spec_category_',species_1))) %>% \n",
    "    rename(spec_category_species_2 = eval(paste0('spec_category_',species_2))) %>% \n",
    "    mutate(spec_category_species_1 = factor(spec_category_species_1, levels = order)) %>% \n",
    "    mutate(spec_category_species_2 = factor(spec_category_species_2, levels = order)) %>% \n",
    "    ggplot(aes(x = spec_category_species_1, \n",
    "               y = spec_category_species_2,\n",
    "               fill = pct)) +\n",
    "    geom_tile() + \n",
    "    geom_text(aes(label = pct, color = ifelse(pct > 70, 'black', 'white')), size = 2, show.legend = FALSE) +\n",
    "     scale_fill_viridis(limits = c(0, 80), breaks = c(0, 10, 20, 30, 40, 50, 60, 70, 80), \n",
    "                       labels = c(0, '10%', '20%', '30%', '40%', '50%', '60%','70%', '80%' ), name = 'Percent\\noverlap') +\n",
    "    common_45x  +\n",
    "    scale_colour_manual(values=c(\"white\"=\"white\", \"black\"=\"black\")) +\n",
    "    labs(x = paste0(species_1, ' gene classes'), y = paste0(species_2, ' gene classes'))\n",
    "\n",
    "    #saveRDS(object = fig, file =  paste0(\"o2o_heatmap_figs/\", species_1, \"_\", species_2, \"_one2one_heatmap_r.rds\"))\n",
    "\n",
    "    #ggsave(plot = fig, filename = paste0(\"o2o_heatmap_figs/\", species_1, \"_\", species_2, \"_one2one_heatmap_r.pdf\"), height = 3, width = 4)\n",
    "\n",
    "    data_add = data %>% pivot_longer(cols = -c(1), names_to = paste0('spec_category_',species_1), values_to = 'pct') %>% \n",
    "mutate(species_1 = species_1) %>% mutate(species_2 = species_2) \n",
    "\n",
    "    colnames(data_add) = c('spec_category_species_2', 'spec_category_species_1', 'pct', 'species_1', 'species_2')\n",
    "\n",
    "    data_all = rbind(data_all, data_add)\n",
    "    \n",
    "\n",
    "    \n",
    "}"
   ]
  },
  {
   "cell_type": "code",
   "execution_count": 11,
   "id": "e996eb69-7b8d-42ab-93e4-0f518087967d",
   "metadata": {},
   "outputs": [],
   "source": [
    "options(repr.plot.width = 7, repr.plot.height = 6)\n"
   ]
  },
  {
   "cell_type": "code",
   "execution_count": 12,
   "id": "fc064cc4-d3c5-42a5-a258-a72f2deb894a",
   "metadata": {
    "scrolled": true
   },
   "outputs": [
    {
     "data": {
      "text/html": [
       "<style>\n",
       ".list-inline {list-style: none; margin:0; padding: 0}\n",
       ".list-inline>li {display: inline-block}\n",
       ".list-inline>li:not(:last-child)::after {content: \"\\00b7\"; padding: 0 .5ex}\n",
       "</style>\n",
       "<ol class=list-inline><li>'cell type enriched'</li><li>'enhanced'</li><li>'group enriched'</li><li>'low cell type specificity'</li><li>'lowly expressed'</li></ol>\n"
      ],
      "text/latex": [
       "\\begin{enumerate*}\n",
       "\\item 'cell type enriched'\n",
       "\\item 'enhanced'\n",
       "\\item 'group enriched'\n",
       "\\item 'low cell type specificity'\n",
       "\\item 'lowly expressed'\n",
       "\\end{enumerate*}\n"
      ],
      "text/markdown": [
       "1. 'cell type enriched'\n",
       "2. 'enhanced'\n",
       "3. 'group enriched'\n",
       "4. 'low cell type specificity'\n",
       "5. 'lowly expressed'\n",
       "\n",
       "\n"
      ],
      "text/plain": [
       "[1] \"cell type enriched\"        \"enhanced\"                 \n",
       "[3] \"group enriched\"            \"low cell type specificity\"\n",
       "[5] \"lowly expressed\"          "
      ]
     },
     "metadata": {},
     "output_type": "display_data"
    }
   ],
   "source": [
    "levels(factor(data_all$spec_category_species_1))"
   ]
  },
  {
   "cell_type": "code",
   "execution_count": 13,
   "id": "0699ad2b-182b-4d70-98b0-0e0bb7322d5b",
   "metadata": {},
   "outputs": [
    {
     "data": {
      "text/html": [
       "<table class=\"dataframe\">\n",
       "<caption>A tibble: 150 × 5</caption>\n",
       "<thead>\n",
       "\t<tr><th scope=col>spec_category_species_2</th><th scope=col>spec_category_species_1</th><th scope=col>pct</th><th scope=col>species_1</th><th scope=col>species_2</th></tr>\n",
       "\t<tr><th scope=col>&lt;chr&gt;</th><th scope=col>&lt;chr&gt;</th><th scope=col>&lt;dbl&gt;</th><th scope=col>&lt;chr&gt;</th><th scope=col>&lt;chr&gt;</th></tr>\n",
       "</thead>\n",
       "<tbody>\n",
       "\t<tr><td>cell type enriched       </td><td>cell type enriched       </td><td>28.44</td><td>Hvul</td><td>Spis</td></tr>\n",
       "\t<tr><td>cell type enriched       </td><td>enhanced                 </td><td> 7.44</td><td>Hvul</td><td>Spis</td></tr>\n",
       "\t<tr><td>cell type enriched       </td><td>group enriched           </td><td>23.38</td><td>Hvul</td><td>Spis</td></tr>\n",
       "\t<tr><td>cell type enriched       </td><td>low cell type specificity</td><td>33.60</td><td>Hvul</td><td>Spis</td></tr>\n",
       "\t<tr><td>cell type enriched       </td><td>lowly expressed          </td><td>31.45</td><td>Hvul</td><td>Spis</td></tr>\n",
       "\t<tr><td>enhanced                 </td><td>cell type enriched       </td><td> 7.31</td><td>Hvul</td><td>Spis</td></tr>\n",
       "\t<tr><td>enhanced                 </td><td>enhanced                 </td><td> 3.17</td><td>Hvul</td><td>Spis</td></tr>\n",
       "\t<tr><td>enhanced                 </td><td>group enriched           </td><td> 5.92</td><td>Hvul</td><td>Spis</td></tr>\n",
       "\t<tr><td>enhanced                 </td><td>low cell type specificity</td><td>10.70</td><td>Hvul</td><td>Spis</td></tr>\n",
       "\t<tr><td>enhanced                 </td><td>lowly expressed          </td><td> 4.59</td><td>Hvul</td><td>Spis</td></tr>\n",
       "\t<tr><td>group enriched           </td><td>cell type enriched       </td><td>19.64</td><td>Hvul</td><td>Spis</td></tr>\n",
       "\t<tr><td>group enriched           </td><td>enhanced                 </td><td> 5.73</td><td>Hvul</td><td>Spis</td></tr>\n",
       "\t<tr><td>group enriched           </td><td>group enriched           </td><td>21.45</td><td>Hvul</td><td>Spis</td></tr>\n",
       "\t<tr><td>group enriched           </td><td>low cell type specificity</td><td>41.34</td><td>Hvul</td><td>Spis</td></tr>\n",
       "\t<tr><td>group enriched           </td><td>lowly expressed          </td><td>20.44</td><td>Hvul</td><td>Spis</td></tr>\n",
       "\t<tr><td>low cell type specificity</td><td>cell type enriched       </td><td> 4.22</td><td>Hvul</td><td>Spis</td></tr>\n",
       "\t<tr><td>low cell type specificity</td><td>enhanced                 </td><td> 1.55</td><td>Hvul</td><td>Spis</td></tr>\n",
       "\t<tr><td>low cell type specificity</td><td>group enriched           </td><td> 3.56</td><td>Hvul</td><td>Spis</td></tr>\n",
       "\t<tr><td>low cell type specificity</td><td>low cell type specificity</td><td>15.82</td><td>Hvul</td><td>Spis</td></tr>\n",
       "\t<tr><td>low cell type specificity</td><td>lowly expressed          </td><td> 3.04</td><td>Hvul</td><td>Spis</td></tr>\n",
       "\t<tr><td>lowly expressed          </td><td>cell type enriched       </td><td>26.21</td><td>Hvul</td><td>Spis</td></tr>\n",
       "\t<tr><td>lowly expressed          </td><td>enhanced                 </td><td> 5.81</td><td>Hvul</td><td>Spis</td></tr>\n",
       "\t<tr><td>lowly expressed          </td><td>group enriched           </td><td>17.48</td><td>Hvul</td><td>Spis</td></tr>\n",
       "\t<tr><td>lowly expressed          </td><td>low cell type specificity</td><td>17.33</td><td>Hvul</td><td>Spis</td></tr>\n",
       "\t<tr><td>lowly expressed          </td><td>lowly expressed          </td><td>30.57</td><td>Hvul</td><td>Spis</td></tr>\n",
       "\t<tr><td>cell type enriched       </td><td>cell type enriched       </td><td>45.33</td><td>Xesp</td><td>Spis</td></tr>\n",
       "\t<tr><td>cell type enriched       </td><td>enhanced                 </td><td> 6.60</td><td>Xesp</td><td>Spis</td></tr>\n",
       "\t<tr><td>cell type enriched       </td><td>group enriched           </td><td>27.56</td><td>Xesp</td><td>Spis</td></tr>\n",
       "\t<tr><td>cell type enriched       </td><td>low cell type specificity</td><td>11.50</td><td>Xesp</td><td>Spis</td></tr>\n",
       "\t<tr><td>cell type enriched       </td><td>lowly expressed          </td><td>27.37</td><td>Xesp</td><td>Spis</td></tr>\n",
       "\t<tr><td>⋮</td><td>⋮</td><td>⋮</td><td>⋮</td><td>⋮</td></tr>\n",
       "\t<tr><td>lowly expressed          </td><td>cell type enriched       </td><td>29.97</td><td>Nvec</td><td>Hvul</td></tr>\n",
       "\t<tr><td>lowly expressed          </td><td>enhanced                 </td><td> 2.28</td><td>Nvec</td><td>Hvul</td></tr>\n",
       "\t<tr><td>lowly expressed          </td><td>group enriched           </td><td>17.45</td><td>Nvec</td><td>Hvul</td></tr>\n",
       "\t<tr><td>lowly expressed          </td><td>low cell type specificity</td><td> 5.52</td><td>Nvec</td><td>Hvul</td></tr>\n",
       "\t<tr><td>lowly expressed          </td><td>lowly expressed          </td><td>37.53</td><td>Nvec</td><td>Hvul</td></tr>\n",
       "\t<tr><td>cell type enriched       </td><td>cell type enriched       </td><td>41.36</td><td>Nvec</td><td>Xesp</td></tr>\n",
       "\t<tr><td>cell type enriched       </td><td>enhanced                 </td><td> 3.60</td><td>Nvec</td><td>Xesp</td></tr>\n",
       "\t<tr><td>cell type enriched       </td><td>group enriched           </td><td>26.49</td><td>Nvec</td><td>Xesp</td></tr>\n",
       "\t<tr><td>cell type enriched       </td><td>low cell type specificity</td><td> 6.84</td><td>Nvec</td><td>Xesp</td></tr>\n",
       "\t<tr><td>cell type enriched       </td><td>lowly expressed          </td><td>39.09</td><td>Nvec</td><td>Xesp</td></tr>\n",
       "\t<tr><td>enhanced                 </td><td>cell type enriched       </td><td> 5.97</td><td>Nvec</td><td>Xesp</td></tr>\n",
       "\t<tr><td>enhanced                 </td><td>enhanced                 </td><td> 6.57</td><td>Nvec</td><td>Xesp</td></tr>\n",
       "\t<tr><td>enhanced                 </td><td>group enriched           </td><td>10.47</td><td>Nvec</td><td>Xesp</td></tr>\n",
       "\t<tr><td>enhanced                 </td><td>low cell type specificity</td><td>12.99</td><td>Nvec</td><td>Xesp</td></tr>\n",
       "\t<tr><td>enhanced                 </td><td>lowly expressed          </td><td> 3.68</td><td>Nvec</td><td>Xesp</td></tr>\n",
       "\t<tr><td>group enriched           </td><td>cell type enriched       </td><td>27.66</td><td>Nvec</td><td>Xesp</td></tr>\n",
       "\t<tr><td>group enriched           </td><td>enhanced                 </td><td> 5.32</td><td>Nvec</td><td>Xesp</td></tr>\n",
       "\t<tr><td>group enriched           </td><td>group enriched           </td><td>31.89</td><td>Nvec</td><td>Xesp</td></tr>\n",
       "\t<tr><td>group enriched           </td><td>low cell type specificity</td><td>15.35</td><td>Nvec</td><td>Xesp</td></tr>\n",
       "\t<tr><td>group enriched           </td><td>lowly expressed          </td><td>15.19</td><td>Nvec</td><td>Xesp</td></tr>\n",
       "\t<tr><td>low cell type specificity</td><td>cell type enriched       </td><td>10.15</td><td>Nvec</td><td>Xesp</td></tr>\n",
       "\t<tr><td>low cell type specificity</td><td>enhanced                 </td><td> 8.15</td><td>Nvec</td><td>Xesp</td></tr>\n",
       "\t<tr><td>low cell type specificity</td><td>group enriched           </td><td>19.62</td><td>Nvec</td><td>Xesp</td></tr>\n",
       "\t<tr><td>low cell type specificity</td><td>low cell type specificity</td><td>40.37</td><td>Nvec</td><td>Xesp</td></tr>\n",
       "\t<tr><td>low cell type specificity</td><td>lowly expressed          </td><td> 5.67</td><td>Nvec</td><td>Xesp</td></tr>\n",
       "\t<tr><td>lowly expressed          </td><td>cell type enriched       </td><td>28.08</td><td>Nvec</td><td>Xesp</td></tr>\n",
       "\t<tr><td>lowly expressed          </td><td>enhanced                 </td><td> 1.71</td><td>Nvec</td><td>Xesp</td></tr>\n",
       "\t<tr><td>lowly expressed          </td><td>group enriched           </td><td>13.39</td><td>Nvec</td><td>Xesp</td></tr>\n",
       "\t<tr><td>lowly expressed          </td><td>low cell type specificity</td><td> 2.98</td><td>Nvec</td><td>Xesp</td></tr>\n",
       "\t<tr><td>lowly expressed          </td><td>lowly expressed          </td><td>39.25</td><td>Nvec</td><td>Xesp</td></tr>\n",
       "</tbody>\n",
       "</table>\n"
      ],
      "text/latex": [
       "A tibble: 150 × 5\n",
       "\\begin{tabular}{lllll}\n",
       " spec\\_category\\_species\\_2 & spec\\_category\\_species\\_1 & pct & species\\_1 & species\\_2\\\\\n",
       " <chr> & <chr> & <dbl> & <chr> & <chr>\\\\\n",
       "\\hline\n",
       "\t cell type enriched        & cell type enriched        & 28.44 & Hvul & Spis\\\\\n",
       "\t cell type enriched        & enhanced                  &  7.44 & Hvul & Spis\\\\\n",
       "\t cell type enriched        & group enriched            & 23.38 & Hvul & Spis\\\\\n",
       "\t cell type enriched        & low cell type specificity & 33.60 & Hvul & Spis\\\\\n",
       "\t cell type enriched        & lowly expressed           & 31.45 & Hvul & Spis\\\\\n",
       "\t enhanced                  & cell type enriched        &  7.31 & Hvul & Spis\\\\\n",
       "\t enhanced                  & enhanced                  &  3.17 & Hvul & Spis\\\\\n",
       "\t enhanced                  & group enriched            &  5.92 & Hvul & Spis\\\\\n",
       "\t enhanced                  & low cell type specificity & 10.70 & Hvul & Spis\\\\\n",
       "\t enhanced                  & lowly expressed           &  4.59 & Hvul & Spis\\\\\n",
       "\t group enriched            & cell type enriched        & 19.64 & Hvul & Spis\\\\\n",
       "\t group enriched            & enhanced                  &  5.73 & Hvul & Spis\\\\\n",
       "\t group enriched            & group enriched            & 21.45 & Hvul & Spis\\\\\n",
       "\t group enriched            & low cell type specificity & 41.34 & Hvul & Spis\\\\\n",
       "\t group enriched            & lowly expressed           & 20.44 & Hvul & Spis\\\\\n",
       "\t low cell type specificity & cell type enriched        &  4.22 & Hvul & Spis\\\\\n",
       "\t low cell type specificity & enhanced                  &  1.55 & Hvul & Spis\\\\\n",
       "\t low cell type specificity & group enriched            &  3.56 & Hvul & Spis\\\\\n",
       "\t low cell type specificity & low cell type specificity & 15.82 & Hvul & Spis\\\\\n",
       "\t low cell type specificity & lowly expressed           &  3.04 & Hvul & Spis\\\\\n",
       "\t lowly expressed           & cell type enriched        & 26.21 & Hvul & Spis\\\\\n",
       "\t lowly expressed           & enhanced                  &  5.81 & Hvul & Spis\\\\\n",
       "\t lowly expressed           & group enriched            & 17.48 & Hvul & Spis\\\\\n",
       "\t lowly expressed           & low cell type specificity & 17.33 & Hvul & Spis\\\\\n",
       "\t lowly expressed           & lowly expressed           & 30.57 & Hvul & Spis\\\\\n",
       "\t cell type enriched        & cell type enriched        & 45.33 & Xesp & Spis\\\\\n",
       "\t cell type enriched        & enhanced                  &  6.60 & Xesp & Spis\\\\\n",
       "\t cell type enriched        & group enriched            & 27.56 & Xesp & Spis\\\\\n",
       "\t cell type enriched        & low cell type specificity & 11.50 & Xesp & Spis\\\\\n",
       "\t cell type enriched        & lowly expressed           & 27.37 & Xesp & Spis\\\\\n",
       "\t ⋮ & ⋮ & ⋮ & ⋮ & ⋮\\\\\n",
       "\t lowly expressed           & cell type enriched        & 29.97 & Nvec & Hvul\\\\\n",
       "\t lowly expressed           & enhanced                  &  2.28 & Nvec & Hvul\\\\\n",
       "\t lowly expressed           & group enriched            & 17.45 & Nvec & Hvul\\\\\n",
       "\t lowly expressed           & low cell type specificity &  5.52 & Nvec & Hvul\\\\\n",
       "\t lowly expressed           & lowly expressed           & 37.53 & Nvec & Hvul\\\\\n",
       "\t cell type enriched        & cell type enriched        & 41.36 & Nvec & Xesp\\\\\n",
       "\t cell type enriched        & enhanced                  &  3.60 & Nvec & Xesp\\\\\n",
       "\t cell type enriched        & group enriched            & 26.49 & Nvec & Xesp\\\\\n",
       "\t cell type enriched        & low cell type specificity &  6.84 & Nvec & Xesp\\\\\n",
       "\t cell type enriched        & lowly expressed           & 39.09 & Nvec & Xesp\\\\\n",
       "\t enhanced                  & cell type enriched        &  5.97 & Nvec & Xesp\\\\\n",
       "\t enhanced                  & enhanced                  &  6.57 & Nvec & Xesp\\\\\n",
       "\t enhanced                  & group enriched            & 10.47 & Nvec & Xesp\\\\\n",
       "\t enhanced                  & low cell type specificity & 12.99 & Nvec & Xesp\\\\\n",
       "\t enhanced                  & lowly expressed           &  3.68 & Nvec & Xesp\\\\\n",
       "\t group enriched            & cell type enriched        & 27.66 & Nvec & Xesp\\\\\n",
       "\t group enriched            & enhanced                  &  5.32 & Nvec & Xesp\\\\\n",
       "\t group enriched            & group enriched            & 31.89 & Nvec & Xesp\\\\\n",
       "\t group enriched            & low cell type specificity & 15.35 & Nvec & Xesp\\\\\n",
       "\t group enriched            & lowly expressed           & 15.19 & Nvec & Xesp\\\\\n",
       "\t low cell type specificity & cell type enriched        & 10.15 & Nvec & Xesp\\\\\n",
       "\t low cell type specificity & enhanced                  &  8.15 & Nvec & Xesp\\\\\n",
       "\t low cell type specificity & group enriched            & 19.62 & Nvec & Xesp\\\\\n",
       "\t low cell type specificity & low cell type specificity & 40.37 & Nvec & Xesp\\\\\n",
       "\t low cell type specificity & lowly expressed           &  5.67 & Nvec & Xesp\\\\\n",
       "\t lowly expressed           & cell type enriched        & 28.08 & Nvec & Xesp\\\\\n",
       "\t lowly expressed           & enhanced                  &  1.71 & Nvec & Xesp\\\\\n",
       "\t lowly expressed           & group enriched            & 13.39 & Nvec & Xesp\\\\\n",
       "\t lowly expressed           & low cell type specificity &  2.98 & Nvec & Xesp\\\\\n",
       "\t lowly expressed           & lowly expressed           & 39.25 & Nvec & Xesp\\\\\n",
       "\\end{tabular}\n"
      ],
      "text/markdown": [
       "\n",
       "A tibble: 150 × 5\n",
       "\n",
       "| spec_category_species_2 &lt;chr&gt; | spec_category_species_1 &lt;chr&gt; | pct &lt;dbl&gt; | species_1 &lt;chr&gt; | species_2 &lt;chr&gt; |\n",
       "|---|---|---|---|---|\n",
       "| cell type enriched        | cell type enriched        | 28.44 | Hvul | Spis |\n",
       "| cell type enriched        | enhanced                  |  7.44 | Hvul | Spis |\n",
       "| cell type enriched        | group enriched            | 23.38 | Hvul | Spis |\n",
       "| cell type enriched        | low cell type specificity | 33.60 | Hvul | Spis |\n",
       "| cell type enriched        | lowly expressed           | 31.45 | Hvul | Spis |\n",
       "| enhanced                  | cell type enriched        |  7.31 | Hvul | Spis |\n",
       "| enhanced                  | enhanced                  |  3.17 | Hvul | Spis |\n",
       "| enhanced                  | group enriched            |  5.92 | Hvul | Spis |\n",
       "| enhanced                  | low cell type specificity | 10.70 | Hvul | Spis |\n",
       "| enhanced                  | lowly expressed           |  4.59 | Hvul | Spis |\n",
       "| group enriched            | cell type enriched        | 19.64 | Hvul | Spis |\n",
       "| group enriched            | enhanced                  |  5.73 | Hvul | Spis |\n",
       "| group enriched            | group enriched            | 21.45 | Hvul | Spis |\n",
       "| group enriched            | low cell type specificity | 41.34 | Hvul | Spis |\n",
       "| group enriched            | lowly expressed           | 20.44 | Hvul | Spis |\n",
       "| low cell type specificity | cell type enriched        |  4.22 | Hvul | Spis |\n",
       "| low cell type specificity | enhanced                  |  1.55 | Hvul | Spis |\n",
       "| low cell type specificity | group enriched            |  3.56 | Hvul | Spis |\n",
       "| low cell type specificity | low cell type specificity | 15.82 | Hvul | Spis |\n",
       "| low cell type specificity | lowly expressed           |  3.04 | Hvul | Spis |\n",
       "| lowly expressed           | cell type enriched        | 26.21 | Hvul | Spis |\n",
       "| lowly expressed           | enhanced                  |  5.81 | Hvul | Spis |\n",
       "| lowly expressed           | group enriched            | 17.48 | Hvul | Spis |\n",
       "| lowly expressed           | low cell type specificity | 17.33 | Hvul | Spis |\n",
       "| lowly expressed           | lowly expressed           | 30.57 | Hvul | Spis |\n",
       "| cell type enriched        | cell type enriched        | 45.33 | Xesp | Spis |\n",
       "| cell type enriched        | enhanced                  |  6.60 | Xesp | Spis |\n",
       "| cell type enriched        | group enriched            | 27.56 | Xesp | Spis |\n",
       "| cell type enriched        | low cell type specificity | 11.50 | Xesp | Spis |\n",
       "| cell type enriched        | lowly expressed           | 27.37 | Xesp | Spis |\n",
       "| ⋮ | ⋮ | ⋮ | ⋮ | ⋮ |\n",
       "| lowly expressed           | cell type enriched        | 29.97 | Nvec | Hvul |\n",
       "| lowly expressed           | enhanced                  |  2.28 | Nvec | Hvul |\n",
       "| lowly expressed           | group enriched            | 17.45 | Nvec | Hvul |\n",
       "| lowly expressed           | low cell type specificity |  5.52 | Nvec | Hvul |\n",
       "| lowly expressed           | lowly expressed           | 37.53 | Nvec | Hvul |\n",
       "| cell type enriched        | cell type enriched        | 41.36 | Nvec | Xesp |\n",
       "| cell type enriched        | enhanced                  |  3.60 | Nvec | Xesp |\n",
       "| cell type enriched        | group enriched            | 26.49 | Nvec | Xesp |\n",
       "| cell type enriched        | low cell type specificity |  6.84 | Nvec | Xesp |\n",
       "| cell type enriched        | lowly expressed           | 39.09 | Nvec | Xesp |\n",
       "| enhanced                  | cell type enriched        |  5.97 | Nvec | Xesp |\n",
       "| enhanced                  | enhanced                  |  6.57 | Nvec | Xesp |\n",
       "| enhanced                  | group enriched            | 10.47 | Nvec | Xesp |\n",
       "| enhanced                  | low cell type specificity | 12.99 | Nvec | Xesp |\n",
       "| enhanced                  | lowly expressed           |  3.68 | Nvec | Xesp |\n",
       "| group enriched            | cell type enriched        | 27.66 | Nvec | Xesp |\n",
       "| group enriched            | enhanced                  |  5.32 | Nvec | Xesp |\n",
       "| group enriched            | group enriched            | 31.89 | Nvec | Xesp |\n",
       "| group enriched            | low cell type specificity | 15.35 | Nvec | Xesp |\n",
       "| group enriched            | lowly expressed           | 15.19 | Nvec | Xesp |\n",
       "| low cell type specificity | cell type enriched        | 10.15 | Nvec | Xesp |\n",
       "| low cell type specificity | enhanced                  |  8.15 | Nvec | Xesp |\n",
       "| low cell type specificity | group enriched            | 19.62 | Nvec | Xesp |\n",
       "| low cell type specificity | low cell type specificity | 40.37 | Nvec | Xesp |\n",
       "| low cell type specificity | lowly expressed           |  5.67 | Nvec | Xesp |\n",
       "| lowly expressed           | cell type enriched        | 28.08 | Nvec | Xesp |\n",
       "| lowly expressed           | enhanced                  |  1.71 | Nvec | Xesp |\n",
       "| lowly expressed           | group enriched            | 13.39 | Nvec | Xesp |\n",
       "| lowly expressed           | low cell type specificity |  2.98 | Nvec | Xesp |\n",
       "| lowly expressed           | lowly expressed           | 39.25 | Nvec | Xesp |\n",
       "\n"
      ],
      "text/plain": [
       "    spec_category_species_2   spec_category_species_1   pct   species_1\n",
       "1   cell type enriched        cell type enriched        28.44 Hvul     \n",
       "2   cell type enriched        enhanced                   7.44 Hvul     \n",
       "3   cell type enriched        group enriched            23.38 Hvul     \n",
       "4   cell type enriched        low cell type specificity 33.60 Hvul     \n",
       "5   cell type enriched        lowly expressed           31.45 Hvul     \n",
       "6   enhanced                  cell type enriched         7.31 Hvul     \n",
       "7   enhanced                  enhanced                   3.17 Hvul     \n",
       "8   enhanced                  group enriched             5.92 Hvul     \n",
       "9   enhanced                  low cell type specificity 10.70 Hvul     \n",
       "10  enhanced                  lowly expressed            4.59 Hvul     \n",
       "11  group enriched            cell type enriched        19.64 Hvul     \n",
       "12  group enriched            enhanced                   5.73 Hvul     \n",
       "13  group enriched            group enriched            21.45 Hvul     \n",
       "14  group enriched            low cell type specificity 41.34 Hvul     \n",
       "15  group enriched            lowly expressed           20.44 Hvul     \n",
       "16  low cell type specificity cell type enriched         4.22 Hvul     \n",
       "17  low cell type specificity enhanced                   1.55 Hvul     \n",
       "18  low cell type specificity group enriched             3.56 Hvul     \n",
       "19  low cell type specificity low cell type specificity 15.82 Hvul     \n",
       "20  low cell type specificity lowly expressed            3.04 Hvul     \n",
       "21  lowly expressed           cell type enriched        26.21 Hvul     \n",
       "22  lowly expressed           enhanced                   5.81 Hvul     \n",
       "23  lowly expressed           group enriched            17.48 Hvul     \n",
       "24  lowly expressed           low cell type specificity 17.33 Hvul     \n",
       "25  lowly expressed           lowly expressed           30.57 Hvul     \n",
       "26  cell type enriched        cell type enriched        45.33 Xesp     \n",
       "27  cell type enriched        enhanced                   6.60 Xesp     \n",
       "28  cell type enriched        group enriched            27.56 Xesp     \n",
       "29  cell type enriched        low cell type specificity 11.50 Xesp     \n",
       "30  cell type enriched        lowly expressed           27.37 Xesp     \n",
       "⋮   ⋮                         ⋮                         ⋮     ⋮        \n",
       "121 lowly expressed           cell type enriched        29.97 Nvec     \n",
       "122 lowly expressed           enhanced                   2.28 Nvec     \n",
       "123 lowly expressed           group enriched            17.45 Nvec     \n",
       "124 lowly expressed           low cell type specificity  5.52 Nvec     \n",
       "125 lowly expressed           lowly expressed           37.53 Nvec     \n",
       "126 cell type enriched        cell type enriched        41.36 Nvec     \n",
       "127 cell type enriched        enhanced                   3.60 Nvec     \n",
       "128 cell type enriched        group enriched            26.49 Nvec     \n",
       "129 cell type enriched        low cell type specificity  6.84 Nvec     \n",
       "130 cell type enriched        lowly expressed           39.09 Nvec     \n",
       "131 enhanced                  cell type enriched         5.97 Nvec     \n",
       "132 enhanced                  enhanced                   6.57 Nvec     \n",
       "133 enhanced                  group enriched            10.47 Nvec     \n",
       "134 enhanced                  low cell type specificity 12.99 Nvec     \n",
       "135 enhanced                  lowly expressed            3.68 Nvec     \n",
       "136 group enriched            cell type enriched        27.66 Nvec     \n",
       "137 group enriched            enhanced                   5.32 Nvec     \n",
       "138 group enriched            group enriched            31.89 Nvec     \n",
       "139 group enriched            low cell type specificity 15.35 Nvec     \n",
       "140 group enriched            lowly expressed           15.19 Nvec     \n",
       "141 low cell type specificity cell type enriched        10.15 Nvec     \n",
       "142 low cell type specificity enhanced                   8.15 Nvec     \n",
       "143 low cell type specificity group enriched            19.62 Nvec     \n",
       "144 low cell type specificity low cell type specificity 40.37 Nvec     \n",
       "145 low cell type specificity lowly expressed            5.67 Nvec     \n",
       "146 lowly expressed           cell type enriched        28.08 Nvec     \n",
       "147 lowly expressed           enhanced                   1.71 Nvec     \n",
       "148 lowly expressed           group enriched            13.39 Nvec     \n",
       "149 lowly expressed           low cell type specificity  2.98 Nvec     \n",
       "150 lowly expressed           lowly expressed           39.25 Nvec     \n",
       "    species_2\n",
       "1   Spis     \n",
       "2   Spis     \n",
       "3   Spis     \n",
       "4   Spis     \n",
       "5   Spis     \n",
       "6   Spis     \n",
       "7   Spis     \n",
       "8   Spis     \n",
       "9   Spis     \n",
       "10  Spis     \n",
       "11  Spis     \n",
       "12  Spis     \n",
       "13  Spis     \n",
       "14  Spis     \n",
       "15  Spis     \n",
       "16  Spis     \n",
       "17  Spis     \n",
       "18  Spis     \n",
       "19  Spis     \n",
       "20  Spis     \n",
       "21  Spis     \n",
       "22  Spis     \n",
       "23  Spis     \n",
       "24  Spis     \n",
       "25  Spis     \n",
       "26  Spis     \n",
       "27  Spis     \n",
       "28  Spis     \n",
       "29  Spis     \n",
       "30  Spis     \n",
       "⋮   ⋮        \n",
       "121 Hvul     \n",
       "122 Hvul     \n",
       "123 Hvul     \n",
       "124 Hvul     \n",
       "125 Hvul     \n",
       "126 Xesp     \n",
       "127 Xesp     \n",
       "128 Xesp     \n",
       "129 Xesp     \n",
       "130 Xesp     \n",
       "131 Xesp     \n",
       "132 Xesp     \n",
       "133 Xesp     \n",
       "134 Xesp     \n",
       "135 Xesp     \n",
       "136 Xesp     \n",
       "137 Xesp     \n",
       "138 Xesp     \n",
       "139 Xesp     \n",
       "140 Xesp     \n",
       "141 Xesp     \n",
       "142 Xesp     \n",
       "143 Xesp     \n",
       "144 Xesp     \n",
       "145 Xesp     \n",
       "146 Xesp     \n",
       "147 Xesp     \n",
       "148 Xesp     \n",
       "149 Xesp     \n",
       "150 Xesp     "
      ]
     },
     "metadata": {},
     "output_type": "display_data"
    }
   ],
   "source": [
    "data_all"
   ]
  },
  {
   "cell_type": "code",
   "execution_count": 14,
   "id": "3ab2a04c-468e-4bff-b390-f99a6cf343a6",
   "metadata": {},
   "outputs": [],
   "source": [
    "fig_all = data_all %>% group_by(spec_category_species_2, spec_category_species_1) %>% mutate(avg_pct_cross_species = mean(pct)) %>% \n",
    "select(spec_category_species_2, spec_category_species_1, avg_pct_cross_species) %>% unique() %>% \n",
    "    ggplot(aes(x = factor(spec_category_species_1, levels = order), y = factor(spec_category_species_2, levels = order), fill = avg_pct_cross_species)) +\n",
    "    geom_tile()  + \n",
    "    geom_text(aes(label = round(avg_pct_cross_species, 2), color = ifelse(avg_pct_cross_species > 70, 'black', 'white')), size = 2, show.legend = FALSE) +\n",
    "        scale_fill_viridis(limits = c(0, 80), breaks = c(0, 10, 20, 30, 40, 50, 60, 70, 80), \n",
    "                       labels = c(0, '10%', '20%', '30%', '40%', '50%', '60%','70%', '80%' ), name = 'Percent\\noverlap') +\n",
    "    common_45x  +\n",
    "    scale_colour_manual(values=c(\"white\"=\"white\", \"black\"=\"black\")) +\n",
    "labs(x = 'Species A gene class', y = 'Species B gene class') "
   ]
  },
  {
   "cell_type": "code",
   "execution_count": 15,
   "id": "5aa69c39-1149-401c-8125-30fa43733abd",
   "metadata": {},
   "outputs": [
    {
     "data": {
      "image/png": "[encoded data removed]",
      "text/plain": [
       "plot without title"
      ]
     },
     "metadata": {
      "image/png": {
       "height": 360,
       "width": 420
      }
     },
     "output_type": "display_data"
    }
   ],
   "source": [
    "fig_all"
   ]
  },
  {
   "cell_type": "code",
   "execution_count": null,
   "id": "206c977b-5140-4a3d-8b5e-461282969d3a",
   "metadata": {},
   "outputs": [],
   "source": []
  },
  {
   "cell_type": "code",
   "execution_count": 16,
   "id": "b2750b2b-17da-41ee-86a8-3811d6a6dc01",
   "metadata": {},
   "outputs": [],
   "source": [
    "order = c( 'lowly expressed', 'low cell type specificity', 'enhanced', 'group enriched', 'cell type enriched')"
   ]
  },
  {
   "cell_type": "code",
   "execution_count": 17,
   "id": "79fc97b8-35d8-4b84-83fe-5f1305a71642",
   "metadata": {},
   "outputs": [],
   "source": [
    "# species order according to phylogenetic tree:\n",
    "# https://www.sciencedirect.com/science/article/pii/S0092867421004402#fig1"
   ]
  },
  {
   "cell_type": "code",
   "execution_count": 18,
   "id": "b201b2e3-798c-44a3-8a3f-01e0e4be3aed",
   "metadata": {},
   "outputs": [],
   "source": [
    "all_pairs_new <- data.frame(\n",
    "  species_1 = c('Nvec', 'Xesp', 'Xesp', 'Hvul', 'Hvul', 'Hvul'),\n",
    "  species_2 = c('Spis', 'Nvec', 'Spis','Xesp', 'Nvec', 'Spis')\n",
    ")"
   ]
  },
  {
   "cell_type": "code",
   "execution_count": 19,
   "id": "7ff477aa-d258-48e0-ba4c-92e66a31af05",
   "metadata": {},
   "outputs": [
    {
     "name": "stderr",
     "output_type": "stream",
     "text": [
      "\u001b[1mRows: \u001b[22m\u001b[34m5\u001b[39m \u001b[1mColumns: \u001b[22m\u001b[34m6\u001b[39m\n",
      "\u001b[36m──\u001b[39m \u001b[1mColumn specification\u001b[22m \u001b[36m────────────────────────────────────────────────────────\u001b[39m\n",
      "\u001b[1mDelimiter:\u001b[22m \",\"\n",
      "\u001b[31mchr\u001b[39m (1): spec_category_Xesp\n",
      "\u001b[32mdbl\u001b[39m (5): cell type enriched, enhanced, group enriched, low cell type specifi...\n",
      "\n",
      "\u001b[36mℹ\u001b[39m Use `spec()` to retrieve the full column specification for this data.\n",
      "\u001b[36mℹ\u001b[39m Specify the column types or set `show_col_types = FALSE` to quiet this message.\n"
     ]
    }
   ],
   "source": [
    "data <- read_csv(paste0(\"o2o_heatmap_data_Nvec_Xesp_1e6_0.1lim_3fold_broad_type.csv\"))"
   ]
  },
  {
   "cell_type": "code",
   "execution_count": 20,
   "id": "980ca411-3ca2-4309-b28c-e07213d6aada",
   "metadata": {},
   "outputs": [
    {
     "data": {
      "text/html": [
       "<table class=\"dataframe\">\n",
       "<caption>A spec_tbl_df: 5 × 6</caption>\n",
       "<thead>\n",
       "\t<tr><th scope=col>spec_category_Xesp</th><th scope=col>cell type enriched</th><th scope=col>enhanced</th><th scope=col>group enriched</th><th scope=col>low cell type specificity</th><th scope=col>lowly expressed</th></tr>\n",
       "\t<tr><th scope=col>&lt;chr&gt;</th><th scope=col>&lt;dbl&gt;</th><th scope=col>&lt;dbl&gt;</th><th scope=col>&lt;dbl&gt;</th><th scope=col>&lt;dbl&gt;</th><th scope=col>&lt;dbl&gt;</th></tr>\n",
       "</thead>\n",
       "<tbody>\n",
       "\t<tr><td>cell type enriched       </td><td>41.36</td><td>3.60</td><td>26.49</td><td> 6.84</td><td>39.09</td></tr>\n",
       "\t<tr><td>enhanced                 </td><td> 5.97</td><td>6.57</td><td>10.47</td><td>12.99</td><td> 3.68</td></tr>\n",
       "\t<tr><td>group enriched           </td><td>27.66</td><td>5.32</td><td>31.89</td><td>15.35</td><td>15.19</td></tr>\n",
       "\t<tr><td>low cell type specificity</td><td>10.15</td><td>8.15</td><td>19.62</td><td>40.37</td><td> 5.67</td></tr>\n",
       "\t<tr><td>lowly expressed          </td><td>28.08</td><td>1.71</td><td>13.39</td><td> 2.98</td><td>39.25</td></tr>\n",
       "</tbody>\n",
       "</table>\n"
      ],
      "text/latex": [
       "A spec\\_tbl\\_df: 5 × 6\n",
       "\\begin{tabular}{llllll}\n",
       " spec\\_category\\_Xesp & cell type enriched & enhanced & group enriched & low cell type specificity & lowly expressed\\\\\n",
       " <chr> & <dbl> & <dbl> & <dbl> & <dbl> & <dbl>\\\\\n",
       "\\hline\n",
       "\t cell type enriched        & 41.36 & 3.60 & 26.49 &  6.84 & 39.09\\\\\n",
       "\t enhanced                  &  5.97 & 6.57 & 10.47 & 12.99 &  3.68\\\\\n",
       "\t group enriched            & 27.66 & 5.32 & 31.89 & 15.35 & 15.19\\\\\n",
       "\t low cell type specificity & 10.15 & 8.15 & 19.62 & 40.37 &  5.67\\\\\n",
       "\t lowly expressed           & 28.08 & 1.71 & 13.39 &  2.98 & 39.25\\\\\n",
       "\\end{tabular}\n"
      ],
      "text/markdown": [
       "\n",
       "A spec_tbl_df: 5 × 6\n",
       "\n",
       "| spec_category_Xesp &lt;chr&gt; | cell type enriched &lt;dbl&gt; | enhanced &lt;dbl&gt; | group enriched &lt;dbl&gt; | low cell type specificity &lt;dbl&gt; | lowly expressed &lt;dbl&gt; |\n",
       "|---|---|---|---|---|---|\n",
       "| cell type enriched        | 41.36 | 3.60 | 26.49 |  6.84 | 39.09 |\n",
       "| enhanced                  |  5.97 | 6.57 | 10.47 | 12.99 |  3.68 |\n",
       "| group enriched            | 27.66 | 5.32 | 31.89 | 15.35 | 15.19 |\n",
       "| low cell type specificity | 10.15 | 8.15 | 19.62 | 40.37 |  5.67 |\n",
       "| lowly expressed           | 28.08 | 1.71 | 13.39 |  2.98 | 39.25 |\n",
       "\n"
      ],
      "text/plain": [
       "  spec_category_Xesp        cell type enriched enhanced group enriched\n",
       "1 cell type enriched        41.36              3.60     26.49         \n",
       "2 enhanced                   5.97              6.57     10.47         \n",
       "3 group enriched            27.66              5.32     31.89         \n",
       "4 low cell type specificity 10.15              8.15     19.62         \n",
       "5 lowly expressed           28.08              1.71     13.39         \n",
       "  low cell type specificity lowly expressed\n",
       "1  6.84                     39.09          \n",
       "2 12.99                      3.68          \n",
       "3 15.35                     15.19          \n",
       "4 40.37                      5.67          \n",
       "5  2.98                     39.25          "
      ]
     },
     "metadata": {},
     "output_type": "display_data"
    }
   ],
   "source": [
    "data"
   ]
  },
  {
   "cell_type": "code",
   "execution_count": 21,
   "id": "ade0ce8c-612a-48be-8233-cc0098637121",
   "metadata": {},
   "outputs": [],
   "source": [
    "df = t(data) %>% as.data.frame() "
   ]
  },
  {
   "cell_type": "code",
   "execution_count": 22,
   "id": "6bfc71bc-4600-477e-8d67-62a32b538f46",
   "metadata": {},
   "outputs": [],
   "source": [
    "colnames(df) <- df[1,]"
   ]
  },
  {
   "cell_type": "code",
   "execution_count": 23,
   "id": "d735feb0-040e-4b79-bb4f-98082f4ba22f",
   "metadata": {},
   "outputs": [
    {
     "data": {
      "text/html": [
       "<table class=\"dataframe\">\n",
       "<caption>A data.frame: 6 × 5</caption>\n",
       "<thead>\n",
       "\t<tr><th></th><th scope=col>cell type enriched</th><th scope=col>enhanced</th><th scope=col>group enriched</th><th scope=col>low cell type specificity</th><th scope=col>lowly expressed</th></tr>\n",
       "\t<tr><th></th><th scope=col>&lt;chr&gt;</th><th scope=col>&lt;chr&gt;</th><th scope=col>&lt;chr&gt;</th><th scope=col>&lt;chr&gt;</th><th scope=col>&lt;chr&gt;</th></tr>\n",
       "</thead>\n",
       "<tbody>\n",
       "\t<tr><th scope=row>spec_category_Xesp</th><td>cell type enriched</td><td>enhanced</td><td>group enriched</td><td>low cell type specificity</td><td>lowly expressed</td></tr>\n",
       "\t<tr><th scope=row>cell type enriched</th><td>41.36             </td><td> 5.97   </td><td>27.66         </td><td>10.15                    </td><td>28.08          </td></tr>\n",
       "\t<tr><th scope=row>enhanced</th><td>3.60              </td><td>6.57    </td><td>5.32          </td><td>8.15                     </td><td>1.71           </td></tr>\n",
       "\t<tr><th scope=row>group enriched</th><td>26.49             </td><td>10.47   </td><td>31.89         </td><td>19.62                    </td><td>13.39          </td></tr>\n",
       "\t<tr><th scope=row>low cell type specificity</th><td> 6.84             </td><td>12.99   </td><td>15.35         </td><td>40.37                    </td><td> 2.98          </td></tr>\n",
       "\t<tr><th scope=row>lowly expressed</th><td>39.09             </td><td> 3.68   </td><td>15.19         </td><td> 5.67                    </td><td>39.25          </td></tr>\n",
       "</tbody>\n",
       "</table>\n"
      ],
      "text/latex": [
       "A data.frame: 6 × 5\n",
       "\\begin{tabular}{r|lllll}\n",
       "  & cell type enriched & enhanced & group enriched & low cell type specificity & lowly expressed\\\\\n",
       "  & <chr> & <chr> & <chr> & <chr> & <chr>\\\\\n",
       "\\hline\n",
       "\tspec\\_category\\_Xesp & cell type enriched & enhanced & group enriched & low cell type specificity & lowly expressed\\\\\n",
       "\tcell type enriched & 41.36              &  5.97    & 27.66          & 10.15                     & 28.08          \\\\\n",
       "\tenhanced & 3.60               & 6.57     & 5.32           & 8.15                      & 1.71           \\\\\n",
       "\tgroup enriched & 26.49              & 10.47    & 31.89          & 19.62                     & 13.39          \\\\\n",
       "\tlow cell type specificity &  6.84              & 12.99    & 15.35          & 40.37                     &  2.98          \\\\\n",
       "\tlowly expressed & 39.09              &  3.68    & 15.19          &  5.67                     & 39.25          \\\\\n",
       "\\end{tabular}\n"
      ],
      "text/markdown": [
       "\n",
       "A data.frame: 6 × 5\n",
       "\n",
       "| <!--/--> | cell type enriched &lt;chr&gt; | enhanced &lt;chr&gt; | group enriched &lt;chr&gt; | low cell type specificity &lt;chr&gt; | lowly expressed &lt;chr&gt; |\n",
       "|---|---|---|---|---|---|\n",
       "| spec_category_Xesp | cell type enriched | enhanced | group enriched | low cell type specificity | lowly expressed |\n",
       "| cell type enriched | 41.36              |  5.97    | 27.66          | 10.15                     | 28.08           |\n",
       "| enhanced | 3.60               | 6.57     | 5.32           | 8.15                      | 1.71            |\n",
       "| group enriched | 26.49              | 10.47    | 31.89          | 19.62                     | 13.39           |\n",
       "| low cell type specificity |  6.84              | 12.99    | 15.35          | 40.37                     |  2.98           |\n",
       "| lowly expressed | 39.09              |  3.68    | 15.19          |  5.67                     | 39.25           |\n",
       "\n"
      ],
      "text/plain": [
       "                          cell type enriched enhanced group enriched\n",
       "spec_category_Xesp        cell type enriched enhanced group enriched\n",
       "cell type enriched        41.36               5.97    27.66         \n",
       "enhanced                  3.60               6.57     5.32          \n",
       "group enriched            26.49              10.47    31.89         \n",
       "low cell type specificity  6.84              12.99    15.35         \n",
       "lowly expressed           39.09               3.68    15.19         \n",
       "                          low cell type specificity lowly expressed\n",
       "spec_category_Xesp        low cell type specificity lowly expressed\n",
       "cell type enriched        10.15                     28.08          \n",
       "enhanced                  8.15                      1.71           \n",
       "group enriched            19.62                     13.39          \n",
       "low cell type specificity 40.37                      2.98          \n",
       "lowly expressed            5.67                     39.25          "
      ]
     },
     "metadata": {},
     "output_type": "display_data"
    }
   ],
   "source": [
    "df"
   ]
  },
  {
   "cell_type": "code",
   "execution_count": 10,
   "id": "496cebee-8f1a-4a53-893c-dac6aae8f26d",
   "metadata": {},
   "outputs": [],
   "source": [
    "#df[2:6, ] %>% rownames_to_column(\"spec_category_Nvec\") %>% write_csv(paste0(\"o2o_heatmap_data_Xesp_Nvec_1e6_0.1lim_3fold_broad_type.csv\"))"
   ]
  },
  {
   "cell_type": "code",
   "execution_count": 24,
   "id": "cf3f7520-b21a-433b-abf8-62e262673471",
   "metadata": {
    "scrolled": true
   },
   "outputs": [
    {
     "name": "stderr",
     "output_type": "stream",
     "text": [
      "Nvec\n",
      "\n",
      "Spis\n",
      "\n",
      "\u001b[1mRows: \u001b[22m\u001b[34m5\u001b[39m \u001b[1mColumns: \u001b[22m\u001b[34m6\u001b[39m\n",
      "\u001b[36m──\u001b[39m \u001b[1mColumn specification\u001b[22m \u001b[36m────────────────────────────────────────────────────────\u001b[39m\n",
      "\u001b[1mDelimiter:\u001b[22m \",\"\n",
      "\u001b[31mchr\u001b[39m (1): spec_category_Spis\n",
      "\u001b[32mdbl\u001b[39m (5): cell type enriched, enhanced, group enriched, low cell type specifi...\n",
      "\n",
      "\u001b[36mℹ\u001b[39m Use `spec()` to retrieve the full column specification for this data.\n",
      "\u001b[36mℹ\u001b[39m Specify the column types or set `show_col_types = FALSE` to quiet this message.\n",
      "Xesp\n",
      "\n",
      "Nvec\n",
      "\n",
      "\u001b[1mRows: \u001b[22m\u001b[34m5\u001b[39m \u001b[1mColumns: \u001b[22m\u001b[34m6\u001b[39m\n",
      "\u001b[36m──\u001b[39m \u001b[1mColumn specification\u001b[22m \u001b[36m────────────────────────────────────────────────────────\u001b[39m\n",
      "\u001b[1mDelimiter:\u001b[22m \",\"\n",
      "\u001b[31mchr\u001b[39m (1): spec_category_Nvec\n",
      "\u001b[32mdbl\u001b[39m (5): cell type enriched, enhanced, group enriched, low cell type specifi...\n",
      "\n",
      "\u001b[36mℹ\u001b[39m Use `spec()` to retrieve the full column specification for this data.\n",
      "\u001b[36mℹ\u001b[39m Specify the column types or set `show_col_types = FALSE` to quiet this message.\n",
      "Xesp\n",
      "\n",
      "Spis\n",
      "\n",
      "\u001b[1mRows: \u001b[22m\u001b[34m5\u001b[39m \u001b[1mColumns: \u001b[22m\u001b[34m6\u001b[39m\n",
      "\u001b[36m──\u001b[39m \u001b[1mColumn specification\u001b[22m \u001b[36m────────────────────────────────────────────────────────\u001b[39m\n",
      "\u001b[1mDelimiter:\u001b[22m \",\"\n",
      "\u001b[31mchr\u001b[39m (1): spec_category_Spis\n",
      "\u001b[32mdbl\u001b[39m (5): cell type enriched, enhanced, group enriched, low cell type specifi...\n",
      "\n",
      "\u001b[36mℹ\u001b[39m Use `spec()` to retrieve the full column specification for this data.\n",
      "\u001b[36mℹ\u001b[39m Specify the column types or set `show_col_types = FALSE` to quiet this message.\n",
      "Hvul\n",
      "\n",
      "Xesp\n",
      "\n",
      "\u001b[1mRows: \u001b[22m\u001b[34m5\u001b[39m \u001b[1mColumns: \u001b[22m\u001b[34m6\u001b[39m\n",
      "\u001b[36m──\u001b[39m \u001b[1mColumn specification\u001b[22m \u001b[36m────────────────────────────────────────────────────────\u001b[39m\n",
      "\u001b[1mDelimiter:\u001b[22m \",\"\n",
      "\u001b[31mchr\u001b[39m (1): spec_category_Xesp\n",
      "\u001b[32mdbl\u001b[39m (5): cell type enriched, enhanced, group enriched, low cell type specifi...\n",
      "\n",
      "\u001b[36mℹ\u001b[39m Use `spec()` to retrieve the full column specification for this data.\n",
      "\u001b[36mℹ\u001b[39m Specify the column types or set `show_col_types = FALSE` to quiet this message.\n",
      "Hvul\n",
      "\n",
      "Nvec\n",
      "\n",
      "\u001b[1mRows: \u001b[22m\u001b[34m5\u001b[39m \u001b[1mColumns: \u001b[22m\u001b[34m6\u001b[39m\n",
      "\u001b[36m──\u001b[39m \u001b[1mColumn specification\u001b[22m \u001b[36m────────────────────────────────────────────────────────\u001b[39m\n",
      "\u001b[1mDelimiter:\u001b[22m \",\"\n",
      "\u001b[31mchr\u001b[39m (1): spec_category_Nvec\n",
      "\u001b[32mdbl\u001b[39m (5): cell type enriched, enhanced, group enriched, low cell type specifi...\n",
      "\n",
      "\u001b[36mℹ\u001b[39m Use `spec()` to retrieve the full column specification for this data.\n",
      "\u001b[36mℹ\u001b[39m Specify the column types or set `show_col_types = FALSE` to quiet this message.\n",
      "Hvul\n",
      "\n",
      "Spis\n",
      "\n",
      "\u001b[1mRows: \u001b[22m\u001b[34m5\u001b[39m \u001b[1mColumns: \u001b[22m\u001b[34m6\u001b[39m\n",
      "\u001b[36m──\u001b[39m \u001b[1mColumn specification\u001b[22m \u001b[36m────────────────────────────────────────────────────────\u001b[39m\n",
      "\u001b[1mDelimiter:\u001b[22m \",\"\n",
      "\u001b[31mchr\u001b[39m (1): spec_category_Spis\n",
      "\u001b[32mdbl\u001b[39m (5): cell type enriched, enhanced, group enriched, low cell type specifi...\n",
      "\n",
      "\u001b[36mℹ\u001b[39m Use `spec()` to retrieve the full column specification for this data.\n",
      "\u001b[36mℹ\u001b[39m Specify the column types or set `show_col_types = FALSE` to quiet this message.\n"
     ]
    }
   ],
   "source": [
    "data_all = data.frame()\n",
    "\n",
    "\n",
    "# Iterate over rows and assign values to species_1 and species_2\n",
    "for (i in 1:nrow(all_pairs_new)) {\n",
    "    species_1 <- all_pairs_new[i, 'species_1']\n",
    "    species_2 <- all_pairs_new[i, 'species_2']\n",
    "\n",
    "    message(species_1)\n",
    "    message(species_2)\n",
    "\n",
    "    data <- read_csv(paste0(\"o2o_heatmap_data_\", species_1, \"_\", species_2, \"_1e6_0.1lim_3fold_broad_type.csv\"))\n",
    "    fig = data %>% pivot_longer(cols = -c(1), names_to = paste0('spec_category_',species_1), values_to = 'pct')  %>% \n",
    "    rename(spec_category_species_1 = eval(paste0('spec_category_',species_1))) %>% \n",
    "    rename(spec_category_species_2 = eval(paste0('spec_category_',species_2))) %>% \n",
    "    mutate(spec_category_species_1 = factor(spec_category_species_1, levels = order)) %>% \n",
    "    mutate(spec_category_species_2 = factor(spec_category_species_2, levels = order)) %>% \n",
    "    ggplot(aes(x = spec_category_species_1, \n",
    "               y = spec_category_species_2,\n",
    "               fill = pct)) +\n",
    "    geom_tile() + \n",
    "    geom_text(aes(label = pct, color = ifelse(pct > 70, 'black', 'white')), size = 2, show.legend = FALSE) +\n",
    "    scale_fill_viridis(limits = c(0, 80), breaks = c(0, 10, 20, 30, 40, 50, 60, 70, 80), \n",
    "                       labels = c(0, '10%', '20%', '30%', '40%', '50%', '60%','70%', '80%' ), name = 'Percent\\noverlap') +\n",
    "    common_45x  +\n",
    "    scale_colour_manual(values=c(\"white\"=\"white\", \"black\"=\"black\")) +\n",
    "    labs(x = paste0(species_1, ' gene classes'), y = paste0(species_2, ' gene classes'))\n",
    "\n",
    "    #saveRDS(object = fig, file =  paste0(\"o2o_heatmap_figs/\", species_1, \"_\", species_2, \"_one2one_heatmap_r.rds\"))\n",
    "\n",
    "    #ggsave(plot = fig, filename = paste0(\"o2o_heatmap_figs/\", species_1, \"_\", species_2, \"_one2one_heatmap_r.pdf\"), height = 3, width = 4)\n",
    "\n",
    "    data_add = data %>% pivot_longer(cols = -c(1), names_to = paste0('spec_category_',species_1), values_to = 'pct') %>% \n",
    "mutate(species_1 = species_1) %>% mutate(species_2 = species_2) \n",
    "\n",
    "    colnames(data_add) = c('spec_category_species_2', 'spec_category_species_1', 'pct', 'species_1', 'species_2')\n",
    "\n",
    "    data_all = rbind(data_all, data_add)\n",
    "    \n",
    "\n",
    "    \n",
    "}"
   ]
  },
  {
   "cell_type": "code",
   "execution_count": null,
   "id": "f48c3111-7537-4665-91b0-4e8572c1cf40",
   "metadata": {},
   "outputs": [],
   "source": []
  },
  {
   "cell_type": "code",
   "execution_count": 25,
   "id": "fe64f01d-4845-4832-9b8d-30ba94d546ec",
   "metadata": {},
   "outputs": [],
   "source": [
    "fig_all = data_all %>% group_by(spec_category_species_2, spec_category_species_1) %>% mutate(avg_pct_cross_species = mean(pct)) %>% \n",
    "select(spec_category_species_2, spec_category_species_1, avg_pct_cross_species) %>% unique() %>% \n",
    "    ggplot(aes(x = factor(spec_category_species_1, levels = order), y = factor(spec_category_species_2, levels = order), fill = avg_pct_cross_species)) +\n",
    "    geom_tile()  + \n",
    "    geom_text(aes(label = round(avg_pct_cross_species, 2), color = ifelse(avg_pct_cross_species > 70, 'black', 'white')), size = 2, show.legend = FALSE) +\n",
    "        scale_fill_viridis(limits = c(0, 80), breaks = c(0, 10, 20, 30, 40, 50, 60, 70, 80), \n",
    "                       labels = c(0, '10%', '20%', '30%', '40%', '50%', '60%','70%', '80%' ), name = 'Percent\\noverlap') +\n",
    "    common_45x  +\n",
    "    scale_colour_manual(values=c(\"white\"=\"white\", \"black\"=\"black\")) +\n",
    "labs(x = 'Species A gene class', y = 'Species B gene class') "
   ]
  },
  {
   "cell_type": "code",
   "execution_count": 26,
   "id": "0e390d18-c70e-4f95-982a-dca23f2a124a",
   "metadata": {},
   "outputs": [
    {
     "data": {
      "image/png": "[encoded data removed]",
      "text/plain": [
       "plot without title"
      ]
     },
     "metadata": {
      "image/png": {
       "height": 360,
       "width": 420
      }
     },
     "output_type": "display_data"
    }
   ],
   "source": [
    "fig_all"
   ]
  },
  {
   "cell_type": "code",
   "execution_count": 27,
   "id": "dbc92392-251e-4d11-adce-152ff6e51be6",
   "metadata": {},
   "outputs": [
    {
     "name": "stderr",
     "output_type": "stream",
     "text": [
      "Warning message:\n",
      "“‘mode(bg)’ differs between new and previous\n",
      "\t ==> NOT changing ‘bg’”\n"
     ]
    }
   ],
   "source": [
    "saveRDS(object = fig_all, file =  paste0(\"o2o_heatmap_figs/\", \"avg_species_a_b_one2one_heatmap_r_80max.rds\"))\n",
    "\n",
    "ggsave(plot = fig_all, filename = paste0(\"o2o_heatmap_figs/\", \"avg_species_a_b_one2one_heatmap_r_80max.pdf\"), height = 3, width = 4)\n"
   ]
  },
  {
   "cell_type": "code",
   "execution_count": null,
   "id": "e983dc6d-1ba9-420e-800f-e1fc3639264b",
   "metadata": {},
   "outputs": [],
   "source": []
  }
 ],
 "metadata": {
  "kernelspec": {
   "display_name": "r-seurat",
   "language": "R",
   "name": "rseurat"
  },
  "language_info": {
   "codemirror_mode": "r",
   "file_extension": ".r",
   "mimetype": "text/x-r-source",
   "name": "R",
   "pygments_lexer": "r",
   "version": "4.0.5"
  }
 },
 "nbformat": 4,
 "nbformat_minor": 5
}
